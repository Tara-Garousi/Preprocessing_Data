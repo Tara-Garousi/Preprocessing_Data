{
 "cells": [
  {
   "cell_type": "markdown",
<<<<<<< HEAD
   "metadata": {
    "colab_type": "text",
    "id": "view-in-github"
   },
   "source": [
    "<a href=\"https://colab.research.google.com/github/ehsan74814/Preprocessing_Data/blob/main/Preprocessing_Data.ipynb\" target=\"_parent\"><img src=\"https://colab.research.google.com/assets/colab-badge.svg\" alt=\"Open In Colab\"/></a>"
   ]
  },
  {
   "cell_type": "code",
   "execution_count": null,
   "metadata": {
    "id": "Y7wcFuH9Q9vs"
   },
   "outputs": [],
   "source": [
    "from google.colab import drive\n",
    "drive.mount(\"/content/drive/\")"
   ]
  },
  {
   "cell_type": "markdown",
=======
>>>>>>> master
   "metadata": {},
   "source": [
    "__contents:__\n",
    "1. [Import Library](#Import_Library)\n",
    "2. [Data Collection](#data_collection)\n",
    "3. [Exploration and Understanding](#Exploration-and-Understanding)\n",
    "   + 3.1. [View Data Structure](#View-Data-Structure)\n",
    "   + 3.2. [Desceiptive Statistics](#Desceiptive_Statistics)\n",
    "   + 3.3. [Specify the number of rows and columns](#Specify_the_number_of_rows_and_columns)\n",
    "   + 3.4. [Specify the name of the column header](#Specify_the_name_of_the_column_header)\n",
    "   + 3.5. [Rename columns](#Rename_columns)\n",
    "   + 3.6. [Delete a column or a row](#Delete_a_column_or_a_row)\n",
    "   + 3.7. [add a column](#add_a_column)\n",
    "   + 3.8. [add a row](#add_a_row)\n",
    "4. [Handling Missing Value](#Handling_Missing_Value)\n",
    "    + 4.1. [identify missing value](#identify_missing_value)\n",
    "        * 4.1.1. [Identify the row that are completely empty](#Identify_the_row_that_are_completely_empty)\n",
    "        * 4.1.2. [imputation or removal](#imputation_or_removal)\n",
    "5. [Data Cleaning](#Data_Cleaning)\n",
    "6. [Identifying outliers](#Identifying_outliers)\n",
    "7. [Data Transformation](#Data_Transformation)\n",
    "    + 7.1. [Scaling](#Scaling)\n",
    "        - 7.1.1. [Normalization](#Normalization)\n",
    "        - 7.1.2. [Standardlization](#Standardlization)\n",
    "        - 7.1.3. [Encoding Categorical Variable](#Encoding_Categorical_Variable)"
   ]
  },
  {
   "cell_type": "markdown",
   "metadata": {
    "id": "xK9TFUoKXYm0"
   },
   "source": [
    "# 1.Import Library <a id='Import_Library'></a>"
   ]
  },
  {
   "cell_type": "code",
<<<<<<< HEAD
   "execution_count": null,
=======
   "execution_count": 2,
>>>>>>> master
   "metadata": {
    "id": "EQJjbEkfXdLw"
   },
   "outputs": [],
   "source": [
    "import numpy as np\n",
    "import pandas as pd\n",
    "import matplotlib.pyplot as plt\n",
    "from scipy import stats\n",
    "import seaborn as sns"
   ]
  },
  {
   "cell_type": "markdown",
   "metadata": {
    "id": "kQHJdDaRRKH8"
   },
   "source": [
    "# 2.Data Collection <a id='data_collection'></a>"
   ]
  },
  {
   "cell_type": "markdown",
   "metadata": {
    "id": "ikUjpKomR-m8"
   },
   "source": [
    "<font color='#808080'>\n",
    "Obtain data from reliable sources, such as datases, websites or CSV files, ... .\n",
    "</font>"
   ]
  },
  {
   "cell_type": "markdown",
   "metadata": {},
   "source": [
    "<font color='#808080'>\n",
    "1) read file Or load the Data\n",
    "</font>"
   ]
  },
  {
   "cell_type": "code",
<<<<<<< HEAD
   "execution_count": null,
   "metadata": {
    "id": "oSrlpiURSNjd"
   },
   "outputs": [],
   "source": [
    "df = pd.read_csv(\"/content/drive/MyDrive/preprocessing data/Data.csv\")\n",
    "df = pd.DataFrame(df)"
=======
   "execution_count": 154,
   "metadata": {
    "id": "oSrlpiURSNjd"
   },
   "outputs": [
    {
     "data": {
      "text/html": [
       "<div>\n",
       "<style scoped>\n",
       "    .dataframe tbody tr th:only-of-type {\n",
       "        vertical-align: middle;\n",
       "    }\n",
       "\n",
       "    .dataframe tbody tr th {\n",
       "        vertical-align: top;\n",
       "    }\n",
       "\n",
       "    .dataframe thead th {\n",
       "        text-align: right;\n",
       "    }\n",
       "</style>\n",
       "<table border=\"1\" class=\"dataframe\">\n",
       "  <thead>\n",
       "    <tr style=\"text-align: right;\">\n",
       "      <th></th>\n",
       "      <th>Pregnancies</th>\n",
       "      <th>Glucose</th>\n",
       "      <th>BloodPressure</th>\n",
       "      <th>SkinThickness</th>\n",
       "      <th>Insulin</th>\n",
       "      <th>BMI</th>\n",
       "      <th>DiabetesPedigreeFunction</th>\n",
       "      <th>Age</th>\n",
       "      <th>Outcome</th>\n",
       "    </tr>\n",
       "  </thead>\n",
       "  <tbody>\n",
       "    <tr>\n",
       "      <th>0</th>\n",
       "      <td>6</td>\n",
       "      <td>148</td>\n",
       "      <td>72</td>\n",
       "      <td>35</td>\n",
       "      <td>0</td>\n",
       "      <td>33.6</td>\n",
       "      <td>0.627</td>\n",
       "      <td>50</td>\n",
       "      <td>1</td>\n",
       "    </tr>\n",
       "    <tr>\n",
       "      <th>1</th>\n",
       "      <td>1</td>\n",
       "      <td>85</td>\n",
       "      <td>66</td>\n",
       "      <td>29</td>\n",
       "      <td>0</td>\n",
       "      <td>26.6</td>\n",
       "      <td>0.351</td>\n",
       "      <td>31</td>\n",
       "      <td>0</td>\n",
       "    </tr>\n",
       "    <tr>\n",
       "      <th>2</th>\n",
       "      <td>8</td>\n",
       "      <td>183</td>\n",
       "      <td>64</td>\n",
       "      <td>0</td>\n",
       "      <td>0</td>\n",
       "      <td>23.3</td>\n",
       "      <td>0.672</td>\n",
       "      <td>32</td>\n",
       "      <td>1</td>\n",
       "    </tr>\n",
       "    <tr>\n",
       "      <th>3</th>\n",
       "      <td>1</td>\n",
       "      <td>89</td>\n",
       "      <td>66</td>\n",
       "      <td>23</td>\n",
       "      <td>94</td>\n",
       "      <td>28.1</td>\n",
       "      <td>0.167</td>\n",
       "      <td>21</td>\n",
       "      <td>0</td>\n",
       "    </tr>\n",
       "    <tr>\n",
       "      <th>4</th>\n",
       "      <td>0</td>\n",
       "      <td>137</td>\n",
       "      <td>40</td>\n",
       "      <td>35</td>\n",
       "      <td>168</td>\n",
       "      <td>43.1</td>\n",
       "      <td>2.288</td>\n",
       "      <td>33</td>\n",
       "      <td>1</td>\n",
       "    </tr>\n",
       "    <tr>\n",
       "      <th>...</th>\n",
       "      <td>...</td>\n",
       "      <td>...</td>\n",
       "      <td>...</td>\n",
       "      <td>...</td>\n",
       "      <td>...</td>\n",
       "      <td>...</td>\n",
       "      <td>...</td>\n",
       "      <td>...</td>\n",
       "      <td>...</td>\n",
       "    </tr>\n",
       "    <tr>\n",
       "      <th>763</th>\n",
       "      <td>10</td>\n",
       "      <td>101</td>\n",
       "      <td>76</td>\n",
       "      <td>48</td>\n",
       "      <td>180</td>\n",
       "      <td>32.9</td>\n",
       "      <td>0.171</td>\n",
       "      <td>63</td>\n",
       "      <td>0</td>\n",
       "    </tr>\n",
       "    <tr>\n",
       "      <th>764</th>\n",
       "      <td>2</td>\n",
       "      <td>122</td>\n",
       "      <td>70</td>\n",
       "      <td>27</td>\n",
       "      <td>0</td>\n",
       "      <td>36.8</td>\n",
       "      <td>0.340</td>\n",
       "      <td>27</td>\n",
       "      <td>0</td>\n",
       "    </tr>\n",
       "    <tr>\n",
       "      <th>765</th>\n",
       "      <td>5</td>\n",
       "      <td>121</td>\n",
       "      <td>72</td>\n",
       "      <td>23</td>\n",
       "      <td>112</td>\n",
       "      <td>26.2</td>\n",
       "      <td>0.245</td>\n",
       "      <td>30</td>\n",
       "      <td>0</td>\n",
       "    </tr>\n",
       "    <tr>\n",
       "      <th>766</th>\n",
       "      <td>1</td>\n",
       "      <td>126</td>\n",
       "      <td>60</td>\n",
       "      <td>0</td>\n",
       "      <td>0</td>\n",
       "      <td>30.1</td>\n",
       "      <td>0.349</td>\n",
       "      <td>47</td>\n",
       "      <td>1</td>\n",
       "    </tr>\n",
       "    <tr>\n",
       "      <th>767</th>\n",
       "      <td>1</td>\n",
       "      <td>93</td>\n",
       "      <td>70</td>\n",
       "      <td>31</td>\n",
       "      <td>0</td>\n",
       "      <td>30.4</td>\n",
       "      <td>0.315</td>\n",
       "      <td>23</td>\n",
       "      <td>0</td>\n",
       "    </tr>\n",
       "  </tbody>\n",
       "</table>\n",
       "<p>768 rows × 9 columns</p>\n",
       "</div>"
      ],
      "text/plain": [
       "     Pregnancies  Glucose  BloodPressure  SkinThickness  Insulin   BMI  \\\n",
       "0              6      148             72             35        0  33.6   \n",
       "1              1       85             66             29        0  26.6   \n",
       "2              8      183             64              0        0  23.3   \n",
       "3              1       89             66             23       94  28.1   \n",
       "4              0      137             40             35      168  43.1   \n",
       "..           ...      ...            ...            ...      ...   ...   \n",
       "763           10      101             76             48      180  32.9   \n",
       "764            2      122             70             27        0  36.8   \n",
       "765            5      121             72             23      112  26.2   \n",
       "766            1      126             60              0        0  30.1   \n",
       "767            1       93             70             31        0  30.4   \n",
       "\n",
       "     DiabetesPedigreeFunction  Age  Outcome  \n",
       "0                       0.627   50        1  \n",
       "1                       0.351   31        0  \n",
       "2                       0.672   32        1  \n",
       "3                       0.167   21        0  \n",
       "4                       2.288   33        1  \n",
       "..                        ...  ...      ...  \n",
       "763                     0.171   63        0  \n",
       "764                     0.340   27        0  \n",
       "765                     0.245   30        0  \n",
       "766                     0.349   47        1  \n",
       "767                     0.315   23        0  \n",
       "\n",
       "[768 rows x 9 columns]"
      ]
     },
     "execution_count": 154,
     "metadata": {},
     "output_type": "execute_result"
    }
   ],
   "source": [
    "df = pd.read_csv(\"diabetes.csv\")\n",
    "df = pd.DataFrame(df)\n",
    "df"
>>>>>>> master
   ]
  },
  {
   "cell_type": "markdown",
   "metadata": {
    "id": "jaT97T89ZKs4"
   },
   "source": [
<<<<<<< HEAD
    "# 3.Exploration and Understanding <a id='Exploration and Understanding'></a>"
=======
    "# 3.Exploration and Understanding <a id='Exploration_and_Understanding'></a>"
>>>>>>> master
   ]
  },
  {
   "cell_type": "markdown",
   "metadata": {
    "id": "VJcb9LPUZQip"
   },
   "source": [
    "## 3.1.View Data Structure <a id='View Data Structure'></a>"
   ]
  },
  {
   "cell_type": "markdown",
   "metadata": {},
   "source": [
    "- ```df.head()```: <font color='#808080'> Displays the first 5 rows of the DataFrame or the first 10 rows if ```df.head(10)``` is used. </font>s."
   ]
  },
  {
   "cell_type": "code",
<<<<<<< HEAD
   "execution_count": null,
   "metadata": {},
   "outputs": [],
   "source": [
    "df.head()\n",
=======
   "execution_count": 158,
   "metadata": {},
   "outputs": [
    {
     "data": {
      "text/html": [
       "<div>\n",
       "<style scoped>\n",
       "    .dataframe tbody tr th:only-of-type {\n",
       "        vertical-align: middle;\n",
       "    }\n",
       "\n",
       "    .dataframe tbody tr th {\n",
       "        vertical-align: top;\n",
       "    }\n",
       "\n",
       "    .dataframe thead th {\n",
       "        text-align: right;\n",
       "    }\n",
       "</style>\n",
       "<table border=\"1\" class=\"dataframe\">\n",
       "  <thead>\n",
       "    <tr style=\"text-align: right;\">\n",
       "      <th></th>\n",
       "      <th>Pregnancies</th>\n",
       "      <th>Glucose</th>\n",
       "      <th>BloodPressure</th>\n",
       "      <th>SkinThickness</th>\n",
       "      <th>Insulin</th>\n",
       "      <th>BMI</th>\n",
       "      <th>DiabetesPedigreeFunction</th>\n",
       "      <th>Age</th>\n",
       "      <th>Outcome</th>\n",
       "    </tr>\n",
       "  </thead>\n",
       "  <tbody>\n",
       "    <tr>\n",
       "      <th>0</th>\n",
       "      <td>6</td>\n",
       "      <td>148</td>\n",
       "      <td>72</td>\n",
       "      <td>35</td>\n",
       "      <td>0</td>\n",
       "      <td>33.6</td>\n",
       "      <td>0.627</td>\n",
       "      <td>50</td>\n",
       "      <td>1</td>\n",
       "    </tr>\n",
       "    <tr>\n",
       "      <th>1</th>\n",
       "      <td>1</td>\n",
       "      <td>85</td>\n",
       "      <td>66</td>\n",
       "      <td>29</td>\n",
       "      <td>0</td>\n",
       "      <td>26.6</td>\n",
       "      <td>0.351</td>\n",
       "      <td>31</td>\n",
       "      <td>0</td>\n",
       "    </tr>\n",
       "    <tr>\n",
       "      <th>2</th>\n",
       "      <td>8</td>\n",
       "      <td>183</td>\n",
       "      <td>64</td>\n",
       "      <td>0</td>\n",
       "      <td>0</td>\n",
       "      <td>23.3</td>\n",
       "      <td>0.672</td>\n",
       "      <td>32</td>\n",
       "      <td>1</td>\n",
       "    </tr>\n",
       "    <tr>\n",
       "      <th>3</th>\n",
       "      <td>1</td>\n",
       "      <td>89</td>\n",
       "      <td>66</td>\n",
       "      <td>23</td>\n",
       "      <td>94</td>\n",
       "      <td>28.1</td>\n",
       "      <td>0.167</td>\n",
       "      <td>21</td>\n",
       "      <td>0</td>\n",
       "    </tr>\n",
       "    <tr>\n",
       "      <th>4</th>\n",
       "      <td>0</td>\n",
       "      <td>137</td>\n",
       "      <td>40</td>\n",
       "      <td>35</td>\n",
       "      <td>168</td>\n",
       "      <td>43.1</td>\n",
       "      <td>2.288</td>\n",
       "      <td>33</td>\n",
       "      <td>1</td>\n",
       "    </tr>\n",
       "    <tr>\n",
       "      <th>5</th>\n",
       "      <td>5</td>\n",
       "      <td>116</td>\n",
       "      <td>74</td>\n",
       "      <td>0</td>\n",
       "      <td>0</td>\n",
       "      <td>25.6</td>\n",
       "      <td>0.201</td>\n",
       "      <td>30</td>\n",
       "      <td>0</td>\n",
       "    </tr>\n",
       "    <tr>\n",
       "      <th>6</th>\n",
       "      <td>3</td>\n",
       "      <td>78</td>\n",
       "      <td>50</td>\n",
       "      <td>32</td>\n",
       "      <td>88</td>\n",
       "      <td>31.0</td>\n",
       "      <td>0.248</td>\n",
       "      <td>26</td>\n",
       "      <td>1</td>\n",
       "    </tr>\n",
       "    <tr>\n",
       "      <th>7</th>\n",
       "      <td>10</td>\n",
       "      <td>115</td>\n",
       "      <td>0</td>\n",
       "      <td>0</td>\n",
       "      <td>0</td>\n",
       "      <td>35.3</td>\n",
       "      <td>0.134</td>\n",
       "      <td>29</td>\n",
       "      <td>0</td>\n",
       "    </tr>\n",
       "    <tr>\n",
       "      <th>8</th>\n",
       "      <td>2</td>\n",
       "      <td>197</td>\n",
       "      <td>70</td>\n",
       "      <td>45</td>\n",
       "      <td>543</td>\n",
       "      <td>30.5</td>\n",
       "      <td>0.158</td>\n",
       "      <td>53</td>\n",
       "      <td>1</td>\n",
       "    </tr>\n",
       "    <tr>\n",
       "      <th>9</th>\n",
       "      <td>8</td>\n",
       "      <td>125</td>\n",
       "      <td>96</td>\n",
       "      <td>0</td>\n",
       "      <td>0</td>\n",
       "      <td>0.0</td>\n",
       "      <td>0.232</td>\n",
       "      <td>54</td>\n",
       "      <td>1</td>\n",
       "    </tr>\n",
       "  </tbody>\n",
       "</table>\n",
       "</div>"
      ],
      "text/plain": [
       "   Pregnancies  Glucose  BloodPressure  SkinThickness  Insulin   BMI  \\\n",
       "0            6      148             72             35        0  33.6   \n",
       "1            1       85             66             29        0  26.6   \n",
       "2            8      183             64              0        0  23.3   \n",
       "3            1       89             66             23       94  28.1   \n",
       "4            0      137             40             35      168  43.1   \n",
       "5            5      116             74              0        0  25.6   \n",
       "6            3       78             50             32       88  31.0   \n",
       "7           10      115              0              0        0  35.3   \n",
       "8            2      197             70             45      543  30.5   \n",
       "9            8      125             96              0        0   0.0   \n",
       "\n",
       "   DiabetesPedigreeFunction  Age  Outcome  \n",
       "0                     0.627   50        1  \n",
       "1                     0.351   31        0  \n",
       "2                     0.672   32        1  \n",
       "3                     0.167   21        0  \n",
       "4                     2.288   33        1  \n",
       "5                     0.201   30        0  \n",
       "6                     0.248   26        1  \n",
       "7                     0.134   29        0  \n",
       "8                     0.158   53        1  \n",
       "9                     0.232   54        1  "
      ]
     },
     "execution_count": 158,
     "metadata": {},
     "output_type": "execute_result"
    }
   ],
   "source": [
    "# df.head()\n",
>>>>>>> master
    "df.head(10)"
   ]
  },
  {
   "cell_type": "markdown",
   "metadata": {},
   "source": [
    "- ```df.info()```: <font color='#808080'> Provides a concise summary of the DataFrame, including data types and non-null values. </font>"
   ]
  },
  {
   "cell_type": "code",
<<<<<<< HEAD
   "execution_count": null,
   "metadata": {},
   "outputs": [],
=======
   "execution_count": 14,
   "metadata": {},
   "outputs": [
    {
     "name": "stdout",
     "output_type": "stream",
     "text": [
      "<class 'pandas.core.frame.DataFrame'>\n",
      "RangeIndex: 768 entries, 0 to 767\n",
      "Data columns (total 9 columns):\n",
      " #   Column                    Non-Null Count  Dtype  \n",
      "---  ------                    --------------  -----  \n",
      " 0   Pregnancies               768 non-null    int64  \n",
      " 1   Glucose                   768 non-null    int64  \n",
      " 2   BloodPressure             768 non-null    int64  \n",
      " 3   SkinThickness             768 non-null    int64  \n",
      " 4   Insulin                   768 non-null    int64  \n",
      " 5   BMI                       768 non-null    float64\n",
      " 6   DiabetesPedigreeFunction  768 non-null    float64\n",
      " 7   Age                       768 non-null    int64  \n",
      " 8   Outcome                   768 non-null    int64  \n",
      "dtypes: float64(2), int64(7)\n",
      "memory usage: 54.1 KB\n"
     ]
    }
   ],
>>>>>>> master
   "source": [
    "df.info()"
   ]
  },
  {
   "cell_type": "markdown",
   "metadata": {},
   "source": [
    "- ```df.tail()```: <font color='#808080'> Displays the last 5 rows of the DataFrame (or the last 10 rows if `df.tail(10)` is used). </font>"
   ]
  },
  {
   "cell_type": "code",
<<<<<<< HEAD
   "execution_count": null,
   "metadata": {},
   "outputs": [],
   "source": [
    "df.tail()\n",
=======
   "execution_count": 162,
   "metadata": {},
   "outputs": [
    {
     "data": {
      "text/html": [
       "<div>\n",
       "<style scoped>\n",
       "    .dataframe tbody tr th:only-of-type {\n",
       "        vertical-align: middle;\n",
       "    }\n",
       "\n",
       "    .dataframe tbody tr th {\n",
       "        vertical-align: top;\n",
       "    }\n",
       "\n",
       "    .dataframe thead th {\n",
       "        text-align: right;\n",
       "    }\n",
       "</style>\n",
       "<table border=\"1\" class=\"dataframe\">\n",
       "  <thead>\n",
       "    <tr style=\"text-align: right;\">\n",
       "      <th></th>\n",
       "      <th>Pregnancies</th>\n",
       "      <th>Glucose</th>\n",
       "      <th>BloodPressure</th>\n",
       "      <th>SkinThickness</th>\n",
       "      <th>Insulin</th>\n",
       "      <th>BMI</th>\n",
       "      <th>DiabetesPedigreeFunction</th>\n",
       "      <th>Age</th>\n",
       "      <th>Outcome</th>\n",
       "    </tr>\n",
       "  </thead>\n",
       "  <tbody>\n",
       "    <tr>\n",
       "      <th>758</th>\n",
       "      <td>1</td>\n",
       "      <td>106</td>\n",
       "      <td>76</td>\n",
       "      <td>0</td>\n",
       "      <td>0</td>\n",
       "      <td>37.5</td>\n",
       "      <td>0.197</td>\n",
       "      <td>26</td>\n",
       "      <td>0</td>\n",
       "    </tr>\n",
       "    <tr>\n",
       "      <th>759</th>\n",
       "      <td>6</td>\n",
       "      <td>190</td>\n",
       "      <td>92</td>\n",
       "      <td>0</td>\n",
       "      <td>0</td>\n",
       "      <td>35.5</td>\n",
       "      <td>0.278</td>\n",
       "      <td>66</td>\n",
       "      <td>1</td>\n",
       "    </tr>\n",
       "    <tr>\n",
       "      <th>760</th>\n",
       "      <td>2</td>\n",
       "      <td>88</td>\n",
       "      <td>58</td>\n",
       "      <td>26</td>\n",
       "      <td>16</td>\n",
       "      <td>28.4</td>\n",
       "      <td>0.766</td>\n",
       "      <td>22</td>\n",
       "      <td>0</td>\n",
       "    </tr>\n",
       "    <tr>\n",
       "      <th>761</th>\n",
       "      <td>9</td>\n",
       "      <td>170</td>\n",
       "      <td>74</td>\n",
       "      <td>31</td>\n",
       "      <td>0</td>\n",
       "      <td>44.0</td>\n",
       "      <td>0.403</td>\n",
       "      <td>43</td>\n",
       "      <td>1</td>\n",
       "    </tr>\n",
       "    <tr>\n",
       "      <th>762</th>\n",
       "      <td>9</td>\n",
       "      <td>89</td>\n",
       "      <td>62</td>\n",
       "      <td>0</td>\n",
       "      <td>0</td>\n",
       "      <td>22.5</td>\n",
       "      <td>0.142</td>\n",
       "      <td>33</td>\n",
       "      <td>0</td>\n",
       "    </tr>\n",
       "    <tr>\n",
       "      <th>763</th>\n",
       "      <td>10</td>\n",
       "      <td>101</td>\n",
       "      <td>76</td>\n",
       "      <td>48</td>\n",
       "      <td>180</td>\n",
       "      <td>32.9</td>\n",
       "      <td>0.171</td>\n",
       "      <td>63</td>\n",
       "      <td>0</td>\n",
       "    </tr>\n",
       "    <tr>\n",
       "      <th>764</th>\n",
       "      <td>2</td>\n",
       "      <td>122</td>\n",
       "      <td>70</td>\n",
       "      <td>27</td>\n",
       "      <td>0</td>\n",
       "      <td>36.8</td>\n",
       "      <td>0.340</td>\n",
       "      <td>27</td>\n",
       "      <td>0</td>\n",
       "    </tr>\n",
       "    <tr>\n",
       "      <th>765</th>\n",
       "      <td>5</td>\n",
       "      <td>121</td>\n",
       "      <td>72</td>\n",
       "      <td>23</td>\n",
       "      <td>112</td>\n",
       "      <td>26.2</td>\n",
       "      <td>0.245</td>\n",
       "      <td>30</td>\n",
       "      <td>0</td>\n",
       "    </tr>\n",
       "    <tr>\n",
       "      <th>766</th>\n",
       "      <td>1</td>\n",
       "      <td>126</td>\n",
       "      <td>60</td>\n",
       "      <td>0</td>\n",
       "      <td>0</td>\n",
       "      <td>30.1</td>\n",
       "      <td>0.349</td>\n",
       "      <td>47</td>\n",
       "      <td>1</td>\n",
       "    </tr>\n",
       "    <tr>\n",
       "      <th>767</th>\n",
       "      <td>1</td>\n",
       "      <td>93</td>\n",
       "      <td>70</td>\n",
       "      <td>31</td>\n",
       "      <td>0</td>\n",
       "      <td>30.4</td>\n",
       "      <td>0.315</td>\n",
       "      <td>23</td>\n",
       "      <td>0</td>\n",
       "    </tr>\n",
       "  </tbody>\n",
       "</table>\n",
       "</div>"
      ],
      "text/plain": [
       "     Pregnancies  Glucose  BloodPressure  SkinThickness  Insulin   BMI  \\\n",
       "758            1      106             76              0        0  37.5   \n",
       "759            6      190             92              0        0  35.5   \n",
       "760            2       88             58             26       16  28.4   \n",
       "761            9      170             74             31        0  44.0   \n",
       "762            9       89             62              0        0  22.5   \n",
       "763           10      101             76             48      180  32.9   \n",
       "764            2      122             70             27        0  36.8   \n",
       "765            5      121             72             23      112  26.2   \n",
       "766            1      126             60              0        0  30.1   \n",
       "767            1       93             70             31        0  30.4   \n",
       "\n",
       "     DiabetesPedigreeFunction  Age  Outcome  \n",
       "758                     0.197   26        0  \n",
       "759                     0.278   66        1  \n",
       "760                     0.766   22        0  \n",
       "761                     0.403   43        1  \n",
       "762                     0.142   33        0  \n",
       "763                     0.171   63        0  \n",
       "764                     0.340   27        0  \n",
       "765                     0.245   30        0  \n",
       "766                     0.349   47        1  \n",
       "767                     0.315   23        0  "
      ]
     },
     "execution_count": 162,
     "metadata": {},
     "output_type": "execute_result"
    }
   ],
   "source": [
    "# df.tail()\n",
>>>>>>> master
    "df.tail(10)"
   ]
  },
  {
   "cell_type": "markdown",
   "metadata": {},
   "source": [
    "- ```df.sample()```: <font color='#808080'> Returns a random row from the DataFrame (or a random set of 10 rows if ```df.sample(10)``` is used). </font>"
   ]
  },
  {
   "cell_type": "code",
<<<<<<< HEAD
   "execution_count": null,
   "metadata": {},
   "outputs": [],
   "source": [
    "df.sample()\n",
    "df.sample(10)"
=======
   "execution_count": 166,
   "metadata": {},
   "outputs": [
    {
     "data": {
      "text/html": [
       "<div>\n",
       "<style scoped>\n",
       "    .dataframe tbody tr th:only-of-type {\n",
       "        vertical-align: middle;\n",
       "    }\n",
       "\n",
       "    .dataframe tbody tr th {\n",
       "        vertical-align: top;\n",
       "    }\n",
       "\n",
       "    .dataframe thead th {\n",
       "        text-align: right;\n",
       "    }\n",
       "</style>\n",
       "<table border=\"1\" class=\"dataframe\">\n",
       "  <thead>\n",
       "    <tr style=\"text-align: right;\">\n",
       "      <th></th>\n",
       "      <th>Pregnancies</th>\n",
       "      <th>Glucose</th>\n",
       "      <th>BloodPressure</th>\n",
       "      <th>SkinThickness</th>\n",
       "      <th>Insulin</th>\n",
       "      <th>BMI</th>\n",
       "      <th>DiabetesPedigreeFunction</th>\n",
       "      <th>Age</th>\n",
       "      <th>Outcome</th>\n",
       "    </tr>\n",
       "  </thead>\n",
       "  <tbody>\n",
       "    <tr>\n",
       "      <th>410</th>\n",
       "      <td>6</td>\n",
       "      <td>102</td>\n",
       "      <td>90</td>\n",
       "      <td>39</td>\n",
       "      <td>0</td>\n",
       "      <td>35.7</td>\n",
       "      <td>0.674</td>\n",
       "      <td>28</td>\n",
       "      <td>0</td>\n",
       "    </tr>\n",
       "    <tr>\n",
       "      <th>619</th>\n",
       "      <td>0</td>\n",
       "      <td>119</td>\n",
       "      <td>0</td>\n",
       "      <td>0</td>\n",
       "      <td>0</td>\n",
       "      <td>32.4</td>\n",
       "      <td>0.141</td>\n",
       "      <td>24</td>\n",
       "      <td>1</td>\n",
       "    </tr>\n",
       "    <tr>\n",
       "      <th>737</th>\n",
       "      <td>8</td>\n",
       "      <td>65</td>\n",
       "      <td>72</td>\n",
       "      <td>23</td>\n",
       "      <td>0</td>\n",
       "      <td>32.0</td>\n",
       "      <td>0.600</td>\n",
       "      <td>42</td>\n",
       "      <td>0</td>\n",
       "    </tr>\n",
       "    <tr>\n",
       "      <th>257</th>\n",
       "      <td>2</td>\n",
       "      <td>114</td>\n",
       "      <td>68</td>\n",
       "      <td>22</td>\n",
       "      <td>0</td>\n",
       "      <td>28.7</td>\n",
       "      <td>0.092</td>\n",
       "      <td>25</td>\n",
       "      <td>0</td>\n",
       "    </tr>\n",
       "  </tbody>\n",
       "</table>\n",
       "</div>"
      ],
      "text/plain": [
       "     Pregnancies  Glucose  BloodPressure  SkinThickness  Insulin   BMI  \\\n",
       "410            6      102             90             39        0  35.7   \n",
       "619            0      119              0              0        0  32.4   \n",
       "737            8       65             72             23        0  32.0   \n",
       "257            2      114             68             22        0  28.7   \n",
       "\n",
       "     DiabetesPedigreeFunction  Age  Outcome  \n",
       "410                     0.674   28        0  \n",
       "619                     0.141   24        1  \n",
       "737                     0.600   42        0  \n",
       "257                     0.092   25        0  "
      ]
     },
     "execution_count": 166,
     "metadata": {},
     "output_type": "execute_result"
    }
   ],
   "source": [
    "df.sample(4)\n",
    "# df.sample(10)"
>>>>>>> master
   ]
  },
  {
   "cell_type": "markdown",
   "metadata": {},
   "source": [
    "- ```df.index```: <font color='#808080'> Returns the index (row labels) of the DataFrame. </font>"
   ]
  },
  {
   "cell_type": "code",
<<<<<<< HEAD
   "execution_count": null,
   "metadata": {},
   "outputs": [],
=======
   "execution_count": 168,
   "metadata": {},
   "outputs": [
    {
     "data": {
      "text/plain": [
       "RangeIndex(start=0, stop=768, step=1)"
      ]
     },
     "execution_count": 168,
     "metadata": {},
     "output_type": "execute_result"
    }
   ],
>>>>>>> master
   "source": [
    "df.index"
   ]
  },
  {
   "cell_type": "markdown",
   "metadata": {},
   "source": [
    "- ```df.attrs```: <font color='#808080'> Returns a dictionary of global attributes associated with the DataFrame. </font>"
   ]
  },
  {
   "cell_type": "code",
<<<<<<< HEAD
   "execution_count": null,
   "metadata": {},
   "outputs": [],
=======
   "execution_count": 170,
   "metadata": {},
   "outputs": [
    {
     "data": {
      "text/plain": [
       "{}"
      ]
     },
     "execution_count": 170,
     "metadata": {},
     "output_type": "execute_result"
    }
   ],
>>>>>>> master
   "source": [
    "df.attrs"
   ]
  },
  {
   "cell_type": "markdown",
   "metadata": {},
   "source": [
    "- ```df.value_counts()```: <font color='#808080'> Returns the counts of unique values in a Series or DataFrame column, sorted in descending order. </font>"
   ]
  },
  {
   "cell_type": "code",
<<<<<<< HEAD
   "execution_count": null,
   "metadata": {},
   "outputs": [],
   "source": [
    "df.value_counts()"
=======
   "execution_count": 176,
   "metadata": {},
   "outputs": [
    {
     "data": {
      "text/plain": [
       "BloodPressure\n",
       "70     57\n",
       "74     52\n",
       "78     45\n",
       "68     45\n",
       "72     44\n",
       "64     43\n",
       "80     40\n",
       "76     39\n",
       "60     37\n",
       "0      35\n",
       "62     34\n",
       "66     30\n",
       "82     30\n",
       "88     25\n",
       "84     23\n",
       "90     22\n",
       "86     21\n",
       "58     21\n",
       "50     13\n",
       "56     12\n",
       "52     11\n",
       "54     11\n",
       "75      8\n",
       "92      8\n",
       "65      7\n",
       "85      6\n",
       "94      6\n",
       "48      5\n",
       "96      4\n",
       "44      4\n",
       "100     3\n",
       "106     3\n",
       "98      3\n",
       "110     3\n",
       "55      2\n",
       "108     2\n",
       "104     2\n",
       "46      2\n",
       "30      2\n",
       "122     1\n",
       "95      1\n",
       "102     1\n",
       "61      1\n",
       "24      1\n",
       "38      1\n",
       "40      1\n",
       "114     1\n",
       "Name: count, dtype: int64"
      ]
     },
     "execution_count": 176,
     "metadata": {},
     "output_type": "execute_result"
    }
   ],
   "source": [
    "# df.value_counts()\n",
    "df[\"BloodPressure\"].value_counts()"
>>>>>>> master
   ]
  },
  {
   "cell_type": "markdown",
   "metadata": {},
   "source": [
    "- ```df[\"feature\"].value_counts().idxmax()```: <font color='#808080'> Returns the most frequent value (mode) in the \"feature\" column.\n",
    "- ``` df[\"feature\"].value_counts().max() ```: <font color='#808080'>Returns the highest frequency (count) of the most frequent value in the \"feature\" column.\n",
    "- ```df[\"feature\"].value_counts().idxmin() ```: <font color='#808080'>Returns the least frequent value in the \"feature\" column.\n",
    "- ``` df[\"feature\"].value_counts().min()```: <font color='#808080'>Returns the lowest frequency (count) of the least frequent value in the \"feature\" column.\n",
    "</font>"
   ]
  },
  {
   "cell_type": "code",
<<<<<<< HEAD
   "execution_count": null,
   "metadata": {},
   "outputs": [],
   "source": [
    "df[\"feature name\"].value_counts().idxmax()\n",
    "df[\"feature name\"].value_counts().max()\n",
    "df[\"feature name\"].value_counts().idxmin()\n",
    "df[\"feature name\"].value_counts().min()"
=======
   "execution_count": 186,
   "metadata": {},
   "outputs": [
    {
     "data": {
      "text/plain": [
       "1"
      ]
     },
     "execution_count": 186,
     "metadata": {},
     "output_type": "execute_result"
    }
   ],
   "source": [
    "# df[\"BloodPressure\"].value_counts().idxmax()\n",
    "# df[\"BloodPressure\"].value_counts().max()\n",
    "# df[\"BloodPressure\"].value_counts().idxmin()\n",
    "df[\"BloodPressure\"].value_counts().min()"
>>>>>>> master
   ]
  },
  {
   "cell_type": "markdown",
   "metadata": {},
   "source": [
    "- ```df.values```: <font color='#808080'>Returns the DataFrame's data as a NumPy array, excluding the index and column labels.</font>"
   ]
  },
  {
   "cell_type": "code",
<<<<<<< HEAD
   "execution_count": null,
   "metadata": {},
   "outputs": [],
=======
   "execution_count": 50,
   "metadata": {},
   "outputs": [
    {
     "data": {
      "text/plain": [
       "array([[  6.   , 148.   ,  72.   , ...,   0.627,  50.   ,   1.   ],\n",
       "       [  1.   ,  85.   ,  66.   , ...,   0.351,  31.   ,   0.   ],\n",
       "       [  8.   , 183.   ,  64.   , ...,   0.672,  32.   ,   1.   ],\n",
       "       ...,\n",
       "       [  5.   , 121.   ,  72.   , ...,   0.245,  30.   ,   0.   ],\n",
       "       [  1.   , 126.   ,  60.   , ...,   0.349,  47.   ,   1.   ],\n",
       "       [  1.   ,  93.   ,  70.   , ...,   0.315,  23.   ,   0.   ]])"
      ]
     },
     "execution_count": 50,
     "metadata": {},
     "output_type": "execute_result"
    }
   ],
>>>>>>> master
   "source": [
    "df.values"
   ]
  },
  {
   "cell_type": "markdown",
   "metadata": {},
   "source": [
    "- ```df.dtypes```: <font color='#808080'>Returns a Series with the data types of each column in the DataFrame.</font>"
   ]
  },
  {
   "cell_type": "code",
<<<<<<< HEAD
   "execution_count": null,
   "metadata": {},
   "outputs": [],
=======
   "execution_count": 52,
   "metadata": {},
   "outputs": [
    {
     "data": {
      "text/plain": [
       "Pregnancies                   int64\n",
       "Glucose                       int64\n",
       "BloodPressure                 int64\n",
       "SkinThickness                 int64\n",
       "Insulin                       int64\n",
       "BMI                         float64\n",
       "DiabetesPedigreeFunction    float64\n",
       "Age                           int64\n",
       "Outcome                       int64\n",
       "dtype: object"
      ]
     },
     "execution_count": 52,
     "metadata": {},
     "output_type": "execute_result"
    }
   ],
>>>>>>> master
   "source": [
    "df.dtypes"
   ]
  },
  {
   "cell_type": "markdown",
   "metadata": {},
   "source": [
    "- ```df.axes```: <font color='#808080'>Returns a list containing the row and column index objects of the DataFrame, providing the structure of its axes.</font>"
   ]
  },
  {
   "cell_type": "code",
<<<<<<< HEAD
   "execution_count": null,
   "metadata": {},
   "outputs": [],
=======
   "execution_count": 54,
   "metadata": {},
   "outputs": [
    {
     "data": {
      "text/plain": [
       "[RangeIndex(start=0, stop=768, step=1),\n",
       " Index(['Pregnancies', 'Glucose', 'BloodPressure', 'SkinThickness', 'Insulin',\n",
       "        'BMI', 'DiabetesPedigreeFunction', 'Age', 'Outcome'],\n",
       "       dtype='object')]"
      ]
     },
     "execution_count": 54,
     "metadata": {},
     "output_type": "execute_result"
    }
   ],
>>>>>>> master
   "source": [
    "df.axes"
   ]
  },
  {
   "cell_type": "markdown",
   "metadata": {},
   "source": [
    "- ```df.empty```: <font color='#808080'>Returns a boolean value indicating whether the DataFrame is empty (i.e., has no rows).</font>"
   ]
  },
  {
   "cell_type": "code",
<<<<<<< HEAD
   "execution_count": null,
   "metadata": {},
   "outputs": [],
   "source": [
    "df.empty"
=======
   "execution_count": 190,
   "metadata": {},
   "outputs": [
    {
     "data": {
      "text/plain": [
       "False"
      ]
     },
     "execution_count": 190,
     "metadata": {},
     "output_type": "execute_result"
    }
   ],
   "source": [
    "df[\"Outcome\"].empty"
>>>>>>> master
   ]
  },
  {
   "cell_type": "markdown",
   "metadata": {},
   "source": [
    "- ```df.nunique()```: <font color='#808080'>Returns the count of unique values for each column in the DataFrame.\n",
    "- ```df[\"column_name\"].nunique()``` <font color='#808080'>Returns the count of unique values in the specified column (column_name) of the DataFrame) </font>`."
   ]
  },
  {
   "cell_type": "code",
<<<<<<< HEAD
   "execution_count": null,
   "metadata": {},
   "outputs": [],
   "source": [
    "df.nunique()\n",
    "df[\"column_name\"].nunique()"
=======
   "execution_count": 196,
   "metadata": {},
   "outputs": [
    {
     "data": {
      "text/plain": [
       "Pregnancies                  17\n",
       "Glucose                     136\n",
       "BloodPressure                47\n",
       "SkinThickness                51\n",
       "Insulin                     186\n",
       "BMI                         248\n",
       "DiabetesPedigreeFunction    517\n",
       "Age                          52\n",
       "Outcome                       2\n",
       "dtype: int64"
      ]
     },
     "execution_count": 196,
     "metadata": {},
     "output_type": "execute_result"
    }
   ],
   "source": [
    "df.nunique()\n",
    "# df[\"BloodPressure\"].nunique()"
>>>>>>> master
   ]
  },
  {
   "cell_type": "markdown",
   "metadata": {
    "id": "TU63UR-UaJOr"
   },
   "source": [
    "## 3.2.Desceiptive Statistics <a id='Desceiptive_Statistics'></a>"
   ]
  },
  {
   "cell_type": "markdown",
   "metadata": {},
   "source": [
    "- ```df.describe()```: <font color='#808080'>Generates descriptive statistics for the DataFrame.</font>"
   ]
  },
  {
   "cell_type": "code",
<<<<<<< HEAD
   "execution_count": null,
   "metadata": {},
   "outputs": [],
=======
   "execution_count": 66,
   "metadata": {},
   "outputs": [
    {
     "data": {
      "text/html": [
       "<div>\n",
       "<style scoped>\n",
       "    .dataframe tbody tr th:only-of-type {\n",
       "        vertical-align: middle;\n",
       "    }\n",
       "\n",
       "    .dataframe tbody tr th {\n",
       "        vertical-align: top;\n",
       "    }\n",
       "\n",
       "    .dataframe thead th {\n",
       "        text-align: right;\n",
       "    }\n",
       "</style>\n",
       "<table border=\"1\" class=\"dataframe\">\n",
       "  <thead>\n",
       "    <tr style=\"text-align: right;\">\n",
       "      <th></th>\n",
       "      <th>Pregnancies</th>\n",
       "      <th>Glucose</th>\n",
       "      <th>BloodPressure</th>\n",
       "      <th>SkinThickness</th>\n",
       "      <th>Insulin</th>\n",
       "      <th>BMI</th>\n",
       "      <th>DiabetesPedigreeFunction</th>\n",
       "      <th>Age</th>\n",
       "      <th>Outcome</th>\n",
       "    </tr>\n",
       "  </thead>\n",
       "  <tbody>\n",
       "    <tr>\n",
       "      <th>count</th>\n",
       "      <td>768.000000</td>\n",
       "      <td>768.000000</td>\n",
       "      <td>768.000000</td>\n",
       "      <td>768.000000</td>\n",
       "      <td>768.000000</td>\n",
       "      <td>768.000000</td>\n",
       "      <td>768.000000</td>\n",
       "      <td>768.000000</td>\n",
       "      <td>768.000000</td>\n",
       "    </tr>\n",
       "    <tr>\n",
       "      <th>mean</th>\n",
       "      <td>3.845052</td>\n",
       "      <td>120.894531</td>\n",
       "      <td>69.105469</td>\n",
       "      <td>20.536458</td>\n",
       "      <td>79.799479</td>\n",
       "      <td>31.992578</td>\n",
       "      <td>0.471876</td>\n",
       "      <td>33.240885</td>\n",
       "      <td>0.348958</td>\n",
       "    </tr>\n",
       "    <tr>\n",
       "      <th>std</th>\n",
       "      <td>3.369578</td>\n",
       "      <td>31.972618</td>\n",
       "      <td>19.355807</td>\n",
       "      <td>15.952218</td>\n",
       "      <td>115.244002</td>\n",
       "      <td>7.884160</td>\n",
       "      <td>0.331329</td>\n",
       "      <td>11.760232</td>\n",
       "      <td>0.476951</td>\n",
       "    </tr>\n",
       "    <tr>\n",
       "      <th>min</th>\n",
       "      <td>0.000000</td>\n",
       "      <td>0.000000</td>\n",
       "      <td>0.000000</td>\n",
       "      <td>0.000000</td>\n",
       "      <td>0.000000</td>\n",
       "      <td>0.000000</td>\n",
       "      <td>0.078000</td>\n",
       "      <td>21.000000</td>\n",
       "      <td>0.000000</td>\n",
       "    </tr>\n",
       "    <tr>\n",
       "      <th>25%</th>\n",
       "      <td>1.000000</td>\n",
       "      <td>99.000000</td>\n",
       "      <td>62.000000</td>\n",
       "      <td>0.000000</td>\n",
       "      <td>0.000000</td>\n",
       "      <td>27.300000</td>\n",
       "      <td>0.243750</td>\n",
       "      <td>24.000000</td>\n",
       "      <td>0.000000</td>\n",
       "    </tr>\n",
       "    <tr>\n",
       "      <th>50%</th>\n",
       "      <td>3.000000</td>\n",
       "      <td>117.000000</td>\n",
       "      <td>72.000000</td>\n",
       "      <td>23.000000</td>\n",
       "      <td>30.500000</td>\n",
       "      <td>32.000000</td>\n",
       "      <td>0.372500</td>\n",
       "      <td>29.000000</td>\n",
       "      <td>0.000000</td>\n",
       "    </tr>\n",
       "    <tr>\n",
       "      <th>75%</th>\n",
       "      <td>6.000000</td>\n",
       "      <td>140.250000</td>\n",
       "      <td>80.000000</td>\n",
       "      <td>32.000000</td>\n",
       "      <td>127.250000</td>\n",
       "      <td>36.600000</td>\n",
       "      <td>0.626250</td>\n",
       "      <td>41.000000</td>\n",
       "      <td>1.000000</td>\n",
       "    </tr>\n",
       "    <tr>\n",
       "      <th>max</th>\n",
       "      <td>17.000000</td>\n",
       "      <td>199.000000</td>\n",
       "      <td>122.000000</td>\n",
       "      <td>99.000000</td>\n",
       "      <td>846.000000</td>\n",
       "      <td>67.100000</td>\n",
       "      <td>2.420000</td>\n",
       "      <td>81.000000</td>\n",
       "      <td>1.000000</td>\n",
       "    </tr>\n",
       "  </tbody>\n",
       "</table>\n",
       "</div>"
      ],
      "text/plain": [
       "       Pregnancies     Glucose  BloodPressure  SkinThickness     Insulin  \\\n",
       "count   768.000000  768.000000     768.000000     768.000000  768.000000   \n",
       "mean      3.845052  120.894531      69.105469      20.536458   79.799479   \n",
       "std       3.369578   31.972618      19.355807      15.952218  115.244002   \n",
       "min       0.000000    0.000000       0.000000       0.000000    0.000000   \n",
       "25%       1.000000   99.000000      62.000000       0.000000    0.000000   \n",
       "50%       3.000000  117.000000      72.000000      23.000000   30.500000   \n",
       "75%       6.000000  140.250000      80.000000      32.000000  127.250000   \n",
       "max      17.000000  199.000000     122.000000      99.000000  846.000000   \n",
       "\n",
       "              BMI  DiabetesPedigreeFunction         Age     Outcome  \n",
       "count  768.000000                768.000000  768.000000  768.000000  \n",
       "mean    31.992578                  0.471876   33.240885    0.348958  \n",
       "std      7.884160                  0.331329   11.760232    0.476951  \n",
       "min      0.000000                  0.078000   21.000000    0.000000  \n",
       "25%     27.300000                  0.243750   24.000000    0.000000  \n",
       "50%     32.000000                  0.372500   29.000000    0.000000  \n",
       "75%     36.600000                  0.626250   41.000000    1.000000  \n",
       "max     67.100000                  2.420000   81.000000    1.000000  "
      ]
     },
     "execution_count": 66,
     "metadata": {},
     "output_type": "execute_result"
    }
   ],
>>>>>>> master
   "source": [
    "df.describe()"
   ]
  },
  {
   "cell_type": "markdown",
   "metadata": {},
   "source": [
    "- ```df[\"column_name\"].mean()```: <font color='#808080'>Returns the average (mean) of the values in the specified column (column_name).</font>\n",
    "- ``` df[\"column_name\"].mode()```: <font color='#808080'>Returns a Series containing the mode(s) of the specified column (column_name). If there are multiple modes, all of them will be returned.\n",
    "- ```df[\"column_name\"].median()```: <font color='#808080'>Returns the median (the middle value) of the specified column (column_name).\n",
    "- ```df[\"column_name\"].std()```: <font color='#808080'>Returns the standard deviation of the values in the specified column (column_name), measuring the dispersion of the data points.\n",
    "- ```df[\"column_name\"].var()```: <font color='#808080'>Returns the variance of the values in the specified column (column_name), indicating the degree of spread in the data set.\n",
    "- ```df[\"column_name\"].min()```: <font color='#808080'>Returns the smallest value in the specified column (column_name).\n",
    "- ```df[\"column_name\"].max()```: <font color='#808080'>Returns the largest value in the specified column (column_name).\n",
    "- ```df[\"column_name\"].quantile(q)```: <font color='#808080'>Returns the value at the given quantile ```(e.g., q=0.5 for the median)``` for the specified column (column_name)."
   ]
  },
  {
   "cell_type": "markdown",
   "metadata": {
    "id": "0xDA7jqhby9F"
   },
   "source": [
    "## 3.3.Specify the number of rows and columns <a id='Specify_the_number_of_rows_and_columns'></a>"
   ]
  },
  {
   "cell_type": "markdown",
   "metadata": {},
   "source": [
    "- ```df.shape```: <font color='#808080'>Returns the number of rows and columns"
   ]
  },
  {
   "cell_type": "code",
<<<<<<< HEAD
   "execution_count": null,
   "metadata": {
    "id": "XX5PuO4Icz2u"
   },
   "outputs": [],
=======
   "execution_count": 68,
   "metadata": {
    "id": "XX5PuO4Icz2u"
   },
   "outputs": [
    {
     "data": {
      "text/plain": [
       "(768, 9)"
      ]
     },
     "execution_count": 68,
     "metadata": {},
     "output_type": "execute_result"
    }
   ],
>>>>>>> master
   "source": [
    "df.shape"
   ]
  },
  {
   "cell_type": "markdown",
   "metadata": {
    "id": "RUqQASh-c1dI"
   },
   "source": [
    "## 3.4.Specify the name of the column header <a id='Specify_the_name_of_the_column_header'></a>"
   ]
  },
  {
   "cell_type": "markdown",
   "metadata": {},
   "source": [
    "- ```df.column```: <font color='#808080'>Returns all Header names of the column"
   ]
  },
  {
   "cell_type": "code",
<<<<<<< HEAD
   "execution_count": null,
   "metadata": {
    "id": "e-XIB8xrfT8F"
   },
   "outputs": [],
=======
   "execution_count": 70,
   "metadata": {
    "id": "e-XIB8xrfT8F"
   },
   "outputs": [
    {
     "data": {
      "text/plain": [
       "Index(['Pregnancies', 'Glucose', 'BloodPressure', 'SkinThickness', 'Insulin',\n",
       "       'BMI', 'DiabetesPedigreeFunction', 'Age', 'Outcome'],\n",
       "      dtype='object')"
      ]
     },
     "execution_count": 70,
     "metadata": {},
     "output_type": "execute_result"
    }
   ],
>>>>>>> master
   "source": [
    "df.columns"
   ]
  },
  {
   "cell_type": "markdown",
   "metadata": {
    "id": "pM0_UJW9fVbx"
   },
   "source": [
    "## 3.5.Rename columns <a id='Rename_columns'></a>"
   ]
  },
  {
   "cell_type": "markdown",
   "metadata": {},
   "source": [
    "- ```df.rename(columns={'Age': 'age'}, inplace=False)```: <font color='#808080'> Returns a new DataFrame with the specified columns renamed```((in this case changing'Ag' to'ag)```), without modifying the original DataFrame since`` `inplace=Fals``e` is set."
   ]
  },
  {
   "cell_type": "code",
   "execution_count": null,
   "metadata": {
    "id": "4FSHWFfigclx"
   },
   "outputs": [],
   "source": [
    "df.rename(columns={'Age': 'age'}, inplace=False)"
   ]
  },
  {
   "cell_type": "markdown",
   "metadata": {
    "id": "ljcDL_DugqdO"
   },
   "source": [
    "## 3.6.Delete a column or a row <a id='Delete_a_column_or_a_row'></a>"
   ]
  },
  {
   "cell_type": "markdown",
   "metadata": {},
   "source": [
    "- ```df = df.drop(\"Age\", axis=1)```: <font color='#808080'>  Removes the column labele \"Ag\" from the DataFram  wit axis = 1, ` indicating that a column is being dropped."
   ]
  },
  {
   "cell_type": "code",
<<<<<<< HEAD
   "execution_count": null,
=======
   "execution_count": 202,
>>>>>>> master
   "metadata": {
    "id": "5sWxTfmchQya"
   },
   "outputs": [],
   "source": [
<<<<<<< HEAD
    "df = df.drop(\"Age\", axis=1)"
=======
    "df = df.drop(\"Outcome\", axis=1)"
   ]
  },
  {
   "cell_type": "code",
   "execution_count": 204,
   "metadata": {},
   "outputs": [
    {
     "data": {
      "text/plain": [
       "(767, 8)"
      ]
     },
     "execution_count": 204,
     "metadata": {},
     "output_type": "execute_result"
    }
   ],
   "source": [
    "df.shape"
>>>>>>> master
   ]
  },
  {
   "cell_type": "markdown",
   "metadata": {},
   "source": [
    "- ```df = df.drop(0, axis=0)```: <font color='#808080'> Removes the row with the index label 0 from the DataFrame, with axis=0 indicating that a row is being dropped."
   ]
  },
  {
   "cell_type": "code",
<<<<<<< HEAD
   "execution_count": null,
=======
   "execution_count": 210,
>>>>>>> master
   "metadata": {
    "id": "gf0BNHfthUGb"
   },
   "outputs": [],
   "source": [
<<<<<<< HEAD
    "df = df.drop(0, axis=0)"
=======
    "df = df.drop(1, axis=0)"
   ]
  },
  {
   "cell_type": "code",
   "execution_count": 212,
   "metadata": {},
   "outputs": [
    {
     "data": {
      "text/plain": [
       "(766, 8)"
      ]
     },
     "execution_count": 212,
     "metadata": {},
     "output_type": "execute_result"
    }
   ],
   "source": [
    "df.shape"
>>>>>>> master
   ]
  },
  {
   "cell_type": "markdown",
   "metadata": {
    "id": "j3xJywSci0fb"
   },
   "source": [
    "## 3.7.add a column <a id='add_a_column'></a>"
   ]
  },
  {
   "cell_type": "markdown",
   "metadata": {},
   "source": [
    "- ```df[\"M\"] = 10```: <font color='#808080'>Creates a new column named \"M\" in the DataFrame and assigns the value 10 to all rows in that column.\n",
    "- ```df[\"M\"] = np.nan```: <font color='#808080'>Creates a new column named \"M\" in the DataFrame and assigns NaN (Not a Number) to all rows in that column, effectively indicating missing or undefined values.  "
   ]
  },
  {
   "cell_type": "code",
<<<<<<< HEAD
   "execution_count": null,
   "metadata": {},
   "outputs": [],
   "source": [
    "df[\"M\"] = 10\n",
=======
   "execution_count": 82,
   "metadata": {},
   "outputs": [],
   "source": [
    "df[\"M1\"] = 10\n",
>>>>>>> master
    "df[\"M\"] = np.nan"
   ]
  },
  {
<<<<<<< HEAD
=======
   "cell_type": "code",
   "execution_count": 84,
   "metadata": {},
   "outputs": [
    {
     "data": {
      "text/html": [
       "<div>\n",
       "<style scoped>\n",
       "    .dataframe tbody tr th:only-of-type {\n",
       "        vertical-align: middle;\n",
       "    }\n",
       "\n",
       "    .dataframe tbody tr th {\n",
       "        vertical-align: top;\n",
       "    }\n",
       "\n",
       "    .dataframe thead th {\n",
       "        text-align: right;\n",
       "    }\n",
       "</style>\n",
       "<table border=\"1\" class=\"dataframe\">\n",
       "  <thead>\n",
       "    <tr style=\"text-align: right;\">\n",
       "      <th></th>\n",
       "      <th>Pregnancies</th>\n",
       "      <th>Glucose</th>\n",
       "      <th>BloodPressure</th>\n",
       "      <th>SkinThickness</th>\n",
       "      <th>Insulin</th>\n",
       "      <th>BMI</th>\n",
       "      <th>DiabetesPedigreeFunction</th>\n",
       "      <th>Age</th>\n",
       "      <th>M</th>\n",
       "      <th>M1</th>\n",
       "    </tr>\n",
       "  </thead>\n",
       "  <tbody>\n",
       "    <tr>\n",
       "      <th>1</th>\n",
       "      <td>1</td>\n",
       "      <td>85</td>\n",
       "      <td>66</td>\n",
       "      <td>29</td>\n",
       "      <td>0</td>\n",
       "      <td>26.6</td>\n",
       "      <td>0.351</td>\n",
       "      <td>31</td>\n",
       "      <td>NaN</td>\n",
       "      <td>10</td>\n",
       "    </tr>\n",
       "    <tr>\n",
       "      <th>2</th>\n",
       "      <td>8</td>\n",
       "      <td>183</td>\n",
       "      <td>64</td>\n",
       "      <td>0</td>\n",
       "      <td>0</td>\n",
       "      <td>23.3</td>\n",
       "      <td>0.672</td>\n",
       "      <td>32</td>\n",
       "      <td>NaN</td>\n",
       "      <td>10</td>\n",
       "    </tr>\n",
       "    <tr>\n",
       "      <th>3</th>\n",
       "      <td>1</td>\n",
       "      <td>89</td>\n",
       "      <td>66</td>\n",
       "      <td>23</td>\n",
       "      <td>94</td>\n",
       "      <td>28.1</td>\n",
       "      <td>0.167</td>\n",
       "      <td>21</td>\n",
       "      <td>NaN</td>\n",
       "      <td>10</td>\n",
       "    </tr>\n",
       "    <tr>\n",
       "      <th>4</th>\n",
       "      <td>0</td>\n",
       "      <td>137</td>\n",
       "      <td>40</td>\n",
       "      <td>35</td>\n",
       "      <td>168</td>\n",
       "      <td>43.1</td>\n",
       "      <td>2.288</td>\n",
       "      <td>33</td>\n",
       "      <td>NaN</td>\n",
       "      <td>10</td>\n",
       "    </tr>\n",
       "    <tr>\n",
       "      <th>5</th>\n",
       "      <td>5</td>\n",
       "      <td>116</td>\n",
       "      <td>74</td>\n",
       "      <td>0</td>\n",
       "      <td>0</td>\n",
       "      <td>25.6</td>\n",
       "      <td>0.201</td>\n",
       "      <td>30</td>\n",
       "      <td>NaN</td>\n",
       "      <td>10</td>\n",
       "    </tr>\n",
       "  </tbody>\n",
       "</table>\n",
       "</div>"
      ],
      "text/plain": [
       "   Pregnancies  Glucose  BloodPressure  SkinThickness  Insulin   BMI  \\\n",
       "1            1       85             66             29        0  26.6   \n",
       "2            8      183             64              0        0  23.3   \n",
       "3            1       89             66             23       94  28.1   \n",
       "4            0      137             40             35      168  43.1   \n",
       "5            5      116             74              0        0  25.6   \n",
       "\n",
       "   DiabetesPedigreeFunction  Age   M  M1  \n",
       "1                     0.351   31 NaN  10  \n",
       "2                     0.672   32 NaN  10  \n",
       "3                     0.167   21 NaN  10  \n",
       "4                     2.288   33 NaN  10  \n",
       "5                     0.201   30 NaN  10  "
      ]
     },
     "execution_count": 84,
     "metadata": {},
     "output_type": "execute_result"
    }
   ],
   "source": [
    "df.head()"
   ]
  },
  {
>>>>>>> master
   "cell_type": "markdown",
   "metadata": {},
   "source": [
    "- ```df[\"upper_name\"] = df['Country'].apply(lambda x : x.upper())```: <font color='#808080'>Creates a new column named \"upper_name\" in the DataFrame by applying a lambda function that converts the values in the \"Country\" column to uppercase. "
   ]
  },
  {
   "cell_type": "code",
<<<<<<< HEAD
   "execution_count": null,
   "metadata": {},
   "outputs": [],
=======
   "execution_count": 88,
   "metadata": {},
   "outputs": [
    {
     "ename": "AttributeError",
     "evalue": "'int' object has no attribute 'upper'",
     "output_type": "error",
     "traceback": [
      "\u001b[1;31m---------------------------------------------------------------------------\u001b[0m",
      "\u001b[1;31mAttributeError\u001b[0m                            Traceback (most recent call last)",
      "Cell \u001b[1;32mIn[88], line 1\u001b[0m\n\u001b[1;32m----> 1\u001b[0m df[\u001b[38;5;124m\"\u001b[39m\u001b[38;5;124mPregnancies\u001b[39m\u001b[38;5;124m\"\u001b[39m] \u001b[38;5;241m=\u001b[39m df[\u001b[38;5;124m'\u001b[39m\u001b[38;5;124mPregnancies\u001b[39m\u001b[38;5;124m'\u001b[39m]\u001b[38;5;241m.\u001b[39mapply(\u001b[38;5;28;01mlambda\u001b[39;00m x : x\u001b[38;5;241m.\u001b[39mupper())\n",
      "File \u001b[1;32m~\\anaconda3\\Lib\\site-packages\\pandas\\core\\series.py:4764\u001b[0m, in \u001b[0;36mSeries.apply\u001b[1;34m(self, func, convert_dtype, args, by_row, **kwargs)\u001b[0m\n\u001b[0;32m   4629\u001b[0m \u001b[38;5;28;01mdef\u001b[39;00m \u001b[38;5;21mapply\u001b[39m(\n\u001b[0;32m   4630\u001b[0m     \u001b[38;5;28mself\u001b[39m,\n\u001b[0;32m   4631\u001b[0m     func: AggFuncType,\n\u001b[1;32m   (...)\u001b[0m\n\u001b[0;32m   4636\u001b[0m     \u001b[38;5;241m*\u001b[39m\u001b[38;5;241m*\u001b[39mkwargs,\n\u001b[0;32m   4637\u001b[0m ) \u001b[38;5;241m-\u001b[39m\u001b[38;5;241m>\u001b[39m DataFrame \u001b[38;5;241m|\u001b[39m Series:\n\u001b[0;32m   4638\u001b[0m \u001b[38;5;250m    \u001b[39m\u001b[38;5;124;03m\"\"\"\u001b[39;00m\n\u001b[0;32m   4639\u001b[0m \u001b[38;5;124;03m    Invoke function on values of Series.\u001b[39;00m\n\u001b[0;32m   4640\u001b[0m \n\u001b[1;32m   (...)\u001b[0m\n\u001b[0;32m   4755\u001b[0m \u001b[38;5;124;03m    dtype: float64\u001b[39;00m\n\u001b[0;32m   4756\u001b[0m \u001b[38;5;124;03m    \"\"\"\u001b[39;00m\n\u001b[0;32m   4757\u001b[0m     \u001b[38;5;28;01mreturn\u001b[39;00m SeriesApply(\n\u001b[0;32m   4758\u001b[0m         \u001b[38;5;28mself\u001b[39m,\n\u001b[0;32m   4759\u001b[0m         func,\n\u001b[0;32m   4760\u001b[0m         convert_dtype\u001b[38;5;241m=\u001b[39mconvert_dtype,\n\u001b[0;32m   4761\u001b[0m         by_row\u001b[38;5;241m=\u001b[39mby_row,\n\u001b[0;32m   4762\u001b[0m         args\u001b[38;5;241m=\u001b[39margs,\n\u001b[0;32m   4763\u001b[0m         kwargs\u001b[38;5;241m=\u001b[39mkwargs,\n\u001b[1;32m-> 4764\u001b[0m     )\u001b[38;5;241m.\u001b[39mapply()\n",
      "File \u001b[1;32m~\\anaconda3\\Lib\\site-packages\\pandas\\core\\apply.py:1209\u001b[0m, in \u001b[0;36mSeriesApply.apply\u001b[1;34m(self)\u001b[0m\n\u001b[0;32m   1206\u001b[0m     \u001b[38;5;28;01mreturn\u001b[39;00m \u001b[38;5;28mself\u001b[39m\u001b[38;5;241m.\u001b[39mapply_compat()\n\u001b[0;32m   1208\u001b[0m \u001b[38;5;66;03m# self.func is Callable\u001b[39;00m\n\u001b[1;32m-> 1209\u001b[0m \u001b[38;5;28;01mreturn\u001b[39;00m \u001b[38;5;28mself\u001b[39m\u001b[38;5;241m.\u001b[39mapply_standard()\n",
      "File \u001b[1;32m~\\anaconda3\\Lib\\site-packages\\pandas\\core\\apply.py:1289\u001b[0m, in \u001b[0;36mSeriesApply.apply_standard\u001b[1;34m(self)\u001b[0m\n\u001b[0;32m   1283\u001b[0m \u001b[38;5;66;03m# row-wise access\u001b[39;00m\n\u001b[0;32m   1284\u001b[0m \u001b[38;5;66;03m# apply doesn't have a `na_action` keyword and for backward compat reasons\u001b[39;00m\n\u001b[0;32m   1285\u001b[0m \u001b[38;5;66;03m# we need to give `na_action=\"ignore\"` for categorical data.\u001b[39;00m\n\u001b[0;32m   1286\u001b[0m \u001b[38;5;66;03m# TODO: remove the `na_action=\"ignore\"` when that default has been changed in\u001b[39;00m\n\u001b[0;32m   1287\u001b[0m \u001b[38;5;66;03m#  Categorical (GH51645).\u001b[39;00m\n\u001b[0;32m   1288\u001b[0m action \u001b[38;5;241m=\u001b[39m \u001b[38;5;124m\"\u001b[39m\u001b[38;5;124mignore\u001b[39m\u001b[38;5;124m\"\u001b[39m \u001b[38;5;28;01mif\u001b[39;00m \u001b[38;5;28misinstance\u001b[39m(obj\u001b[38;5;241m.\u001b[39mdtype, CategoricalDtype) \u001b[38;5;28;01melse\u001b[39;00m \u001b[38;5;28;01mNone\u001b[39;00m\n\u001b[1;32m-> 1289\u001b[0m mapped \u001b[38;5;241m=\u001b[39m obj\u001b[38;5;241m.\u001b[39m_map_values(\n\u001b[0;32m   1290\u001b[0m     mapper\u001b[38;5;241m=\u001b[39mcurried, na_action\u001b[38;5;241m=\u001b[39maction, convert\u001b[38;5;241m=\u001b[39m\u001b[38;5;28mself\u001b[39m\u001b[38;5;241m.\u001b[39mconvert_dtype\n\u001b[0;32m   1291\u001b[0m )\n\u001b[0;32m   1293\u001b[0m \u001b[38;5;28;01mif\u001b[39;00m \u001b[38;5;28mlen\u001b[39m(mapped) \u001b[38;5;129;01mand\u001b[39;00m \u001b[38;5;28misinstance\u001b[39m(mapped[\u001b[38;5;241m0\u001b[39m], ABCSeries):\n\u001b[0;32m   1294\u001b[0m     \u001b[38;5;66;03m# GH#43986 Need to do list(mapped) in order to get treated as nested\u001b[39;00m\n\u001b[0;32m   1295\u001b[0m     \u001b[38;5;66;03m#  See also GH#25959 regarding EA support\u001b[39;00m\n\u001b[0;32m   1296\u001b[0m     \u001b[38;5;28;01mreturn\u001b[39;00m obj\u001b[38;5;241m.\u001b[39m_constructor_expanddim(\u001b[38;5;28mlist\u001b[39m(mapped), index\u001b[38;5;241m=\u001b[39mobj\u001b[38;5;241m.\u001b[39mindex)\n",
      "File \u001b[1;32m~\\anaconda3\\Lib\\site-packages\\pandas\\core\\base.py:921\u001b[0m, in \u001b[0;36mIndexOpsMixin._map_values\u001b[1;34m(self, mapper, na_action, convert)\u001b[0m\n\u001b[0;32m    918\u001b[0m \u001b[38;5;28;01mif\u001b[39;00m \u001b[38;5;28misinstance\u001b[39m(arr, ExtensionArray):\n\u001b[0;32m    919\u001b[0m     \u001b[38;5;28;01mreturn\u001b[39;00m arr\u001b[38;5;241m.\u001b[39mmap(mapper, na_action\u001b[38;5;241m=\u001b[39mna_action)\n\u001b[1;32m--> 921\u001b[0m \u001b[38;5;28;01mreturn\u001b[39;00m algorithms\u001b[38;5;241m.\u001b[39mmap_array(arr, mapper, na_action\u001b[38;5;241m=\u001b[39mna_action, convert\u001b[38;5;241m=\u001b[39mconvert)\n",
      "File \u001b[1;32m~\\anaconda3\\Lib\\site-packages\\pandas\\core\\algorithms.py:1814\u001b[0m, in \u001b[0;36mmap_array\u001b[1;34m(arr, mapper, na_action, convert)\u001b[0m\n\u001b[0;32m   1812\u001b[0m values \u001b[38;5;241m=\u001b[39m arr\u001b[38;5;241m.\u001b[39mastype(\u001b[38;5;28mobject\u001b[39m, copy\u001b[38;5;241m=\u001b[39m\u001b[38;5;28;01mFalse\u001b[39;00m)\n\u001b[0;32m   1813\u001b[0m \u001b[38;5;28;01mif\u001b[39;00m na_action \u001b[38;5;129;01mis\u001b[39;00m \u001b[38;5;28;01mNone\u001b[39;00m:\n\u001b[1;32m-> 1814\u001b[0m     \u001b[38;5;28;01mreturn\u001b[39;00m lib\u001b[38;5;241m.\u001b[39mmap_infer(values, mapper, convert\u001b[38;5;241m=\u001b[39mconvert)\n\u001b[0;32m   1815\u001b[0m \u001b[38;5;28;01melse\u001b[39;00m:\n\u001b[0;32m   1816\u001b[0m     \u001b[38;5;28;01mreturn\u001b[39;00m lib\u001b[38;5;241m.\u001b[39mmap_infer_mask(\n\u001b[0;32m   1817\u001b[0m         values, mapper, mask\u001b[38;5;241m=\u001b[39misna(values)\u001b[38;5;241m.\u001b[39mview(np\u001b[38;5;241m.\u001b[39muint8), convert\u001b[38;5;241m=\u001b[39mconvert\n\u001b[0;32m   1818\u001b[0m     )\n",
      "File \u001b[1;32mlib.pyx:2926\u001b[0m, in \u001b[0;36mpandas._libs.lib.map_infer\u001b[1;34m()\u001b[0m\n",
      "Cell \u001b[1;32mIn[88], line 1\u001b[0m, in \u001b[0;36m<lambda>\u001b[1;34m(x)\u001b[0m\n\u001b[1;32m----> 1\u001b[0m df[\u001b[38;5;124m\"\u001b[39m\u001b[38;5;124mPregnancies\u001b[39m\u001b[38;5;124m\"\u001b[39m] \u001b[38;5;241m=\u001b[39m df[\u001b[38;5;124m'\u001b[39m\u001b[38;5;124mPregnancies\u001b[39m\u001b[38;5;124m'\u001b[39m]\u001b[38;5;241m.\u001b[39mapply(\u001b[38;5;28;01mlambda\u001b[39;00m x : x\u001b[38;5;241m.\u001b[39mupper())\n",
      "\u001b[1;31mAttributeError\u001b[0m: 'int' object has no attribute 'upper'"
     ]
    }
   ],
>>>>>>> master
   "source": [
    "df[\"upper_name\"] = df['Country'].apply(lambda x : x.upper())"
   ]
  },
  {
<<<<<<< HEAD
=======
   "cell_type": "code",
   "execution_count": 86,
   "metadata": {},
   "outputs": [
    {
     "data": {
      "text/plain": [
       "Index(['Pregnancies', 'Glucose', 'BloodPressure', 'SkinThickness', 'Insulin',\n",
       "       'BMI', 'DiabetesPedigreeFunction', 'Age', 'M', 'M1'],\n",
       "      dtype='object')"
      ]
     },
     "execution_count": 86,
     "metadata": {},
     "output_type": "execute_result"
    }
   ],
   "source": [
    "df.columns"
   ]
  },
  {
>>>>>>> master
   "cell_type": "markdown",
   "metadata": {},
   "source": [
    "- ```df[\"new_column\"] = [0,1,2,0,0,0,1,1,0]```: <font color='#808080'> Creates a new column named \"new_column\" in the DataFrame and assigns the provided list of values [0, 1, 2, 0, 0, 0, 1, 1, 0] to it. The length of the list must match the number of rows in the DataFrame; otherwise, it will raise an error."
   ]
  },
  {
   "cell_type": "code",
   "execution_count": null,
   "metadata": {},
   "outputs": [],
   "source": [
<<<<<<< HEAD
    "df[\"new_column\"] = [0,1,2,0,0,0,1,1,0]"
=======
    "df[\"new_column\"] = [8,122,12,5,0,22,1,1,0]"
>>>>>>> master
   ]
  },
  {
   "cell_type": "markdown",
   "metadata": {
    "id": "lt39TWGvlBWV"
   },
   "source": [
    "## 3.8.add a row <a id='add_a_row'></a>"
   ]
  },
  {
   "cell_type": "markdown",
   "metadata": {},
   "source": [
    "<font color='#808080'> **adding a new row  using loc[]:**\n",
    "\n",
    "**<font color='#808080'>these methods only allows adding column to the beginning or end of the DataFrame**\n",
    "- ```df.loc[len(df)] = [\"Iran\", 54.0, 52000, \"Yes\"]```: <font color='#808080'>Adds a new row at the end of the DataFrame with the specified values, using the current length of the DataFrame as the index."
   ]
  },
  {
   "cell_type": "code",
<<<<<<< HEAD
   "execution_count": null,
   "metadata": {},
   "outputs": [],
   "source": [
    "df.loc[len(df)] = [\"Iran\", 54.0, 52000, \"Yes\"]"
=======
   "execution_count": 98,
   "metadata": {},
   "outputs": [
    {
     "data": {
      "text/html": [
       "<div>\n",
       "<style scoped>\n",
       "    .dataframe tbody tr th:only-of-type {\n",
       "        vertical-align: middle;\n",
       "    }\n",
       "\n",
       "    .dataframe tbody tr th {\n",
       "        vertical-align: top;\n",
       "    }\n",
       "\n",
       "    .dataframe thead th {\n",
       "        text-align: right;\n",
       "    }\n",
       "</style>\n",
       "<table border=\"1\" class=\"dataframe\">\n",
       "  <thead>\n",
       "    <tr style=\"text-align: right;\">\n",
       "      <th></th>\n",
       "      <th>Pregnancies</th>\n",
       "      <th>Glucose</th>\n",
       "      <th>BloodPressure</th>\n",
       "      <th>SkinThickness</th>\n",
       "      <th>Insulin</th>\n",
       "      <th>BMI</th>\n",
       "      <th>DiabetesPedigreeFunction</th>\n",
       "      <th>Age</th>\n",
       "      <th>M</th>\n",
       "      <th>M1</th>\n",
       "    </tr>\n",
       "  </thead>\n",
       "  <tbody>\n",
       "    <tr>\n",
       "      <th>1</th>\n",
       "      <td>1</td>\n",
       "      <td>85</td>\n",
       "      <td>66</td>\n",
       "      <td>29</td>\n",
       "      <td>0</td>\n",
       "      <td>26.6</td>\n",
       "      <td>0.351</td>\n",
       "      <td>31</td>\n",
       "      <td>NaN</td>\n",
       "      <td>10</td>\n",
       "    </tr>\n",
       "    <tr>\n",
       "      <th>2</th>\n",
       "      <td>8</td>\n",
       "      <td>183</td>\n",
       "      <td>64</td>\n",
       "      <td>0</td>\n",
       "      <td>0</td>\n",
       "      <td>23.3</td>\n",
       "      <td>0.672</td>\n",
       "      <td>32</td>\n",
       "      <td>NaN</td>\n",
       "      <td>10</td>\n",
       "    </tr>\n",
       "    <tr>\n",
       "      <th>3</th>\n",
       "      <td>1</td>\n",
       "      <td>89</td>\n",
       "      <td>66</td>\n",
       "      <td>23</td>\n",
       "      <td>94</td>\n",
       "      <td>28.1</td>\n",
       "      <td>0.167</td>\n",
       "      <td>21</td>\n",
       "      <td>NaN</td>\n",
       "      <td>10</td>\n",
       "    </tr>\n",
       "    <tr>\n",
       "      <th>4</th>\n",
       "      <td>0</td>\n",
       "      <td>137</td>\n",
       "      <td>40</td>\n",
       "      <td>35</td>\n",
       "      <td>168</td>\n",
       "      <td>43.1</td>\n",
       "      <td>2.288</td>\n",
       "      <td>33</td>\n",
       "      <td>NaN</td>\n",
       "      <td>10</td>\n",
       "    </tr>\n",
       "    <tr>\n",
       "      <th>5</th>\n",
       "      <td>5</td>\n",
       "      <td>116</td>\n",
       "      <td>74</td>\n",
       "      <td>0</td>\n",
       "      <td>0</td>\n",
       "      <td>25.6</td>\n",
       "      <td>0.201</td>\n",
       "      <td>30</td>\n",
       "      <td>NaN</td>\n",
       "      <td>10</td>\n",
       "    </tr>\n",
       "    <tr>\n",
       "      <th>...</th>\n",
       "      <td>...</td>\n",
       "      <td>...</td>\n",
       "      <td>...</td>\n",
       "      <td>...</td>\n",
       "      <td>...</td>\n",
       "      <td>...</td>\n",
       "      <td>...</td>\n",
       "      <td>...</td>\n",
       "      <td>...</td>\n",
       "      <td>...</td>\n",
       "    </tr>\n",
       "    <tr>\n",
       "      <th>763</th>\n",
       "      <td>10</td>\n",
       "      <td>101</td>\n",
       "      <td>76</td>\n",
       "      <td>48</td>\n",
       "      <td>180</td>\n",
       "      <td>32.9</td>\n",
       "      <td>0.171</td>\n",
       "      <td>63</td>\n",
       "      <td>NaN</td>\n",
       "      <td>10</td>\n",
       "    </tr>\n",
       "    <tr>\n",
       "      <th>764</th>\n",
       "      <td>2</td>\n",
       "      <td>122</td>\n",
       "      <td>70</td>\n",
       "      <td>27</td>\n",
       "      <td>0</td>\n",
       "      <td>36.8</td>\n",
       "      <td>0.340</td>\n",
       "      <td>27</td>\n",
       "      <td>NaN</td>\n",
       "      <td>10</td>\n",
       "    </tr>\n",
       "    <tr>\n",
       "      <th>765</th>\n",
       "      <td>5</td>\n",
       "      <td>121</td>\n",
       "      <td>72</td>\n",
       "      <td>23</td>\n",
       "      <td>112</td>\n",
       "      <td>26.2</td>\n",
       "      <td>0.245</td>\n",
       "      <td>30</td>\n",
       "      <td>NaN</td>\n",
       "      <td>10</td>\n",
       "    </tr>\n",
       "    <tr>\n",
       "      <th>766</th>\n",
       "      <td>1</td>\n",
       "      <td>126</td>\n",
       "      <td>60</td>\n",
       "      <td>0</td>\n",
       "      <td>0</td>\n",
       "      <td>30.1</td>\n",
       "      <td>0.349</td>\n",
       "      <td>47</td>\n",
       "      <td>NaN</td>\n",
       "      <td>10</td>\n",
       "    </tr>\n",
       "    <tr>\n",
       "      <th>767</th>\n",
       "      <td>8</td>\n",
       "      <td>54</td>\n",
       "      <td>12</td>\n",
       "      <td>5</td>\n",
       "      <td>1</td>\n",
       "      <td>22.0</td>\n",
       "      <td>2.000</td>\n",
       "      <td>30</td>\n",
       "      <td>2.0</td>\n",
       "      <td>5</td>\n",
       "    </tr>\n",
       "  </tbody>\n",
       "</table>\n",
       "<p>767 rows × 10 columns</p>\n",
       "</div>"
      ],
      "text/plain": [
       "     Pregnancies  Glucose  BloodPressure  SkinThickness  Insulin   BMI  \\\n",
       "1              1       85             66             29        0  26.6   \n",
       "2              8      183             64              0        0  23.3   \n",
       "3              1       89             66             23       94  28.1   \n",
       "4              0      137             40             35      168  43.1   \n",
       "5              5      116             74              0        0  25.6   \n",
       "..           ...      ...            ...            ...      ...   ...   \n",
       "763           10      101             76             48      180  32.9   \n",
       "764            2      122             70             27        0  36.8   \n",
       "765            5      121             72             23      112  26.2   \n",
       "766            1      126             60              0        0  30.1   \n",
       "767            8       54             12              5        1  22.0   \n",
       "\n",
       "     DiabetesPedigreeFunction  Age    M  M1  \n",
       "1                       0.351   31  NaN  10  \n",
       "2                       0.672   32  NaN  10  \n",
       "3                       0.167   21  NaN  10  \n",
       "4                       2.288   33  NaN  10  \n",
       "5                       0.201   30  NaN  10  \n",
       "..                        ...  ...  ...  ..  \n",
       "763                     0.171   63  NaN  10  \n",
       "764                     0.340   27  NaN  10  \n",
       "765                     0.245   30  NaN  10  \n",
       "766                     0.349   47  NaN  10  \n",
       "767                     2.000   30  2.0   5  \n",
       "\n",
       "[767 rows x 10 columns]"
      ]
     },
     "execution_count": 98,
     "metadata": {},
     "output_type": "execute_result"
    }
   ],
   "source": [
    "df.loc[len(df)] = [8, 54.0, 12, 5, 1, 22, 2, 30, 2, 5]\n",
    "df"
   ]
  },
  {
   "cell_type": "code",
   "execution_count": 94,
   "metadata": {},
   "outputs": [
    {
     "data": {
      "text/plain": [
       "Index(['Pregnancies', 'Glucose', 'BloodPressure', 'SkinThickness', 'Insulin',\n",
       "       'BMI', 'DiabetesPedigreeFunction', 'Age', 'M', 'M1'],\n",
       "      dtype='object')"
      ]
     },
     "execution_count": 94,
     "metadata": {},
     "output_type": "execute_result"
    }
   ],
   "source": [
    "df.columns"
>>>>>>> master
   ]
  },
  {
   "cell_type": "markdown",
   "metadata": {},
   "source": [
    "- ```df.loc[5:] = [\"Iran\", 54.0, 52000, \"Yes\"]```: <font color='#808080'>Attempts to assign the specified values to all rows from index 5 to the end of the DataFrame, which can result in an error if the indices do not match."
   ]
  },
  {
   "cell_type": "code",
   "execution_count": null,
   "metadata": {},
   "outputs": [],
   "source": [
    "df.loc[5:] = [\"Iran\", 54.0, 52000, \"Yes\"]"
   ]
  },
  {
   "cell_type": "markdown",
   "metadata": {},
   "source": [
    "- ```df.loc[:] = [\"Iran\", 54.0, 52000, \"Yes\"]```: <font color='#808080'> Attempts to replace all rows in the DataFrame with the specified values."
   ]
  },
  {
   "cell_type": "code",
   "execution_count": null,
   "metadata": {},
   "outputs": [],
   "source": [
    "df.loc[:] = [\"Iran\", 54.0, 52000, \"Yes\"]"
   ]
  },
  {
   "cell_type": "markdown",
   "metadata": {},
   "source": [
    "**<font color='#808080'>adding a new row with using concat()**\n",
    "- ``` new_data = pd.DataFrame({\"Country\": [\"Dubai\"], \"Age\": [39.0], \"Salary\": [96000.0], \"Purchased\": [\"Yes\"]}):```: Creates a new DataFrame named new_data with one row of data.\n",
    "- ```df = pd.concat([df, new_data], ignore_index=True)```: <font color='#808080'> Concatenates new_data to the original DataFrame df, resetting the index with ignore_index=True to maintain sequential indexing."
   ]
  },
  {
   "cell_type": "code",
   "execution_count": null,
   "metadata": {},
   "outputs": [],
   "source": [
    "new_data = pd.DataFrame({\"Country\":[\"Dubai\"],\t\"Age\":[39.0], \"Salary\":[96000.0],\t\"Purchased\":[\"Yes\"]})\n",
    "df = pd.concat([df, new_data], ignore_index=True)"
   ]
  },
  {
<<<<<<< HEAD
=======
   "cell_type": "code",
   "execution_count": null,
   "metadata": {},
   "outputs": [],
   "source": []
  },
  {
>>>>>>> master
   "cell_type": "markdown",
   "metadata": {},
   "source": [
    "- ```new_data = pd.DataFrame({\"Country\":[\"Usa\"],\"Age\":[45.0],\"Salary\":[10000.2],\"Purchased\":[\"No\"]})```: <font color='#808080'> Creates another DataFrame named new_data with one row of data.\n",
    "- ```df = df._append(new_data, ignore_index=True)```: <font color='#808080'> Appends new_data to the DataFrame df, similar to concat(), but with an emphasis on the append function."
   ]
  },
  {
   "cell_type": "code",
   "execution_count": null,
   "metadata": {},
   "outputs": [],
   "source": [
    "new_data = pd.DataFrame({\"Country\":[\"Usa\"],\"Age\":[45.0],\"Salary\":[10000.2],\"Purchased\":[\"No\"]})\n",
    "df = df._append(new_data, ignore_index=True)"
   ]
  },
  {
   "cell_type": "markdown",
   "metadata": {},
   "source": [
    "- ```new_row = pd.Series([np.nan]*len(df.columns), index=df.columns)```: <font color='#808080'>Creates a new Series filled with NaN values, matching the number of columns in the DataFrame.\n",
    "- ``` df = df._append(new_row, ignore_index=True)```: <font color='#808080'> Appends the new row filled with NaN to the DataFrame df, effectively adding a row with missing values."
   ]
  },
  {
   "cell_type": "code",
   "execution_count": null,
   "metadata": {},
   "outputs": [],
   "source": [
    "new_row = pd.Series([np.nan]*len(df.columns), index=df.columns)\n",
    "df = df._append(new_row, ignore_index=True)"
   ]
  },
  {
   "cell_type": "markdown",
   "metadata": {
    "id": "9HbF08oHrLDp"
   },
   "source": [
    "# 4.Handling Missing Value <a id='Handling_Missing_Value'></a>"
   ]
  },
  {
   "cell_type": "markdown",
   "metadata": {
    "id": "nFTtgv-34o5e"
   },
   "source": [
    "## 4.1.identify missing value <a id='identify_missing_value'></a>"
   ]
  },
  {
   "cell_type": "markdown",
   "metadata": {},
   "source": [
    "**<font color='#808080'>Identifying Missing Values in Rows**\n",
    "- ```df.isna().sum(axis=1)```: <font color='#808080'>Returns a Series containing the count of missing values (NaN) for each row in the DataFrame. axis=1 indicates that the operation is performed across columns.\n",
    "- ```df.isnull().sum(axis=1)```: <font color='#808080'>Functions similarly to isna(), returning a Series with the count of missing values for each row."
   ]
  },
  {
   "cell_type": "code",
<<<<<<< HEAD
   "execution_count": null,
   "metadata": {},
   "outputs": [],
=======
   "execution_count": 106,
   "metadata": {},
   "outputs": [
    {
     "data": {
      "text/plain": [
       "1      1\n",
       "2      1\n",
       "3      1\n",
       "4      1\n",
       "5      1\n",
       "      ..\n",
       "763    1\n",
       "764    1\n",
       "765    1\n",
       "766    1\n",
       "767    0\n",
       "Length: 767, dtype: int64"
      ]
     },
     "execution_count": 106,
     "metadata": {},
     "output_type": "execute_result"
    }
   ],
>>>>>>> master
   "source": [
    "df.isna().sum(axis=1)\n",
    "df.isnull().sum(axis=1)"
   ]
  },
  {
   "cell_type": "markdown",
   "metadata": {},
   "source": [
    "**<font color='#808080'>Identifying Missing Values in Columns**\n",
    "- ```df.isna().sum(axis=0)```:<font color='#808080'>Returns a Series containing the count of missing values (NaN) for each column in the DataFrame. axis=0 indicates that the operation is performed across rows.\n",
    "- ```df.isnull().sum(axis=0)```:<font color='#808080'>Functions similarly to isna(), returning a Series with the count of missing values for each column."
   ]
  },
  {
   "cell_type": "code",
<<<<<<< HEAD
   "execution_count": null,
   "metadata": {
    "id": "FAd8jMvV4_Bg"
   },
   "outputs": [],
=======
   "execution_count": 108,
   "metadata": {
    "id": "FAd8jMvV4_Bg"
   },
   "outputs": [
    {
     "data": {
      "text/plain": [
       "Pregnancies                   0\n",
       "Glucose                       0\n",
       "BloodPressure                 0\n",
       "SkinThickness                 0\n",
       "Insulin                       0\n",
       "BMI                           0\n",
       "DiabetesPedigreeFunction      0\n",
       "Age                           0\n",
       "M                           766\n",
       "M1                            0\n",
       "dtype: int64"
      ]
     },
     "execution_count": 108,
     "metadata": {},
     "output_type": "execute_result"
    }
   ],
>>>>>>> master
   "source": [
    "df.isna().sum(axis=0)\n",
    "df.isnull().sum(axis=0)"
   ]
  },
  {
   "cell_type": "markdown",
   "metadata": {
    "id": "ujm7yNqL5mkq"
   },
   "source": [
    "### 4.1.1.Identify the row that are completely empty <a id='Identify_the_row_that_are_completely_empty'></a>"
   ]
  },
  {
   "cell_type": "markdown",
   "metadata": {},
   "source": [
    "**<font color='#808080'>Identify the Number of Completely Empty Rows**\n",
    "- ```df.isna().all(axis=1).sum()```:<font color='#808080'>Returns the count of rows that are completely empty (i.e., all values are NaN) by checking each row with isna(), using all(axis=1) to ensure all values in the row are NaN, and then summing the resulting boolean values.\n",
    "- ```df.isnull().all(axis=1).sum()```:<font color='#808080'> Functions similarly to the above method, returning the count of completely empty rows."
   ]
  },
  {
   "cell_type": "code",
<<<<<<< HEAD
   "execution_count": null,
   "metadata": {},
   "outputs": [],
=======
   "execution_count": 110,
   "metadata": {},
   "outputs": [
    {
     "data": {
      "text/plain": [
       "0"
      ]
     },
     "execution_count": 110,
     "metadata": {},
     "output_type": "execute_result"
    }
   ],
>>>>>>> master
   "source": [
    "df.isna().all(axis=1).sum()\n",
    "df.isnull().all(axis=1).sum()"
   ]
  },
  {
   "cell_type": "markdown",
   "metadata": {},
   "source": [
    "**<font color='#808080'>Show Indices of Completely Empty Rows**\n",
    "- ```df.index[df.isna().all(axis=1)].tolist()```:<font color='#808080'>Returns a list of the indices of rows that are completely empty (all values are NaN). The condition checks each row for completeness, and the resulting indices are converted to a list."
   ]
  },
  {
   "cell_type": "code",
<<<<<<< HEAD
   "execution_count": null,
   "metadata": {
    "id": "SlBSaVh36u_-"
   },
   "outputs": [],
=======
   "execution_count": 112,
   "metadata": {
    "id": "SlBSaVh36u_-"
   },
   "outputs": [
    {
     "data": {
      "text/plain": [
       "[]"
      ]
     },
     "execution_count": 112,
     "metadata": {},
     "output_type": "execute_result"
    }
   ],
>>>>>>> master
   "source": [
    "df.index[df.isna().all(axis=1)].tolist()"
   ]
  },
  {
   "cell_type": "markdown",
   "metadata": {
    "id": "WrfexKLF6_fH"
   },
   "source": [
    "### 4.1.2.imputation or removal <a id='imputation_or_removal'></a>"
   ]
  },
  {
   "cell_type": "markdown",
   "metadata": {},
   "source": [
    "**<font color='#808080'>Deleting Rows that are Completely Empty**\n",
    "- ```df.dropna(how=\"all\")```:<font color='#808080'>Removes all rows from the DataFrame that are completely empty (i.e., all values are NaN). The how=\"all\" parameter specifies that a row should be dropped only if all its values are NaN."
   ]
  },
  {
   "cell_type": "code",
   "execution_count": null,
   "metadata": {},
   "outputs": [],
   "source": [
    "df.dropna(how=\"all\")"
   ]
  },
  {
   "cell_type": "markdown",
   "metadata": {},
   "source": [
    "**<font color='#808080'>Filling NaN Values in a Column**\n",
    "- ```df[\"Purchased\"] = df[\"Purchased\"].fillna(\"No\")```:<font color='#808080'>Fills any NaN values in the \"Purchased\" column with the string \"No\". This replaces missing values with a specified default value."
   ]
  },
  {
   "cell_type": "code",
   "execution_count": null,
   "metadata": {},
   "outputs": [],
   "source": [
    "df[\"Purchased\"] = df[\"Purchased\"].fillna(\"No\")"
   ]
  },
  {
   "cell_type": "markdown",
   "metadata": {},
   "source": [
    "**<font color='#808080'>Filling NaN Values with Mean, Mode, or Median**\n",
    "- ```df[\"Age\"] = df[\"Age\"].fillna(df[\"Age\"].mean())```:<font color='#808080'> Replaces NaN values in the \"Age\" column with the mean of that column. Similar methods can be applied using .mode() or .median() for replacing with the mode or median, respectively:\n",
    "*Mode:* ```df[\"Age\"] = df[\"Age\"].fillna(df[\"Age\"].mode()[0])```\n",
    "\n",
    "*Median:* ```df[\"Age\"] = df[\"Age\"].fillna(df[\"Age\"].median())``` "
   ]
  },
  {
   "cell_type": "code",
   "execution_count": null,
   "metadata": {
    "id": "cWh4nk477je4"
   },
   "outputs": [],
   "source": [
    "df[\"Age\"] = df[\"Age\"].fillna(df[\"Age\"].mean())\n",
    "df[\"Age\"] = df[\"Age\"].fillna(df[\"Age\"].mode()[0])\n",
    "df[\"Age\"] = df[\"Age\"].fillna(df[\"Age\"].median())"
   ]
  },
  {
   "cell_type": "markdown",
   "metadata": {
    "id": "C8gnLLjj7oOf"
   },
   "source": [
    "# 5.Data Cleaning <a id='Data_Cleaning'></a>"
   ]
  },
  {
   "cell_type": "markdown",
   "metadata": {},
   "source": [
    "**<font color='#808080'>Identifying Duplicated Rows**\n",
    "- ```df.duplicated().sum()```:<font color='#808080'>Returns the count of duplicated rows in the DataFrame. This method marks rows as duplicated if they are identical to a previous row."
   ]
  },
  {
   "cell_type": "code",
<<<<<<< HEAD
   "execution_count": null,
   "metadata": {},
   "outputs": [],
=======
   "execution_count": 114,
   "metadata": {},
   "outputs": [
    {
     "data": {
      "text/plain": [
       "0"
      ]
     },
     "execution_count": 114,
     "metadata": {},
     "output_type": "execute_result"
    }
   ],
>>>>>>> master
   "source": [
    "df.duplicated().sum()"
   ]
  },
  {
   "cell_type": "markdown",
   "metadata": {},
   "source": [
    "**<font color='#808080'>Showing Duplicated Rows**\n",
    "- ```df.index[df.duplicated(keep=False)].tolist()```:<font color='#808080'> Returns a list of the indices of all duplicated rows. The keep=False parameter indicates that all occurrences of duplicated rows should be included, not just the first."
   ]
  },
  {
   "cell_type": "code",
<<<<<<< HEAD
   "execution_count": null,
   "metadata": {},
   "outputs": [],
=======
   "execution_count": 116,
   "metadata": {},
   "outputs": [
    {
     "data": {
      "text/plain": [
       "[]"
      ]
     },
     "execution_count": 116,
     "metadata": {},
     "output_type": "execute_result"
    }
   ],
>>>>>>> master
   "source": [
    "df.index[df.duplicated(keep=False)].tolist()"
   ]
  },
  {
   "cell_type": "markdown",
   "metadata": {},
   "source": [
    "**<font color='#808080'>Removing Duplicated Rows**\n",
    "- ```df.drop_duplicates()```:<font color='#808080'> Removes duplicated rows from the DataFrame, keeping the first occurrence by default. This method returns a new DataFrame without the duplicates, while the original DataFrame remains unchanged unless assigned back to it. "
   ]
  },
  {
   "cell_type": "code",
<<<<<<< HEAD
   "execution_count": null,
   "metadata": {
    "id": "Xnw_fRCQBbm_"
   },
   "outputs": [],
=======
   "execution_count": 118,
   "metadata": {
    "id": "Xnw_fRCQBbm_"
   },
   "outputs": [
    {
     "data": {
      "text/html": [
       "<div>\n",
       "<style scoped>\n",
       "    .dataframe tbody tr th:only-of-type {\n",
       "        vertical-align: middle;\n",
       "    }\n",
       "\n",
       "    .dataframe tbody tr th {\n",
       "        vertical-align: top;\n",
       "    }\n",
       "\n",
       "    .dataframe thead th {\n",
       "        text-align: right;\n",
       "    }\n",
       "</style>\n",
       "<table border=\"1\" class=\"dataframe\">\n",
       "  <thead>\n",
       "    <tr style=\"text-align: right;\">\n",
       "      <th></th>\n",
       "      <th>Pregnancies</th>\n",
       "      <th>Glucose</th>\n",
       "      <th>BloodPressure</th>\n",
       "      <th>SkinThickness</th>\n",
       "      <th>Insulin</th>\n",
       "      <th>BMI</th>\n",
       "      <th>DiabetesPedigreeFunction</th>\n",
       "      <th>Age</th>\n",
       "      <th>M</th>\n",
       "      <th>M1</th>\n",
       "    </tr>\n",
       "  </thead>\n",
       "  <tbody>\n",
       "    <tr>\n",
       "      <th>1</th>\n",
       "      <td>1</td>\n",
       "      <td>85</td>\n",
       "      <td>66</td>\n",
       "      <td>29</td>\n",
       "      <td>0</td>\n",
       "      <td>26.6</td>\n",
       "      <td>0.351</td>\n",
       "      <td>31</td>\n",
       "      <td>NaN</td>\n",
       "      <td>10</td>\n",
       "    </tr>\n",
       "    <tr>\n",
       "      <th>2</th>\n",
       "      <td>8</td>\n",
       "      <td>183</td>\n",
       "      <td>64</td>\n",
       "      <td>0</td>\n",
       "      <td>0</td>\n",
       "      <td>23.3</td>\n",
       "      <td>0.672</td>\n",
       "      <td>32</td>\n",
       "      <td>NaN</td>\n",
       "      <td>10</td>\n",
       "    </tr>\n",
       "    <tr>\n",
       "      <th>3</th>\n",
       "      <td>1</td>\n",
       "      <td>89</td>\n",
       "      <td>66</td>\n",
       "      <td>23</td>\n",
       "      <td>94</td>\n",
       "      <td>28.1</td>\n",
       "      <td>0.167</td>\n",
       "      <td>21</td>\n",
       "      <td>NaN</td>\n",
       "      <td>10</td>\n",
       "    </tr>\n",
       "    <tr>\n",
       "      <th>4</th>\n",
       "      <td>0</td>\n",
       "      <td>137</td>\n",
       "      <td>40</td>\n",
       "      <td>35</td>\n",
       "      <td>168</td>\n",
       "      <td>43.1</td>\n",
       "      <td>2.288</td>\n",
       "      <td>33</td>\n",
       "      <td>NaN</td>\n",
       "      <td>10</td>\n",
       "    </tr>\n",
       "    <tr>\n",
       "      <th>5</th>\n",
       "      <td>5</td>\n",
       "      <td>116</td>\n",
       "      <td>74</td>\n",
       "      <td>0</td>\n",
       "      <td>0</td>\n",
       "      <td>25.6</td>\n",
       "      <td>0.201</td>\n",
       "      <td>30</td>\n",
       "      <td>NaN</td>\n",
       "      <td>10</td>\n",
       "    </tr>\n",
       "    <tr>\n",
       "      <th>...</th>\n",
       "      <td>...</td>\n",
       "      <td>...</td>\n",
       "      <td>...</td>\n",
       "      <td>...</td>\n",
       "      <td>...</td>\n",
       "      <td>...</td>\n",
       "      <td>...</td>\n",
       "      <td>...</td>\n",
       "      <td>...</td>\n",
       "      <td>...</td>\n",
       "    </tr>\n",
       "    <tr>\n",
       "      <th>763</th>\n",
       "      <td>10</td>\n",
       "      <td>101</td>\n",
       "      <td>76</td>\n",
       "      <td>48</td>\n",
       "      <td>180</td>\n",
       "      <td>32.9</td>\n",
       "      <td>0.171</td>\n",
       "      <td>63</td>\n",
       "      <td>NaN</td>\n",
       "      <td>10</td>\n",
       "    </tr>\n",
       "    <tr>\n",
       "      <th>764</th>\n",
       "      <td>2</td>\n",
       "      <td>122</td>\n",
       "      <td>70</td>\n",
       "      <td>27</td>\n",
       "      <td>0</td>\n",
       "      <td>36.8</td>\n",
       "      <td>0.340</td>\n",
       "      <td>27</td>\n",
       "      <td>NaN</td>\n",
       "      <td>10</td>\n",
       "    </tr>\n",
       "    <tr>\n",
       "      <th>765</th>\n",
       "      <td>5</td>\n",
       "      <td>121</td>\n",
       "      <td>72</td>\n",
       "      <td>23</td>\n",
       "      <td>112</td>\n",
       "      <td>26.2</td>\n",
       "      <td>0.245</td>\n",
       "      <td>30</td>\n",
       "      <td>NaN</td>\n",
       "      <td>10</td>\n",
       "    </tr>\n",
       "    <tr>\n",
       "      <th>766</th>\n",
       "      <td>1</td>\n",
       "      <td>126</td>\n",
       "      <td>60</td>\n",
       "      <td>0</td>\n",
       "      <td>0</td>\n",
       "      <td>30.1</td>\n",
       "      <td>0.349</td>\n",
       "      <td>47</td>\n",
       "      <td>NaN</td>\n",
       "      <td>10</td>\n",
       "    </tr>\n",
       "    <tr>\n",
       "      <th>767</th>\n",
       "      <td>8</td>\n",
       "      <td>54</td>\n",
       "      <td>12</td>\n",
       "      <td>5</td>\n",
       "      <td>1</td>\n",
       "      <td>22.0</td>\n",
       "      <td>2.000</td>\n",
       "      <td>30</td>\n",
       "      <td>2.0</td>\n",
       "      <td>5</td>\n",
       "    </tr>\n",
       "  </tbody>\n",
       "</table>\n",
       "<p>767 rows × 10 columns</p>\n",
       "</div>"
      ],
      "text/plain": [
       "     Pregnancies  Glucose  BloodPressure  SkinThickness  Insulin   BMI  \\\n",
       "1              1       85             66             29        0  26.6   \n",
       "2              8      183             64              0        0  23.3   \n",
       "3              1       89             66             23       94  28.1   \n",
       "4              0      137             40             35      168  43.1   \n",
       "5              5      116             74              0        0  25.6   \n",
       "..           ...      ...            ...            ...      ...   ...   \n",
       "763           10      101             76             48      180  32.9   \n",
       "764            2      122             70             27        0  36.8   \n",
       "765            5      121             72             23      112  26.2   \n",
       "766            1      126             60              0        0  30.1   \n",
       "767            8       54             12              5        1  22.0   \n",
       "\n",
       "     DiabetesPedigreeFunction  Age    M  M1  \n",
       "1                       0.351   31  NaN  10  \n",
       "2                       0.672   32  NaN  10  \n",
       "3                       0.167   21  NaN  10  \n",
       "4                       2.288   33  NaN  10  \n",
       "5                       0.201   30  NaN  10  \n",
       "..                        ...  ...  ...  ..  \n",
       "763                     0.171   63  NaN  10  \n",
       "764                     0.340   27  NaN  10  \n",
       "765                     0.245   30  NaN  10  \n",
       "766                     0.349   47  NaN  10  \n",
       "767                     2.000   30  2.0   5  \n",
       "\n",
       "[767 rows x 10 columns]"
      ]
     },
     "execution_count": 118,
     "metadata": {},
     "output_type": "execute_result"
    }
   ],
>>>>>>> master
   "source": [
    "df.drop_duplicates()"
   ]
  },
  {
   "cell_type": "markdown",
   "metadata": {
    "id": "eDVkGgSAC60v"
   },
   "source": [
    "# 6.Identifying outliers <a id='Identifying_outliers'></a>"
   ]
  },
  {
   "cell_type": "markdown",
   "metadata": {},
   "source": [
    "**<font color='#808080'> Using Z-score for Normal Distribution:**\n",
    "- ```z_score = stats.zscore(df[\"Age\"])```: <font color='#808080'> Calculates the Z-scores for the \"Age\" column, which measures how many standard deviations each value is from the mean. This is useful for identifying outliers in a normally distributed dataset.\n",
    "- ```outliners = df[(z_score > 3) | (z_score < -3)]```: <font color='#808080'>Identifies the outliers based on the Z-scores. Rows where the absolute value of the Z-score is greater than 3 are considered outliers."
   ]
  },
  {
   "cell_type": "code",
<<<<<<< HEAD
   "execution_count": null,
   "metadata": {},
   "outputs": [],
   "source": [
    "z_score = stats.zscore(df[\"Age\"])\n",
    "outliners = df[(z_score > 3) | (z_score <-3)]"
=======
   "execution_count": 130,
   "metadata": {},
   "outputs": [
    {
     "name": "stdout",
     "output_type": "stream",
     "text": [
      "1     -0.845991\n",
      "2      1.230884\n",
      "3     -0.845991\n",
      "4     -1.142688\n",
      "5      0.340795\n",
      "         ...   \n",
      "763    1.824277\n",
      "764   -0.549295\n",
      "765    0.340795\n",
      "766   -0.845991\n",
      "767    1.230884\n",
      "Name: Pregnancies, Length: 767, dtype: float64\n",
      "     Pregnancies  Glucose  BloodPressure  SkinThickness  Insulin   BMI  \\\n",
      "88            15      136             70             32      110  37.1   \n",
      "159           17      163             72             41      114  40.9   \n",
      "298           14      100             78             25      184  36.6   \n",
      "455           14      175             62             30        0  33.6   \n",
      "\n",
      "     DiabetesPedigreeFunction  Age   M  M1  \n",
      "88                      0.153   43 NaN  10  \n",
      "159                     0.817   47 NaN  10  \n",
      "298                     0.412   46 NaN  10  \n",
      "455                     0.212   38 NaN  10  \n"
     ]
    }
   ],
   "source": [
    "z_score = stats.zscore(df[\"Pregnancies\"])\n",
    "print(z_score)\n",
    "outliners = df[(z_score > 3) | (z_score <-3)]\n",
    "print(outliners)"
>>>>>>> master
   ]
  },
  {
   "cell_type": "markdown",
   "metadata": {},
   "source": [
    "**<font color='#808080'>Using IQR for Abnormal Distribution**\n",
    "- ```q1 = df[\"Age\"].quantile(0.25)```:<font color='#808080'> Calculates the first quartile (25th percentile) of the \"Age\" column.\n",
    "- ```q3 = df[\"Age\"].quantile(0.75)```:<font color='#808080'> Calculates the third quartile (75th percentile) of the \"Age\" column.\n",
    "- ```IQR = q3 - q1```:<font color='#808080'>Computes the Interquartile Range (IQR), which is the difference between the third and first quartiles.\n",
    "- ```outliners = df[(df[\"Age\"] < (q1 - 1.5 * IQR)) | (df[\"Age\"] > (q3 + 1.5 * IQR))]```: <font color='#808080'>Identifies outliers using the IQR method. Values below ```𝑞1 − 1.5 × 𝐼𝑄𝑅``` or above ```q3 + 1.5 × IQR``` are considered outliers."
   ]
  },
  {
   "cell_type": "code",
   "execution_count": null,
   "metadata": {},
   "outputs": [],
   "source": [
    "q1 = df[\"Age\"].quantile(0.25)\n",
    "q3 = df[\"Age\"].quantile(0.75)\n",
    "IQR = q3 - q1\n",
    "outliners = df[(df[\"Age\"] < (q1 - 1.5 * IQR)) | (df[\"Age\"] > (q3 + 1.5 * IQR))]"
   ]
  },
  {
   "cell_type": "markdown",
   "metadata": {},
   "source": [
    "**<font color='#808080'>Using Boxplot**\n",
    "- ```sns.boxplot(x=df[\"Age\"])```:Creates a boxplot for the \"Age\" column using Seaborn, visually representing the distribution, median, quartiles, and potential outliers."
   ]
  },
  {
   "cell_type": "code",
<<<<<<< HEAD
   "execution_count": null,
   "metadata": {},
   "outputs": [],
   "source": [
    "plt.figure(figsize=(8,6))\n",
    "sns.boxplot(x=df[\"Age\"])\n",
    "plt.title(\"Boxplot for age\")\n",
    "plt.xlabel(\"Age\")\n",
=======
   "execution_count": 132,
   "metadata": {},
   "outputs": [
    {
     "data": {
      "image/png": "iVBORw0KGgoAAAANSUhEUgAAAogAAAIhCAYAAADNWkucAAAAOXRFWHRTb2Z0d2FyZQBNYXRwbG90bGliIHZlcnNpb24zLjguMCwgaHR0cHM6Ly9tYXRwbG90bGliLm9yZy81sbWrAAAACXBIWXMAAA9hAAAPYQGoP6dpAAAqcklEQVR4nO3de5yVVb348e+GGWYAYVQuDshVC0zzBngBCxEMJTPTSg2OQWqZR7O8/BSzwFtHMjUrUzsdBE1EMy+RaIYCZoGICl6LTEE8R5GcUhAcBGb9/uiwc8kMtwNzkff79ZrXa+bZz/PstZdrZj48e++xkFJKAQAA/6tZQw8AAIDGRSACAJARiAAAZAQiAAAZgQgAQEYgAgCQEYgAAGQEIgAAGYEIAEBGIALrmThxYhQKheyjQ4cOMWjQoLjvvvsaenhFPXr0iFGjRm32cStXroyLL744Zs6cucnHzJs3Lw499NCoqKiIQqEQ11577WbfL0BTUdLQAwAarwkTJsQee+wRKaVYsmRJXHfddXH00UfHlClT4uijj27o4W2xlStXxiWXXBIREYMGDdqkY04++eRYsWJF3H777bHTTjtFjx49tt0AARqYQATq9PGPfzz69etX/PrII4+MnXbaKSZPntykA3FLPPfcc/HVr341hg0btlXOt3r16igUClFS4scw0Ph4ihnYZOXl5dGiRYsoLS3Ntv/973+Pf//3f49dd901WrRoEbvttltcdNFFsWrVqoiIqK6ujv333z8+8pGPxNtvv108bsmSJVFZWRmDBg2KtWvXRkTEqFGjYocddojnn38+hgwZEq1bt44OHTrEmWeeGStXrtzoGBcvXhz/9m//Fh07doyysrL42Mc+FldffXXU1NRERMSiRYuiQ4cOERFxySWXFJ9Cr+up6nVPt69ZsyZuuOGG4v7rPPfcc3HMMcfETjvtFOXl5bHffvvFzTffnJ1j5syZUSgU4he/+EWce+65seuuu0ZZWVn89a9/rfNxXHLJJXHQQQfFzjvvHG3bto0+ffrE+PHjI6WU7bdq1ao499xzo7KyMlq1ahUDBw6MJ598stan35csWRKnnXZadOnSJVq0aBE9e/aMSy65JNasWbPReQW2L/7pCtRp7dq1sWbNmkgpxRtvvBE/+MEPYsWKFTF8+PDiPtXV1XHYYYfFSy+9FJdccknss88+8eijj8YVV1wR8+fPj6lTp0Z5eXn88pe/jL59+8bJJ58cd911V9TU1MSIESMipRSTJ0+O5s2bF8+5evXq+PSnPx2nnXZajB49OmbNmhWXX355vPLKK/Gb3/ymzvH+7W9/iwEDBsR7770Xl112WfTo0SPuu+++OO+88+Kll16K66+/Pjp16hS//e1v48gjj4xTTjklTj311IiIYjR+0FFHHRWzZ8+O/v37xxe+8IU499xzi7ctWLAgBgwYEB07dowf//jH0a5du7j11ltj1KhR8cYbb8T555+fnevCCy+M/v37x4033hjNmjWLjh071vlYFi1aFKeddlp069YtIiIee+yx+MY3vhH/8z//E2PGjCnu95WvfCXuuOOOOP/882Pw4MHxwgsvxLHHHhvLli3LzrdkyZI48MADo1mzZjFmzJjYfffdY/bs2XH55ZfHokWLYsKECXWOBdgOJYAPmDBhQoqI9T7KysrS9ddfn+174403pohIv/zlL7Pt3//+91NEpN/97nfFbXfccUeKiHTttdemMWPGpGbNmmW3p5TSyJEjU0SkH/3oR9n2733veyki0h/+8Ifitu7du6eRI0cWvx49enSKiDRnzpzs2NNPPz0VCoW0YMGClFJKf/vb31JEpLFjx27ynEREOuOMM7JtJ554YiorK0uLFy/Otg8bNiy1atUqvfXWWymllGbMmJEiIg0cOHCT7+/91q5dm1avXp0uvfTS1K5du1RTU5NSSun5559PEZEuuOCCbP/JkyeniMjm5rTTTks77LBDeuWVV7J9r7rqqhQR6fnnn9+isQEfTp5iBup0yy23xNy5c2Pu3LnxwAMPxMiRI+OMM86I6667rrjP9OnTo3Xr1vGFL3whO3bd05sPP/xwcdvxxx8fp59+evy///f/4vLLL49vf/vb8alPfarW+x4xYkT29bqrljNmzKhzvNOnT48999wzDjzwwPXGklKK6dOnb/xBb4bp06fHkCFDomvXruvd38qVK2P27NnZ9s9//vObde7DDz88Kioqonnz5lFaWhpjxoyJqqqqWLp0aUREPPLIIxHxz3l9vy984Qvrvbbxvvvui8MOOyw6d+4ca9asKX6se03lunMBRHgNIrABH/vYx6Jfv37Rr1+/OPLII+NnP/tZDB06NM4///x46623IiKiqqoqKisrs9flRUR07NgxSkpKoqqqKtt+8sknx+rVq6OkpCTOOuusWu+3pKQk2rVrl22rrKws3l9dqqqqolOnTutt79y580aP3RKbe3+17Vubxx9/PIYOHRoRET//+c/jj3/8Y8ydOzcuuuiiiIh49913s/Pvsssu2fG1zd8bb7wRv/nNb6K0tDT72GuvvSIi4s0339yksQHbB69BBDbLPvvsEw8++GD85S9/iQMPPDDatWsXc+bMiZRSFolLly6NNWvWRPv27YvbVqxYESeddFL06tUr3njjjTj11FPj17/+9Xr3sWbNmqiqqsoiZ8mSJRER64XP+7Vr1y5ef/319ba/9tprERHZWLaGzb2/D0Z0XW6//fYoLS2N++67L8rLy4vb77333vXuP+Kf8bfrrrsWt6+bv/dr37597LPPPvG9732v1vtcF7UAEa4gAptp/vz5EfGvN3UMGTIk3nnnnfXi5ZZbbinevs7Xv/71WLx4cdx9990xfvz4mDJlSvzwhz+s9X4mTZqUfX3bbbdFxIb/buGQIUPihRdeiKeeemq9sRQKhTjssMMiIqKsrCwi/nUlbksNGTIkpk+fXgzC999fq1at4uCDD96i86778zfvf+POu+++G7/4xS+y/QYOHBgREXfccUe2/Ve/+tV670z+zGc+E88991zsvvvuxavC7/8QiMD7uYII1Om5554rhkZVVVXcfffdMW3atDj22GOjZ8+eERHx5S9/OX7605/GyJEjY9GiRbH33nvHH/7wh/iP//iP+PSnPx2HH354RET813/9V9x6660xYcKE2GuvvWKvvfaKM888My644II45JBDstcNtmjRIq6++up455134oADDii+i3nYsGHxiU98os7xnn322XHLLbfEUUcdFZdeeml07949pk6dGtdff32cfvrp0atXr4iIaNOmTXTv3j1+/etfx5AhQ2LnnXeO9u3bb/Yfvx47dmzxtX1jxoyJnXfeOSZNmhRTp06NK6+8MioqKjbrfOscddRRcc0118Tw4cPja1/7WlRVVcVVV11VDNt19tprr/jSl74UV199dTRv3jwGDx4czz//fFx99dVRUVERzZr96xrApZdeGtOmTYsBAwbEWWedFb17947q6upYtGhR3H///XHjjTdGly5dtmi8wIdQQ79LBmh8ansXc0VFRdpvv/3SNddck6qrq7P9q6qq0te//vXUqVOnVFJSkrp3754uvPDC4n7PPPNMatmyZfau2pRSqq6uTn379k09evRI//jHP1JK/3wXc+vWrdMzzzyTBg0alFq2bJl23nnndPrpp6d33nknO/6D72JOKaVXXnklDR8+PLVr1y6Vlpam3r17px/84Adp7dq12X4PPfRQ2n///VNZWdl67/itTdTyLuaUUnr22WfT0UcfnSoqKlKLFi3SvvvumyZMmJDts+5dzHfeeecG7+P9brrpptS7d+9UVlaWdtttt3TFFVek8ePHp4hICxcuLO5XXV2dzjnnnNSxY8dUXl6eDj744DR79uxUUVGRzj777Oycf/vb39JZZ52VevbsmUpLS9POO++c+vbtmy666KL15hbYvhVS+sBfXQVoQKNGjYpf/epX8c477zT0UJqsWbNmxSGHHBKTJk3K/mYlwKbyFDNAEzZt2rSYPXt29O3bN1q2bBlPP/10jBs3Lj760Y/Gcccd19DDA5oogQjQhLVt2zZ+97vfxbXXXhvLly+P9u3bx7Bhw+KKK67I3gENsDk8xQwAQMafuQEAICMQAQDICEQAADJb/CaVmpqaeO2116JNmzab/L+PAgCg/qSUYvny5dG5c+fsj+dvzBYH4muvvRZdu3bd0sMBAKgnr7766mb935K2OBDbtGlTvMO2bdtu6WkAANhGli1bFl27di1226ba4kBc97Ry27ZtBSIAQCO2uS8H9CYVAAAyAhEAgIxABAAgIxABAMgIRAAAMgIRAICMQAQAICMQAQDICEQAADICEQCAjEAEACAjEAEAyAhEAAAyAhEAgIxABAAgIxABAMgIRAAAMgIRAICMQAQAICMQAQDICEQAADICEQCAjEAEACAjEAEAyAhEAAAyAhEAgIxABAAgIxABAMgIRAAAMgIRAICMQAQAICMQAQDICEQAADICEQCAjEAEACAjEAEAyAhEAAAyAhEAgIxABAAgIxABAMgIRAAAMiUNPYCmIqUU1dXVDT0MqFN5eXkUCoWGHgYAHwICcRNVV1fHsGHDGnoYUKcHHnggWrZs2dDDAOBDwFPMAABkXEHcAu/s96VIzbbjqVu7Oto8fXtERCzf98SI5qUNPKDtV6FmTewwf3JDDwOAD5ntuHK2XGpWIorWaV5qLhpQaugBAPCh5ClmAAAyAhEAgIxABAAgIxABAMgIRAAAMgIRAICMQAQAICMQAQDICEQAADICEQCAjEAEACAjEAEAyAhEAAAyAhEAgIxABAAgIxABAMgIRAAAMgIRAICMQAQAICMQAQDICEQAADICEQCAjEAEACAjEAEAyAhEAAAyAhEAgIxABAAgIxABAMgIRAAAMgIRAICMQAQAICMQAQDICEQAADICEQCAjEAEACAjEAEAyAhEAAAyAhEAgIxABAAgIxABAMgIRAAAMgIRAICMQAQAICMQAQDICEQAADICEQCAjEAEACAjEAEAyAhEAAAyAhEAgIxABAAgIxABAMgIRAAAMgIRAICMQAQAICMQAQDICEQAADICEQCAjEAEACAjEAEAyAhEAAAyAhEAgIxABAAgIxABAMgIRAAAMgIRAICMQAQAICMQAQDICEQAADICEQCAjEAEACAjEAEAyAhEAAAyAhEAgIxABAAgIxABAMgIRAAAMgIRAICMQAQAICMQAQDICEQAADICEQCAjEAEACAjEAEAyAhEAAAyAhEAgIxABAAgU9LQA9gUKaWorq6OiIjy8vIoFAoNPCIA2DC/u2jKmsQVxOrq6hg2bFgMGzas+M0GAI2Z3100ZU0iEAEAqD8CEQCAjEAEACAjEAEAyAhEAAAyAhEAgIxABAAgIxABAMgIRAAAMgIRAICMQAQAICMQAQDICEQAADICEQCAjEAEACAjEAEAyAhEAAAyAhEAgIxABAAgIxABAMgIRAAAMgIRAICMQAQAICMQAQDICEQAADICEQCAjEAEACAjEAEAyAhEAAAyAhEAgIxABAAgIxABAMgIRAAAMgIRAICMQAQAICMQAQDICEQAADICEQCAjEAEACAjEAEAyAhEAAAyAhEAgIxABAAgIxABAMgIRAAAMgIRAICMQAQAICMQAQDICEQAADICEQCAjEAEACAjEAEAyAhEAAAyAhEAgIxABAAgIxABAMgIRAAAMgIRAICMQAQAICMQAQDICEQAADICEQCAjEAEACAjEAEAyAhEAAAyAhEAgIxABAAgIxABAMgIRAAAMgIRAICMQAQAICMQAQDICEQAADICEQCAjEAEACAjEAEAyAhEAAAyAhEAgIxABAAgIxABAMgIRAAAMgIRAICMQAQAICMQAQDICEQAADICEQCAjEAEACAjEAEAyAhEAPgQGz9+fAwePDjGjx/fYGOYNWtWnHDCCTFr1qwGG0Nj0VTmQiACwIfUW2+9FZMmTYqampqYNGlSvPXWW/U+hurq6rjmmmvijTfeiGuuuSaqq6vrfQyNRVOaC4EIAB9S3/3ud6OmpiYiImpqamLMmDH1PoZJkyZFVVVVRERUVVXFbbfdVu9jaCya0lyUNPQANkVKqfh5Q9V2dr/vGw80qEbwvQHU7v3fk6kBfm888cQT8eyzz2bbnnnmmXjiiSeiX79+9TKG//7v/47bbrut+PhTSnHbbbfF0KFDo0uXLvUyhsaiqc3FJgfiqlWrYtWqVcWvly1btk0GVNd9r3PsscfW2/3WqWZNRLRo6FHA/67Ff2oU3xtArVatWhWtWrWqt/urqamJSy+9tNbbLr300rj33nujWbNt+yRiSil+9KMf1bn9yiuvjEKhsE3H0Fg0xbnY5NVxxRVXREVFRfGja9eu23JcAMAWmjNnTp0XcpYtWxZz5szZ5mNYvHhxzJ07N9auXZttX7t2bcydOzcWL168zcfQWDTFudjkK4gXXnhhnHPOOcWvly1bVm+RWFZWVvz8nnvuifLy8nq53/errq7+1xWaZk3imXm2B+9biw31vQHU7v2/N97/e6w+HHTQQdG2bdtaI7GioiIOOuigbT6Gbt26xQEHHBBPPfVUFkbNmzePvn37Rrdu3bb5GBqLpjgXm1w6ZWVl9b7A13n/Zdfy8vJo2bJlg4yjqJFdBmY71ti+N4Ba1ffTh82aNYsxY8bEeeedt95tY8eO3eZPL0f88zF/85vfjJEjR9a6vbE9pbotNcW58C5mAPgQ6tevX+y9997Ztn322Sf69OlTb2Po0qVLDB8+vBhAhUIhhg8fHrvuumu9jaGxaGpzIRAB4EPqsssuK14tbNasWZ1vXNmWRowYEe3atYuIiPbt28fw4cPrfQyNRVOaC4EIAB9SO+64Y4wYMSKaNWsWI0aMiB133LHex1BeXh7nnHNO7LLLLnH22Wdv16+Vbkpz4d0WAPAhdsopp8Qpp5zSoGMYMGBADBgwoEHH0Fg0lblwBREAgIxABAAgIxABAMgIRAAAMgIRAICMQAQAICMQAQDICEQAADICEQCAjEAEACAjEAEAyAhEAAAyAhEAgIxABAAgIxABAMgIRAAAMgIRAICMQAQAICMQAQDICEQAADICEQCAjEAEACAjEAEAyAhEAAAyAhEAgIxABAAgIxABAMgIRAAAMgIRAICMQAQAICMQAQDICEQAADICEQCAjEAEACAjEAEAyAhEAAAyAhEAgIxABAAgIxABAMgIRAAAMgIRAICMQAQAICMQAQDICEQAADICEQCAjEAEACAjEAEAyAhEAAAyAhEAgIxABAAgIxABAMgIRAAAMgIRAICMQAQAICMQAQDICEQAADICEQCAjEAEACAjEAEAyAhEAAAyAhEAgIxABAAgIxABAMgIRAAAMgIRAICMQAQAICMQAQDICEQAADICEQCAjEAEACAjEAEAyAhEAAAyAhEAgIxABAAgIxABAMgIRAAAMgIRAICMQAQAICMQAQDICEQAADICEQCAjEAEACAjEAEAyAhEAAAyAhEAgIxABAAgU9LQA9gU5eXl8cADDxQ/B4DGzu8umrImEYiFQiFatmzZ0MMAgE3mdxdNmaeYAQDICEQAADICEQCAjEAEACAjEAEAyAhEAAAyAhEAgIxABAAgIxABAMgIRAAAMgIRAICMQAQAICMQAQDICEQAADICEQCAjEAEACAjEAEAyAhEAAAyAhEAgIxABAAgIxABAMgIRAAAMgIRAICMQAQAICMQAQDICEQAADICEQCAjEAEACAjEAEAyAhEAAAyAhEAgIxABAAgIxABAMgIRAAAMgIRAICMQAQAICMQAQDICEQAADICEQCAjEAEACAjEAEAyAhEAAAyAhEAgIxABAAgIxABAMgIRAAAMgIRAICMQAQAICMQAQDICEQAADICEQCAjEAEACAjEAEAyAhEAAAyAhEAgIxABAAgIxABAMgIRAAAMgIRAICMQAQAICMQAQDICEQAADICEQCAjEAEACAjEAEAyAhEAAAyAhEAgIxABAAgIxABAMgIRAAAMgIRAICMQAQAICMQAQDICEQAADICEQCAjEAEACAjEAEAyAhEAAAyAhEAgIxABAAgIxABAMgIRAAAMgIRAICMQAQAICMQAQDICEQAADICEQCAjEAEACBT0tADaIoKNWsiNfQgGtLa1bV/Tr0r1Kxp6CEA8CEkELfADvMnN/QQGo02T9/e0EMAALYyTzEDAJBxBXETlZeXxwMPPNDQw4A6lZeXN/QQAPiQEIibqFAoRMuWLRt6GAAA25ynmAEAyAhEAAAyAhEAgIxABAAgIxABAMgIRAAAMgIRAICMQAQAICMQAQDICEQAADICEQCAjEAEACAjEAEAyAhEAAAyAhEAgIxABAAgIxABAMgIRAAAMgIRAICMQAQAICMQAQDICEQAADICEQCAjEAEACAjEAEAyAhEAAAyAhEAgIxABAAgIxABAMgIRAAAMgIRAICMQAQAICMQAQDICEQAADICEQCAjEAEACAjEAEAyAhEAAAyAhEAgIxABAAgIxABAMgIRAAAMiVbemBKKSIili1bttUGAwDA1rOu09Z126ba4kBcvnx5RER07dp1S08BAEA9WL58eVRUVGzy/oW0uUn5v2pqauK1116LNm3aRKFQ2JJTbJZly5ZF165d49VXX422bdtu8/v7MDOXW4+53HrM5dZjLrcO87j1mMutZ3PnMqUUy5cvj86dO0ezZpv+ysItvoLYrFmz6NKly5YevsXatm1rcW0l5nLrMZdbj7nceszl1mEetx5zufVszlxuzpXDdbxJBQCAjEAEACDTZAKxrKwsxo4dG2VlZQ09lCbPXG495nLrMZdbj7ncOszj1mMut576msstfpMKAAAfTk3mCiIAAPVDIAIAkBGIAABkBCIAAJlGFYjXX3999OzZM8rLy6Nv377x6KOPbnD/Rx55JPr27Rvl5eWx2267xY033lhPI228rrjiijjggAOiTZs20bFjx/jc5z4XCxYs2OAxM2fOjEKhsN7Hn//853oadeN08cUXrzcnlZWVGzzGmqxdjx49al1jZ5xxRq37W5P/8vvf/z6OPvro6Ny5cxQKhbj33nuz21NKcfHFF0fnzp2jZcuWMWjQoHj++ec3et677ror9txzzygrK4s999wz7rnnnm30CBqPDc3l6tWr44ILLoi99947WrduHZ07d44vf/nL8dprr23wnBMnTqx1rVZXV2/jR9NwNrYmR40atd58HHzwwRs9rzW5/lzWtrYKhUL84Ac/qPOcW2tNNppAvOOOO+Jb3/pWXHTRRTFv3rz45Cc/GcOGDYvFixfXuv/ChQvj05/+dHzyk5+MefPmxbe//e0466yz4q677qrnkTcujzzySJxxxhnx2GOPxbRp02LNmjUxdOjQWLFixUaPXbBgQbz++uvFj49+9KP1MOLGba+99srm5Nlnn61zX2uybnPnzs3mcdq0aRER8cUvfnGDx1mTEStWrIh99903rrvuulpvv/LKK+Oaa66J6667LubOnRuVlZXxqU99KpYvX17nOWfPnh0nnHBCnHTSSfH000/HSSedFMcff3zMmTNnWz2MRmFDc7ly5cp46qmn4rvf/W489dRTcffdd8df/vKX+OxnP7vR87Zt2zZbp6+//nqUl5dvi4fQKGxsTUZEHHnkkdl83H///Rs8pzVZ+1x+cF3ddNNNUSgU4vOf//wGz7tV1mRqJA488MD09a9/Pdu2xx57pNGjR9e6//nnn5/22GOPbNtpp52WDj744G02xqZo6dKlKSLSI488Uuc+M2bMSBGR/vGPf9TfwJqAsWPHpn333XeT97cmN903v/nNtPvuu6eamppab7cmaxcR6Z577il+XVNTkyorK9O4ceOK26qrq1NFRUW68cYb6zzP8ccfn4488shs2xFHHJFOPPHErT7mxuqDc1mbxx9/PEVEeuWVV+rcZ8KECamiomLrDq4JqW0eR44cmY455pjNOo81uWlr8phjjkmDBw/e4D5ba002iiuI7733Xjz55JMxdOjQbPvQoUNj1qxZtR4ze/bs9fY/4ogj4oknnojVq1dvs7E2NW+//XZEROy8884b3Xf//fePTp06xZAhQ2LGjBnbemhNwosvvhidO3eOnj17xoknnhgvv/xynftak5vmvffei1tvvTVOPvnkKBQKG9zXmtywhQsXxpIlS7J1V1ZWFoceemidPzsj6l6rGzpme/T2229HoVCIHXfccYP7vfPOO9G9e/fo0qVLfOYzn4l58+bVzwAbsZkzZ0bHjh2jV69e8dWvfjWWLl26wf2tyY174403YurUqXHKKadsdN+tsSYbRSC++eabsXbt2thll12y7bvsskssWbKk1mOWLFlS6/5r1qyJN998c5uNtSlJKcU555wTn/jEJ+LjH/94nft16tQp/vM//zPuuuuuuPvuu6N3794xZMiQ+P3vf1+Po218DjrooLjlllviwQcfjJ///OexZMmSGDBgQFRVVdW6vzW5ae6999546623YtSoUXXuY01umnU/HzfnZ+e64zb3mO1NdXV1jB49OoYPHx5t27atc7899tgjJk6cGFOmTInJkydHeXl5HHLIIfHiiy/W42gbl2HDhsWkSZNi+vTpcfXVV8fcuXNj8ODBsWrVqjqPsSY37uabb442bdrEcccdt8H9ttaaLPm/DHZr++DVhJTSBq8w1LZ/bdu3V2eeeWY888wz8Yc//GGD+/Xu3Tt69+5d/Lp///7x6quvxlVXXRUDBw7c1sNstIYNG1b8fO+9947+/fvH7rvvHjfffHOcc845tR5jTW7c+PHjY9iwYdG5c+c697EmN8/m/uzc0mO2F6tXr44TTzwxampq4vrrr9/gvgcffHD2BoxDDjkk+vTpEz/5yU/ixz/+8bYeaqN0wgknFD//+Mc/Hv369Yvu3bvH1KlTNxg31uSG3XTTTTFixIiNvpZwa63JRnEFsX379tG8efP1/qWwdOnS9f5FsU5lZWWt+5eUlES7du222Vibim984xsxZcqUmDFjRnTp0mWzjz/44IO3638B16Z169ax99571zkv1uTGvfLKK/HQQw/FqaeeutnHWpPrW/eu+s352bnuuM09ZnuxevXqOP7442PhwoUxbdq0DV49rE2zZs3igAMOsFbfp1OnTtG9e/cNzok1uWGPPvpoLFiwYIt+dm7pmmwUgdiiRYvo27dv8Z2N60ybNi0GDBhQ6zH9+/dfb//f/e530a9fvygtLd1mY23sUkpx5plnxt133x3Tp0+Pnj17btF55s2bF506ddrKo2vaVq1aFX/605/qnBdrcuMmTJgQHTt2jKOOOmqzj7Um19ezZ8+orKzM1t17770XjzzySJ0/OyPqXqsbOmZ7sC4OX3zxxXjooYe26B92KaWYP3++tfo+VVVV8eqrr25wTqzJDRs/fnz07ds39t13380+dovX5P/5bS5bye23355KS0vT+PHj0wsvvJC+9a1vpdatW6dFixallFIaPXp0Oumkk4r7v/zyy6lVq1bp7LPPTi+88EIaP358Ki0tTb/61a8a6iE0CqeffnqqqKhIM2fOTK+//nrxY+XKlcV9PjiXP/zhD9M999yT/vKXv6TnnnsujR49OkVEuuuuuxriITQa5557bpo5c2Z6+eWX02OPPZY+85nPpDZt2liTW2jt2rWpW7du6YILLljvNmuybsuXL0/z5s1L8+bNSxGRrrnmmjRv3rziO2vHjRuXKioq0t13352effbZ9KUvfSl16tQpLVu2rHiOk046KfuLEH/84x9T8+bN07hx49Kf/vSnNG7cuFRSUpIee+yxen989WlDc7l69er02c9+NnXp0iXNnz8/+/m5atWq4jk+OJcXX3xx+u1vf5teeumlNG/evPSVr3wllZSUpDlz5jTEQ6wXG5rH5cuXp3PPPTfNmjUrLVy4MM2YMSP1798/7brrrtZkLTb2/Z1SSm+//XZq1apVuuGGG2o9x7Zak40mEFNK6ac//Wnq3r17atGiRerTp0/2p1lGjhyZDj300Gz/mTNnpv333z+1aNEi9ejRo87J255ERK0fEyZMKO7zwbn8/ve/n3bfffdUXl6edtppp/SJT3wiTZ06tf4H38iccMIJqVOnTqm0tDR17tw5HXfccen5558v3m5Nbp4HH3wwRURasGDBerdZk3Vb9yd/PvgxcuTIlNI//9TN2LFjU2VlZSorK0sDBw5Mzz77bHaOQw89tLj/OnfeeWfq3bt3Ki0tTXvsscd2Ed8bmsuFCxfW+fNzxowZxXN8cC6/9a1vpW7duqUWLVqkDh06pKFDh6ZZs2bV/4OrRxuax5UrV6ahQ4emDh06pNLS0tStW7c0cuTItHjx4uwc1uQ/bez7O6WUfvazn6WWLVumt956q9ZzbKs1WUjpf19FDwAA0UhegwgAQOMhEAEAyAhEAAAyAhEAgIxABAAgIxABAMgIRAAAMgIRAICMQASoJz169Ihrr722oYcBsFECEag3o0aNikKhEIVCIUpLS2O33XaL8847L1asWNHQQ6sXc+fOja997WsNPQyAjSpp6AEA25cjjzwyJkyYEKtXr45HH300Tj311FixYkXccMMN2X6rV6+O0tLSBhrlttGhQ4eGHgLAJnEFEahXZWVlUVlZGV27do3hw4fHiBEj4t57742LL7449ttvv7jppptit912i7Kyskgpxdtvvx1f+9rXomPHjtG2bdsYPHhwPP3009k5L7/88ujYsWO0adMmTj311Bg9enTst99+xdtHjRoVn/vc5+Kqq66KTp06Rbt27eKMM86I1atXF/e59dZbo1+/ftGmTZuorKyM4cOHx9KlS4u3z5w5MwqFQjz88MPRr1+/aNWqVQwYMCAWLFiQjWXKlCnRr1+/KC8vj/bt28dxxx1XvO2DTzFv7LE9/fTTcdhhh0WbNm2ibdu20bdv33jiiSf+r/8JADZKIAINqmXLlsVQ++tf/xq//OUv46677or58+dHRMRRRx0VS5Ysifvvvz+efPLJ6NOnTwwZMiT+/ve/R0TEpEmT4nvf+158//vfjyeffDK6deu23tXIiIgZM2bESy+9FDNmzIibb745Jk6cGBMnTize/t5778Vll10WTz/9dNx7772xcOHCGDVq1Hrnueiii+Lqq6+OJ554IkpKSuLkk08u3jZ16tQ47rjj4qijjop58+YVY7I2KaWNPrYRI0ZEly5dYu7cufHkk0/G6NGjP3RXVYFGKgHUk5EjR6Zjjjmm+PWcOXNSu3bt0vHHH5/Gjh2bSktL09KlS4u3P/zww6lt27apuro6O8/uu++efvazn6WUUjrooIPSGWeckd1+yCGHpH333Te73+7du6c1a9YUt33xi19MJ5xwQp1jffzxx1NEpOXLl6eUUpoxY0aKiPTQQw8V95k6dWqKiPTuu++mlFLq379/GjFiRJ3n7N69e/rhD3+4yY+tTZs2aeLEiXWeD2BbcQURqFf33Xdf7LDDDlFeXh79+/ePgQMHxk9+8pOIiOjevXv2Or0nn3wy3nnnnWjXrl3ssMMOxY+FCxfGSy+9FBERCxYsiAMPPDC7jw9+HRGx1157RfPmzYtfd+rUKXsKed68eXHMMcdE9+7do02bNjFo0KCIiFi8eHF2nn322Sc7R0QUzzN//vwYMmTIJs3Dpjy2c845J0499dQ4/PDDY9y4ccXtANuaN6kA9eqwww6LG264IUpLS6Nz587ZU6atW7fO9q2pqYlOnTrFzJkz1zvPjjvuWPy8UChkt6WU1tv/g0/NFgqFqKmpiYiIFStWxNChQ2Po0KFx6623RocOHWLx4sVxxBFHxHvvvVfnedbd77rztGzZsq6HvZ5NeWwXX3xxDB8+PKZOnRoPPPBAjB07Nm6//fY49thjN/l+ALaEQATqVevWreMjH/nIJu3bp0+fWLJkSZSUlESPHj1q3ad3797x+OOPx0knnVTctrlv5Pjzn/8cb775ZowbNy66du26ReeI+OfVxYcffji+8pWvbHTfTXlsERG9evWKXr16xdlnnx1f+tKXYsKECQIR2OY8xQw0Wocffnj0798/Pve5z8WDDz4YixYtilmzZsV3vvOdYsB94xvfiPHjx8fNN98cL774Ylx++eXxzDPPrHdVcUO6desWLVq0iJ/85Cfx8ssvx5QpU+Kyyy7b7PGOHTs2Jk+eHGPHjo0//elP8eyzz8aVV165RY/t3XffjTPPPDNmzpwZr7zySvzxj3+MuXPnxsc+9rHNHhfA5hKIQKNVKBTi/vvvj4EDB8bJJ58cvXr1ihNPPDEWLVoUu+yyS0T8852+F154YZx33nnRp0+f4ruPy8vLN/l+OnToEBMnTow777wz9txzzxg3blxcddVVmz3eQYMGxZ133hlTpkyJ/fbbLwYPHhxz5szZosfWvHnzqKqqii9/+cvRq1evOP7442PYsGFxySWXbPa4ADZXIdX2Yh2AJuxTn/pUVFZWxi9+8YuGHgpAk+Q1iECTtnLlyrjxxhvjiCOOiObNm8fkyZPjoYceimnTpjX00ACaLFcQgSbt3XffjaOPPjqeeuqpWLVqVfTu3Tu+853vZP8HEwA2j0AEACDjTSoAAGQEIgAAGYEIAEBGIAIAkBGIAABkBCIAABmBCABARiACAJD5/9Wv0nlHe3obAAAAAElFTkSuQmCC",
      "text/plain": [
       "<Figure size 800x600 with 1 Axes>"
      ]
     },
     "metadata": {},
     "output_type": "display_data"
    }
   ],
   "source": [
    "plt.figure(figsize=(8,6))\n",
    "sns.boxplot(x=df[\"Pregnancies\"])\n",
    "plt.title(\"Boxplot for age\")\n",
    "plt.xlabel(\"Pregnancies\")\n",
>>>>>>> master
    "plt.show()"
   ]
  },
  {
   "cell_type": "markdown",
   "metadata": {
    "id": "2Ecm3ylBKrbO"
   },
   "source": [
    "# 7.Data Transformation <a id='Data_Transformation'></a>"
   ]
  },
  {
   "cell_type": "markdown",
   "metadata": {},
   "source": [
    "**<font color='#808080'>Identifying a Column with Two Formats**\n",
    "- ```df_string = df[\"Age\"].apply(lambda x : isinstance(x, str))```: <font color='#808080'> Checks each value in the \"Age\" column to determine if it is a string. The result is a Series of boolean values."
   ]
  },
  {
   "cell_type": "code",
<<<<<<< HEAD
   "execution_count": null,
   "metadata": {},
   "outputs": [],
   "source": [
    "df_string = df[\"Age\"].apply(lambda x : isinstance(x, str))"
=======
   "execution_count": 138,
   "metadata": {},
   "outputs": [
    {
     "name": "stdout",
     "output_type": "stream",
     "text": [
      "1      False\n",
      "2      False\n",
      "3      False\n",
      "4      False\n",
      "5      False\n",
      "       ...  \n",
      "763    False\n",
      "764    False\n",
      "765    False\n",
      "766    False\n",
      "767    False\n",
      "Name: Pregnancies, Length: 767, dtype: bool\n"
     ]
    }
   ],
   "source": [
    "df_string = df[\"Pregnancies\"].apply(lambda x : isinstance(x, str))\n",
    "print(df_string)"
>>>>>>> master
   ]
  },
  {
   "cell_type": "markdown",
   "metadata": {},
   "source": [
    "**<font color='#808080'>Deleting Noise**\n",
    "- ```pd.to_numeric(df[\"Age\"], errors=\"coerce\")```:<font color='#808080'>Converts the \"Age\" column to numeric values. Any values that cannot be converted (e.g., strings or non-numeric entries) are replaced with NaN due to the errors=\"coerce\" parameter, effectively cleaning the column of noise."
   ]
  },
  {
   "cell_type": "code",
<<<<<<< HEAD
   "execution_count": null,
   "metadata": {},
   "outputs": [],
   "source": [
    "pd.to_numeric(df[\"Age\"],  errors=\"coerce\")"
=======
   "execution_count": 140,
   "metadata": {},
   "outputs": [
    {
     "data": {
      "text/plain": [
       "1       1\n",
       "2       8\n",
       "3       1\n",
       "4       0\n",
       "5       5\n",
       "       ..\n",
       "763    10\n",
       "764     2\n",
       "765     5\n",
       "766     1\n",
       "767     8\n",
       "Name: Pregnancies, Length: 767, dtype: int64"
      ]
     },
     "execution_count": 140,
     "metadata": {},
     "output_type": "execute_result"
    }
   ],
   "source": [
    "pd.to_numeric(df[\"Pregnancies\"],  errors=\"coerce\")"
>>>>>>> master
   ]
  },
  {
   "cell_type": "markdown",
   "metadata": {},
   "source": [
    "**<font color='#808080'>Converting the Data Type of a Column**\n",
    "- ```df[\"Age\"] = df[\"Age\"].astype(str)```: <font color='#808080'>Converts the \"Age\" column to string data type. "
   ]
  },
  {
   "cell_type": "code",
<<<<<<< HEAD
   "execution_count": null,
   "metadata": {
    "id": "kiQ1UMvRKvrm"
   },
   "outputs": [],
   "source": [
    "df[\"Age\"] = df[\"Age\"].astype(str)"
=======
   "execution_count": 144,
   "metadata": {
    "id": "kiQ1UMvRKvrm"
   },
   "outputs": [
    {
     "name": "stdout",
     "output_type": "stream",
     "text": [
      "1      True\n",
      "2      True\n",
      "3      True\n",
      "4      True\n",
      "5      True\n",
      "       ... \n",
      "763    True\n",
      "764    True\n",
      "765    True\n",
      "766    True\n",
      "767    True\n",
      "Name: Pregnancies, Length: 767, dtype: bool\n"
     ]
    }
   ],
   "source": [
    "df[\"Pregnancies\"] = df[\"Pregnancies\"].astype(str)\n",
    "df_string = df[\"Pregnancies\"].apply(lambda x : isinstance(x, str))\n",
    "print(df_string)"
>>>>>>> master
   ]
  },
  {
   "cell_type": "markdown",
   "metadata": {
    "id": "ruWYX3NUhGbh"
   },
   "source": [
    "## 7.1.**Scaling**  <a id='Scaling'></a>"
   ]
  },
  {
   "cell_type": "markdown",
   "metadata": {
    "id": "ocmU16BxOCQW"
   },
   "source": [
    "### 7.1.1. **Normalization** <a id='Normalization'></a>"
   ]
  },
  {
   "cell_type": "markdown",
   "metadata": {},
   "source": [
    "<font color='#808080'>the descriptions for the different data scaling methods mentioned, including the context of scaling data to a specific range (0 to 1):\n",
    "\n",
    "**<font color='#808080'>Min-Max Scaling**\n",
    "- ```scaler = MinMaxScaler()```: <font color='#808080'> Initializes the MinMaxScaler.\n",
    "- ```scaler.fit_transform(data)```: <font color='#808080'>Fits the scaler to the data and transforms it, scaling each feature to a range between 0 and 1."
   ]
  },
  {
   "cell_type": "code",
<<<<<<< HEAD
   "execution_count": null,
   "metadata": {},
   "outputs": [],
   "source": [
    "from sklearn.preprocessing import MinMaxScaler\n",
    "scaler = MinMaxScaler()\n",
    "scaler.fit_transform(data)"
=======
   "execution_count": 148,
   "metadata": {},
   "outputs": [
    {
     "data": {
      "text/plain": [
       "array([[0.05882353, 0.42713568, 0.54098361, ..., 0.16666667,        nan,\n",
       "        1.        ],\n",
       "       [0.47058824, 0.91959799, 0.52459016, ..., 0.18333333,        nan,\n",
       "        1.        ],\n",
       "       [0.05882353, 0.44723618, 0.54098361, ..., 0.        ,        nan,\n",
       "        1.        ],\n",
       "       ...,\n",
       "       [0.29411765, 0.6080402 , 0.59016393, ..., 0.15      ,        nan,\n",
       "        1.        ],\n",
       "       [0.05882353, 0.63316583, 0.49180328, ..., 0.43333333,        nan,\n",
       "        1.        ],\n",
       "       [0.47058824, 0.27135678, 0.09836066, ..., 0.15      , 0.        ,\n",
       "        0.        ]])"
      ]
     },
     "execution_count": 148,
     "metadata": {},
     "output_type": "execute_result"
    }
   ],
   "source": [
    "from sklearn.preprocessing import MinMaxScaler\n",
    "scaler = MinMaxScaler()\n",
    "scaler.fit_transform(df)"
>>>>>>> master
   ]
  },
  {
   "cell_type": "markdown",
   "metadata": {},
   "source": [
    "**<font color='#808080'>Max Abs Scaling** Scales each feature by dividing by its maximum absolute value, preserving the sign and resulting in values in the range [-1, 1].\n",
    "\n",
    "- ```max_abs_scaler = MaxAbsScaler()```: <font color='#808080'> Initializes an instance of the MaxAbsScaler to scale features by their maximum absolute value.\n",
    "- ```scaled_data = max_abs_scaler.fit_transform(data)```: <font color='#808080'> Fits the scaler to the data and transforms it, scaling each feature to the range [-1, 1] based on its maximum absolute value."
   ]
  },
  {
   "cell_type": "code",
<<<<<<< HEAD
   "execution_count": null,
=======
   "execution_count": 150,
>>>>>>> master
   "metadata": {},
   "outputs": [],
   "source": [
    "from sklearn.preprocessing import MaxAbsScaler\n",
    "max_abs_scaler = MaxAbsScaler()\n",
<<<<<<< HEAD
    "scaled_data = max_abs_scaler.fit_transform(data)"
=======
    "scaled_data = max_abs_scaler.fit_transform(df)"
>>>>>>> master
   ]
  },
  {
   "cell_type": "markdown",
   "metadata": {},
   "source": [
    "**<font color='#808080'> Logarithm scaling** Transforms data by applying the natural logarithm, useful for reducing skewness and managing exponential growth, especially with positive values."
   ]
  },
  {
   "cell_type": "code",
   "execution_count": null,
   "metadata": {},
   "outputs": [],
   "source": []
  },
  {
   "cell_type": "code",
   "execution_count": null,
   "metadata": {
    "id": "X9iczTW0dPz4"
   },
   "outputs": [],
   "source": [
    "# z-score NOrmalization"
   ]
  },
  {
   "cell_type": "markdown",
   "metadata": {
    "id": "9Yb7rHcsdq5T"
   },
   "source": [
    "### 7.1.2.**Standardlization** <a id='Standardlization'></a>"
   ]
  },
  {
   "cell_type": "markdown",
   "metadata": {},
   "source": [
    "<font color='#808080'>Standardization of data means scaling the data so that the mean of the data is equal to zero and the standard deviation is equal to one. \n",
    "\n",
    "**<font color='#808080'>Advantages:**\n",
    "\n",
    "+ <font color='#808080'> Applicable in sensitive models like logistic regression, SVM, and KNN that are sensitive to the scale of the data.\n",
    "+ <font color='#808080'> It is excellent for data that approximately follows a normal distribution.\n",
    "+ <font color='#808080'> In algorithms like gradient descent, standardizing the data accelerates the learning process.\n",
    "\n",
    "- ```scaler = StandardScaler()```:<font color='#808080'> Initializes an instance of the StandardScaler, which standardizes features by removing the mean and scaling to unit variance.\n",
    "- ```scaler.fit_transform(data)```:<font color='#808080'> Fits the scaler to the provided data and transforms it, resulting in a dataset with a mean of 0 and a standard deviation of 1 for each feature.\n"
   ]
  },
  {
   "cell_type": "code",
<<<<<<< HEAD
   "execution_count": null,
   "metadata": {
    "id": "BcCzwE2kdwWZ"
   },
   "outputs": [],
   "source": [
    "from sklearn.preprocessing import StandardScaler\n",
    "scaler = StandardScaler()\n",
    "scaler.fit_transform(data)"
=======
   "execution_count": 152,
   "metadata": {
    "id": "BcCzwE2kdwWZ"
   },
   "outputs": [
    {
     "data": {
      "text/plain": [
       "array([[-8.45991203e-01, -1.11786358e+00, -1.55463539e-01, ...,\n",
       "        -1.89801909e-01,             nan,  3.61314687e-02],\n",
       "       [ 1.23088432e+00,  1.94149685e+00, -2.58212814e-01, ...,\n",
       "        -1.04618724e-01,             nan,  3.61314687e-02],\n",
       "       [-8.45991203e-01, -9.92991730e-01, -1.55463539e-01, ...,\n",
       "        -1.04163377e+00,             nan,  3.61314687e-02],\n",
       "       ...,\n",
       "       [ 3.40794810e-01,  5.98310384e-03,  1.52784288e-01, ...,\n",
       "        -2.74985095e-01,             nan,  3.61314687e-02],\n",
       "       [-8.45991203e-01,  1.62072922e-01, -4.63711365e-01, ...,\n",
       "         1.17312906e+00,             nan,  3.61314687e-02],\n",
       "       [ 1.23088432e+00, -2.08562046e+00, -2.92969397e+00, ...,\n",
       "        -2.74985095e-01,  0.00000000e+00, -2.76767050e+01]])"
      ]
     },
     "execution_count": 152,
     "metadata": {},
     "output_type": "execute_result"
    }
   ],
   "source": [
    "from sklearn.preprocessing import StandardScaler\n",
    "scaler = StandardScaler()\n",
    "scaler.fit_transform(df)"
>>>>>>> master
   ]
  },
  {
   "cell_type": "markdown",
   "metadata": {},
   "source": [
    "**<font color='#808080'> In cases where we have outliers, we should use the following.**\n",
    "- ```scaler = RobustScaler()```:Initializes an instance of the `RobustScaler`, which scales features using statistics that are robust to outliers, specifically the median and the interquartile range (IQR), making it suitable for datasets with extreme values."
   ]
  },
  {
   "cell_type": "code",
   "execution_count": null,
   "metadata": {},
   "outputs": [],
   "source": [
    "from sklearn.preprocessing import RobustScaler\n",
    "scaler = RobustScaler()"
   ]
  },
  {
   "cell_type": "markdown",
   "metadata": {
    "id": "i0poM-tNi9aB"
   },
   "source": [
    "### 7.1.3.**Encoding Categorical Variable** <a id='Encoding_Categorical_Variable'></a>"
   ]
  },
  {
   "cell_type": "markdown",
   "metadata": {},
   "source": [
    "**<font color='#808080'>One-Hot Encoding**A common method for converting categorical data into a numerical format, creating binary columns for each category. \n",
    "* <font color='#808080'> _with Pandas_:\n",
    "- ```pd.get_dummies(df, columns=[\",,,,\"])```:<font color='#808080'> generate one-hot encoded columns directly from a DataFrame.\n",
    "* <font color='#808080'> _with sklearn_:\n",
    "- ```encoder = OneHotEncoder(sparse=False)```:<font color='#808080'> initialize OneHotEncoder, and use ```encoder.fit_transform(df[...])``` to encode the specified categorical features.\n",
    "- ```encoder.get_feature_names_out([...])```: <font color='#808080'>Create a DataFrame from the encoded data and set the column names and Display."
   ]
  },
  {
   "cell_type": "code",
   "execution_count": null,
   "metadata": {},
   "outputs": [],
   "source": [
    "pd.get_dummies(df, columns=[\",,,,\"])\n",
    "\n",
    "from sklearn.preprocessing import OneHotEncoder\n",
    "encoder = OneHotEncoder(sparse = False)\n",
    "encoded_data = encoder.fit_transform(df[\",,,\"])\n",
    "encoder.get_feature_names_out([\",,,\"])\n",
    "pd.DataFrame(encoded_data, columns=encoder.get_feature_names_out[\",,,\"])"
   ]
  },
  {
   "cell_type": "markdown",
   "metadata": {},
   "source": [
    "**<font color='#808080'>Label Encoding** Converts categorical data into numerical format by assigning a unique integer to each category.\n",
    "Implemented using ```LabelEncoder``` from ```sklearn.preprocessing```, where ```encoder.fit_transform(df[...])``` converts the specified categorical feature.\n"
   ]
  },
  {
   "cell_type": "code",
   "execution_count": null,
   "metadata": {},
   "outputs": [],
   "source": [
    "from sklearn.preprocessing import LabelEncoder\n",
    "encoder = LabelEncoder()\n",
    "encoder.fit_transform(df[\",,\"])"
   ]
  },
  {
   "cell_type": "markdown",
   "metadata": {},
   "source": [
    "**<font color='#808080'>Discretization** The process of converting continuous data into discrete categories or bins.\n",
    "\n",
    "+ <font color='#808080'> _with Pandas_:\n",
    "\n",
    "<font color='#808080'> Use ```pd.cut(df[...], bins=..., labels=[])``` to define bins for the continuous variable and assign labels.\n",
    "+ <font color='#808080'> _Scikit-learn_:\n",
    "\n",
    "Import ```KBinsDiscretizer from sklearn.preprocessing```, configure it with the desired number of bins and encoding type, and use it to transform the continuous feature."
   ]
  },
  {
   "cell_type": "code",
   "execution_count": null,
   "metadata": {
    "id": "ikyMyzCajGYI"
   },
   "outputs": [],
   "source": [
    "#first way with pandas\n",
    "pd.cut(df[\",,,\"], bins= , labels=[])\n",
    "\n",
    "#second way with sklearn\n",
    "from sklearn.preprocessing import KBinsDiscretizer\n",
    "KBinsDiscretizer(n_bins=  , encode= \"ordinal\", strategy=\"uniform\")"
   ]
  }
 ],
 "metadata": {
  "colab": {
   "authorship_tag": "ABX9TyO53/EICWFwvn3tbi/k2erW",
   "collapsed_sections": [
    "xK9TFUoKXYm0",
    "kQHJdDaRRKH8",
    "ikUjpKomR-m8",
    "jaT97T89ZKs4",
    "VJcb9LPUZQip",
    "TU63UR-UaJOr",
    "0xDA7jqhby9F",
    "RUqQASh-c1dI",
    "pM0_UJW9fVbx",
    "ljcDL_DugqdO",
    "j3xJywSci0fb",
    "lt39TWGvlBWV",
    "9HbF08oHrLDp",
    "nFTtgv-34o5e",
    "ujm7yNqL5mkq",
    "WrfexKLF6_fH",
    "C8gnLLjj7oOf",
    "eDVkGgSAC60v",
    "2Ecm3ylBKrbO"
   ],
   "include_colab_link": true,
   "provenance": []
  },
  "kernelspec": {
   "display_name": "Python 3 (ipykernel)",
   "language": "python",
   "name": "python3"
  },
  "language_info": {
   "codemirror_mode": {
    "name": "ipython",
    "version": 3
   },
   "file_extension": ".py",
   "mimetype": "text/x-python",
   "name": "python",
   "nbconvert_exporter": "python",
   "pygments_lexer": "ipython3",
<<<<<<< HEAD
   "version": "3.11.9"
=======
   "version": "3.11.7"
>>>>>>> master
  }
 },
 "nbformat": 4,
 "nbformat_minor": 4
}
