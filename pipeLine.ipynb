{
  "nbformat": 4,
  "nbformat_minor": 0,
  "metadata": {
    "colab": {
      "provenance": [],
      "mount_file_id": "1sWUR-zw0qV1VWXhffevu3O9LCkAQngz0",
      "authorship_tag": "ABX9TyNePVRqUlsLtOXV2NxFhjoy",
      "include_colab_link": true
    },
    "kernelspec": {
      "name": "python3",
      "display_name": "Python 3"
    },
    "language_info": {
      "name": "python"
    }
  },
  "cells": [
    {
      "cell_type": "markdown",
      "metadata": {
        "id": "view-in-github",
        "colab_type": "text"
      },
      "source": [
        "<a href=\"https://colab.research.google.com/github/ehsan74814/Preprocessing_Data/blob/main/pipeLine.ipynb\" target=\"_parent\"><img src=\"https://colab.research.google.com/assets/colab-badge.svg\" alt=\"Open In Colab\"/></a>"
      ]
    },
    {
      "cell_type": "code",
      "execution_count": 44,
      "metadata": {
        "id": "xTm80k9_Uzgs"
      },
      "outputs": [],
      "source": [
        "from sklearn.datasets import fetch_california_housing\n",
        "import pandas as pd\n",
        "from sklearn.model_selection import train_test_split\n",
        "from sklearn.pipeline import Pipeline\n",
        "from sklearn.preprocessing import StandardScaler\n",
        "from sklearn.feature_selection import SelectKBest\n",
        "from sklearn.linear_model import LinearRegression\n",
        "from sklearn.metrics import r2_score, mean_squared_error\n",
        "import matplotlib.pyplot as plt\n",
        "%matplotlib inline"
      ]
    },
    {
      "cell_type": "code",
      "source": [
        "california = fetch_california_housing()"
      ],
      "metadata": {
        "id": "eaN7ansbZXCd"
      },
      "execution_count": 28,
      "outputs": []
    },
    {
      "cell_type": "code",
      "source": [
        "#load data\n",
        "X  = pd.DataFrame(data=california.data, columns= california.feature_names)\n",
        "X['MedHouseVal']= y # california.target"
      ],
      "metadata": {
        "id": "BXVU2ToDZetZ"
      },
      "execution_count": 47,
      "outputs": []
    },
    {
      "cell_type": "code",
      "source": [
        "X_train, X_test, y_train, y_test = train_test_split(X, y, test_size=0.2, random_state=42)"
      ],
      "metadata": {
        "id": "86Hn4ErLaF6T"
      },
      "execution_count": 30,
      "outputs": []
    },
    {
      "cell_type": "code",
      "source": [
        "# Create a pipline with scaling, featuere selection, and regresssion model\n",
        "pipeline  = Pipeline([\n",
        "    ('scaler', StandardScaler()),\n",
        "    ('selctor', SelectKBest(k=4)),\n",
        "    ('model', LinearRegression())\n",
        "])"
      ],
      "metadata": {
        "id": "YgxNEVGTfYwf"
      },
      "execution_count": 35,
      "outputs": []
    },
    {
      "cell_type": "code",
      "source": [
        "# train the pipeline\n",
        "pipeline.fit(X_train, y_train)"
      ],
      "metadata": {
        "id": "GLDOsls4g7nm"
      },
      "execution_count": null,
      "outputs": []
    },
    {
      "cell_type": "code",
      "source": [
        "# predict on the test set\n",
        "y_pred = pipeline.predict(X_test)"
      ],
      "metadata": {
        "id": "IAYMRFGyhF4B"
      },
      "execution_count": 37,
      "outputs": []
    },
    {
      "cell_type": "code",
      "source": [
        "# Evaluation the model with mean , r2\n",
        "pipeline.score(X_test, y_test)"
      ],
      "metadata": {
        "id": "yO3te1GQhO0a"
      },
      "execution_count": null,
      "outputs": []
    },
    {
      "cell_type": "code",
      "source": [
        "mean_squared_error(y_test, y_pred)"
      ],
      "metadata": {
        "id": "DcSoZ4Nrh8bF"
      },
      "execution_count": null,
      "outputs": []
    },
    {
      "cell_type": "code",
      "source": [
        "r2_score(y_test, y_pred)"
      ],
      "metadata": {
        "id": "GGgFmhOaiAdj"
      },
      "execution_count": null,
      "outputs": []
    },
    {
      "cell_type": "code",
      "source": [
        "# رسم داده های اولیه و خط رگرسیون\n",
        "plt.figure(figsize=(10,6))\n",
        "plt.scatter(X_test, y_test, color='blue', label='original Data')\n",
        "plt.scatter(X_test, y_pred, color='red', label='Predicted Data', alpha=0.6)\n",
        "plt.plot(X_test, y_pred, color='green', label='Regresssion Line')\n",
        "plt.xlabel('Median Incom')\n",
        "plt.ylabel('Median House Value')\n",
        "plt.title('Regression Line with Original and Predicted Data')\n",
        "plt.legend()\n",
        "plt.show()"
      ],
      "metadata": {
        "id": "NWYBVZiMisbI"
      },
      "execution_count": null,
      "outputs": []
    }
  ]
}