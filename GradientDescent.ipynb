{
  "nbformat": 4,
  "nbformat_minor": 0,
  "metadata": {
    "colab": {
      "provenance": [],
      "authorship_tag": "ABX9TyPS9dYsaViFXi3nZka42Y4B",
      "include_colab_link": true
    },
    "kernelspec": {
      "name": "python3",
      "display_name": "Python 3"
    },
    "language_info": {
      "name": "python"
    }
  },
  "cells": [
    {
      "cell_type": "markdown",
      "metadata": {
        "id": "view-in-github",
        "colab_type": "text"
      },
      "source": [
        "<a href=\"https://colab.research.google.com/github/ehsan74814/Preprocessing_Data/blob/main/GradientDescent.ipynb\" target=\"_parent\"><img src=\"https://colab.research.google.com/assets/colab-badge.svg\" alt=\"Open In Colab\"/></a>"
      ]
    },
    {
      "cell_type": "code",
      "execution_count": null,
      "metadata": {
        "id": "46RRijj4cJ0G"
      },
      "outputs": [],
      "source": [
        "from google.colab import drive\n",
        "drive.mount(\"/content/drive\")"
      ]
    },
    {
      "cell_type": "code",
      "source": [
        "import pandas as pd\n",
        "import numpy as np\n",
        "import matplotlib.pyplot as plt\n",
        "import seaborn as sns"
      ],
      "metadata": {
        "id": "h-Qpc3g4cXsF"
      },
      "execution_count": 2,
      "outputs": []
    },
    {
      "cell_type": "code",
      "source": [
        "# Reading the dataset and checking the general information\n",
        "df = pd.read_csv(\"/content/drive/MyDrive/Training ML/GradientDescent/student-dataset.csv\")\n",
        "df.head()"
      ],
      "metadata": {
        "id": "UH7jLbAdcwT8"
      },
      "execution_count": null,
      "outputs": []
    },
    {
      "cell_type": "markdown",
      "source": [
        "**.** Portfolio Rating === > ارزیابی جامع و چند بعدی از پیشرفت\n",
        "**.** Coverletter Rating ===> پیش بینی موفقیت در دریافت یک شغل\n",
        "**.** Refletter Rating ==> پیش بینی موفقیت در استخدام یا پذیرش تحصیلی"
      ],
      "metadata": {
        "id": "pukOs8OwbhQO"
      }
    },
    {
      "cell_type": "code",
      "source": [
        "df.columns = df.columns.str.lower()"
      ],
      "metadata": {
        "id": "1YRnVNd-iNz0"
      },
      "execution_count": 4,
      "outputs": []
    },
    {
      "cell_type": "code",
      "source": [
        "# Display data type and possible empty values\n",
        "df.info()"
      ],
      "metadata": {
        "id": "_feFkVfTd4vA"
      },
      "execution_count": null,
      "outputs": []
    },
    {
      "cell_type": "code",
      "source": [
        "# Display a summary of descriptive statistics\n",
        "df.describe()"
      ],
      "metadata": {
        "id": "P9rL7N26hCoj"
      },
      "execution_count": null,
      "outputs": []
    },
    {
      "cell_type": "code",
      "source": [
        "# missing Values\n",
        "df.isnull().sum()\n",
        "\n",
        "# Remove Null\n",
        "df.drop(columns=[\"ethnic.group\", \"id\"], inplace = True)"
      ],
      "metadata": {
        "id": "liWy-nNpheQS"
      },
      "execution_count": 7,
      "outputs": []
    },
    {
      "cell_type": "code",
      "source": [
        "#Duplicate Values\n",
        "df.duplicated().sum()"
      ],
      "metadata": {
        "id": "itsIEgDuhmjS"
      },
      "execution_count": null,
      "outputs": []
    },
    {
      "cell_type": "code",
      "source": [
        "# Plot outliers\n",
        "import matplotlib.pyplot as plt\n",
        "\n",
        "\n",
        "numeric_columns = df.select_dtypes(include=[\"number\"]).columns\n",
        "\n",
        "num_columns = len(numeric_columns)\n",
        "num_rows = (num_columns + 1 ) // 2\n",
        "plt.figure(figsize=(10, num_rows * 4))\n",
        "\n",
        "\n",
        "for i, column in enumerate(numeric_columns):\n",
        "    plt.subplot(num_rows, 2, i + 1)\n",
        "    plt.boxplot(df[column])\n",
        "    plt.title(f\"Boxplot for {column}\")\n",
        "    plt.ylabel(column)\n",
        "\n",
        "plt.tight_layout()\n",
        "plt.show()"
      ],
      "metadata": {
        "id": "cRWzrSRljZ8q"
      },
      "execution_count": null,
      "outputs": []
    },
    {
      "cell_type": "code",
      "source": [
        "# Identify outliner\n",
        "def Identify_outliner(df):\n",
        "  numeric_columns = df.select_dtypes(include=[\"number\"]).columns\n",
        "  outliner_summery = {}\n",
        "\n",
        "  for column in numeric_columns:\n",
        "    Q1 = df[column].quantile(0.25)\n",
        "    Q3 = df[column].quantile(0.75)\n",
        "    IQR = Q3-Q1\n",
        "\n",
        "    lb = Q1 - 1.5 * IQR\n",
        "    ub = Q3 +  1.5 * IQR\n",
        "\n",
        "    outliners = df[(df[column] < lb) | (df[column] > ub)]\n",
        "\n",
        "    outliner_summery[column] = outliners.shape[0]\n",
        "\n",
        "    return outliner_summery\n",
        "\n",
        "\n",
        "outliner_report = Identify_outliner(df)\n",
        "\n",
        "\n",
        "for column, count in outliner_report.items():\n",
        "  print(f\"ستون {column} شامل {count}  داده پرت است\")"
      ],
      "metadata": {
        "id": "ZELSEJy-lIcW"
      },
      "execution_count": null,
      "outputs": []
    },
    {
      "cell_type": "code",
      "source": [
        "def remove_outlinera(df):\n",
        "  for column in numeric_columns:\n",
        "    Q1 = df[column].quantile(0.25)\n",
        "    Q3 = df[column].quantile(0.75)\n",
        "    IQR = Q3-Q1\n",
        "\n",
        "    lb = Q1 - 1.5 * IQR\n",
        "    ub = Q3 +  1.5 * IQR\n",
        "\n",
        "\n",
        "    delete_outliners = df[(df[column] < lb) | (df[column] > ub)]\n",
        "\n",
        "    return delete_outliners\n",
        "\n",
        "\n",
        "\n",
        "data_cleaned = remove_outlinera(df)\n",
        "print(data_cleaned.describe())"
      ],
      "metadata": {
        "id": "m1wMkU4jsu0s"
      },
      "execution_count": null,
      "outputs": []
    },
    {
      "cell_type": "code",
      "source": [
        "# Feature Scaling\n",
        "from sklearn.preprocessing import StandardScaler\n",
        "\n",
        "scaler = StandardScaler()\n",
        "numeric_columns = df.select_dtypes(include=[\"number\"]).columns\n",
        "\n",
        "df[numeric_columns] = scaler.fit_transform(df[numeric_columns])"
      ],
      "metadata": {
        "id": "nAFTozJwtgxn"
      },
      "execution_count": null,
      "outputs": []
    },
    {
      "cell_type": "code",
      "source": [
        "df = df.drop(columns = [\"name\", \"nationality\",\t\"city\",\t\"latitude\",\t\"longitude\",\t\"gender\",\t\"age\"], inplace = False)"
      ],
      "metadata": {
        "id": "HwQ0MS9GuBkN"
      },
      "execution_count": null,
      "outputs": []
    },
    {
      "cell_type": "markdown",
      "source": [
        "# Visualization"
      ],
      "metadata": {
        "id": "NmgkgkojZkEs"
      }
    },
    {
      "cell_type": "code",
      "source": [
        "# Scatter plot between math score and language score\n",
        "plt.figure(figsize=(10,6))\n",
        "plt.scatter(df[\"math.grade\"], df[\"language.grade\"], color=\"blue\")\n",
        "plt.title(\"Scatter plot between math score and language score\")\n",
        "plt.xlabel(\"math Score\")\n",
        "plt.ylabel(\"language Score\")\n",
        "plt.grid()\n",
        "plt.legend()\n",
        "plt.tight_layout()\n",
        "plt.show()\n"
      ],
      "metadata": {
        "id": "_DCU-c-ji9E3"
      },
      "execution_count": null,
      "outputs": []
    },
    {
      "cell_type": "code",
      "source": [
        "# Bar chart to compare course scores\n",
        "plt.figure(figsize=(10,6))\n",
        "df[[\"english.grade\",\t\"math.grade\",\t\"sciences.grade\",\t\"language.grade\"]].mean().plot(kind=\"bar\", color=\"orange\")\n",
        "plt.title(\"Average grades of courses\")\n",
        "plt.xlabel(\"cource\")\n",
        "plt.ylabel(\"mean scores\")\n",
        "plt.xticks(rotation=45)\n",
        "plt.grid(axis=\"y\")\n",
        "plt.legend()\n",
        "plt.show()"
      ],
      "metadata": {
        "id": "AewFYrswlU-C"
      },
      "execution_count": null,
      "outputs": []
    },
    {
      "cell_type": "code",
      "source": [
        "# Box plot for distribution of scores\n",
        "plt.figure(figsize=(10,6))\n",
        "sns.boxplot(data= df[['english.grade',  'math.grade', 'sciences.grade', 'language.grade']])\n",
        "plt.title(\"Box diagram of the distribution of course grades\")\n",
        "plt.ylabel(\"scores\")\n",
        "plt.grid(axis=\"y\")\n",
        "plt.legend()\n",
        "plt.show()"
      ],
      "metadata": {
        "id": "y5PHer9-m8XW"
      },
      "execution_count": null,
      "outputs": []
    },
    {
      "cell_type": "code",
      "source": [
        "# Correlation diagram\n",
        "plt.figure(figsize=(10,6))\n",
        "correlation_matrix = df.corr()\n",
        "mask = np.triu(np.ones_like(correlation_matrix,dtype=bool), k=-2)\n",
        "sns.heatmap(correlation_matrix, annot = True, cmap=\"coolwarm\", fmt=\".2f\", square=True, mask=mask, linewidths=\"1\", linecolor=\"black\",cbar=True, cbar_kws={\"shrink\":.8})\n",
        "plt.title(\"Correlation diagram of features\")\n",
        "plt.show()"
      ],
      "metadata": {
        "id": "aibn-dVUopHy"
      },
      "execution_count": null,
      "outputs": []
    },
    {
      "cell_type": "markdown",
      "source": [
        "# Test and Train"
      ],
      "metadata": {
        "id": "fwc0yebJx8KU"
      }
    },
    {
      "cell_type": "code",
      "source": [
        "from sklearn.model_selection import train_test_split\n",
        "\n",
        "X = df.drop(columns=[\"refletter.rating\"])\n",
        "y = df[\"refletter.rating\"]\n",
        "\n",
        "X_train, X_test, y_train, y_test = train_test_split(X, y, test_size=0.2, random_state=42)"
      ],
      "metadata": {
        "id": "V-i6Q2AF8rTP",
        "outputId": "a2ebed72-3665-43be-bb95-8ada6ea7492a",
        "colab": {
          "base_uri": "https://localhost:8080/",
          "height": 423
        }
      },
      "execution_count": 87,
      "outputs": [
        {
          "output_type": "execute_result",
          "data": {
            "text/plain": [
              "     english.grade  math.grade  sciences.grade  language.grade  \\\n",
              "0         0.242250    0.600064       -0.681907       -3.413999   \n",
              "1        -0.873312   -0.450219        0.301859        0.606708   \n",
              "2         0.985958    0.810121       -0.485154        0.606708   \n",
              "3        -0.129604   -1.290446       -0.485154        0.606708   \n",
              "4         0.614104   -1.710559       -0.091647       -3.413999   \n",
              "..             ...         ...             ...             ...   \n",
              "302       0.428177    0.600064       -0.681907        0.606708   \n",
              "303       0.428177    1.020178        1.088872        0.606708   \n",
              "304      -0.315531   -0.030106        0.892119        0.606708   \n",
              "305      -0.687385   -1.290446       -1.075413        0.606708   \n",
              "306       0.800031   -0.450219        1.088872        0.606708   \n",
              "\n",
              "     portfolio.rating  coverletter.rating  refletter.rating  \n",
              "0            0.014052           -0.134634         -0.224691  \n",
              "1            1.092527           -0.134634          0.964624  \n",
              "2           -1.064423           -1.350302         -0.224691  \n",
              "3            1.092527           -2.565969         -0.224691  \n",
              "4            0.014052           -0.134634          0.964624  \n",
              "..                ...                 ...               ...  \n",
              "302          0.014052            1.081033          0.964624  \n",
              "303          1.092527            1.081033         -1.414007  \n",
              "304          1.092527            1.081033         -1.414007  \n",
              "305          0.014052           -0.134634          0.964624  \n",
              "306          1.092527           -0.134634          0.964624  \n",
              "\n",
              "[307 rows x 7 columns]"
            ],
            "text/html": [
              "\n",
              "  <div id=\"df-21073c07-37a5-4f85-9ac9-20d25a8b47df\" class=\"colab-df-container\">\n",
              "    <div>\n",
              "<style scoped>\n",
              "    .dataframe tbody tr th:only-of-type {\n",
              "        vertical-align: middle;\n",
              "    }\n",
              "\n",
              "    .dataframe tbody tr th {\n",
              "        vertical-align: top;\n",
              "    }\n",
              "\n",
              "    .dataframe thead th {\n",
              "        text-align: right;\n",
              "    }\n",
              "</style>\n",
              "<table border=\"1\" class=\"dataframe\">\n",
              "  <thead>\n",
              "    <tr style=\"text-align: right;\">\n",
              "      <th></th>\n",
              "      <th>english.grade</th>\n",
              "      <th>math.grade</th>\n",
              "      <th>sciences.grade</th>\n",
              "      <th>language.grade</th>\n",
              "      <th>portfolio.rating</th>\n",
              "      <th>coverletter.rating</th>\n",
              "      <th>refletter.rating</th>\n",
              "    </tr>\n",
              "  </thead>\n",
              "  <tbody>\n",
              "    <tr>\n",
              "      <th>0</th>\n",
              "      <td>0.242250</td>\n",
              "      <td>0.600064</td>\n",
              "      <td>-0.681907</td>\n",
              "      <td>-3.413999</td>\n",
              "      <td>0.014052</td>\n",
              "      <td>-0.134634</td>\n",
              "      <td>-0.224691</td>\n",
              "    </tr>\n",
              "    <tr>\n",
              "      <th>1</th>\n",
              "      <td>-0.873312</td>\n",
              "      <td>-0.450219</td>\n",
              "      <td>0.301859</td>\n",
              "      <td>0.606708</td>\n",
              "      <td>1.092527</td>\n",
              "      <td>-0.134634</td>\n",
              "      <td>0.964624</td>\n",
              "    </tr>\n",
              "    <tr>\n",
              "      <th>2</th>\n",
              "      <td>0.985958</td>\n",
              "      <td>0.810121</td>\n",
              "      <td>-0.485154</td>\n",
              "      <td>0.606708</td>\n",
              "      <td>-1.064423</td>\n",
              "      <td>-1.350302</td>\n",
              "      <td>-0.224691</td>\n",
              "    </tr>\n",
              "    <tr>\n",
              "      <th>3</th>\n",
              "      <td>-0.129604</td>\n",
              "      <td>-1.290446</td>\n",
              "      <td>-0.485154</td>\n",
              "      <td>0.606708</td>\n",
              "      <td>1.092527</td>\n",
              "      <td>-2.565969</td>\n",
              "      <td>-0.224691</td>\n",
              "    </tr>\n",
              "    <tr>\n",
              "      <th>4</th>\n",
              "      <td>0.614104</td>\n",
              "      <td>-1.710559</td>\n",
              "      <td>-0.091647</td>\n",
              "      <td>-3.413999</td>\n",
              "      <td>0.014052</td>\n",
              "      <td>-0.134634</td>\n",
              "      <td>0.964624</td>\n",
              "    </tr>\n",
              "    <tr>\n",
              "      <th>...</th>\n",
              "      <td>...</td>\n",
              "      <td>...</td>\n",
              "      <td>...</td>\n",
              "      <td>...</td>\n",
              "      <td>...</td>\n",
              "      <td>...</td>\n",
              "      <td>...</td>\n",
              "    </tr>\n",
              "    <tr>\n",
              "      <th>302</th>\n",
              "      <td>0.428177</td>\n",
              "      <td>0.600064</td>\n",
              "      <td>-0.681907</td>\n",
              "      <td>0.606708</td>\n",
              "      <td>0.014052</td>\n",
              "      <td>1.081033</td>\n",
              "      <td>0.964624</td>\n",
              "    </tr>\n",
              "    <tr>\n",
              "      <th>303</th>\n",
              "      <td>0.428177</td>\n",
              "      <td>1.020178</td>\n",
              "      <td>1.088872</td>\n",
              "      <td>0.606708</td>\n",
              "      <td>1.092527</td>\n",
              "      <td>1.081033</td>\n",
              "      <td>-1.414007</td>\n",
              "    </tr>\n",
              "    <tr>\n",
              "      <th>304</th>\n",
              "      <td>-0.315531</td>\n",
              "      <td>-0.030106</td>\n",
              "      <td>0.892119</td>\n",
              "      <td>0.606708</td>\n",
              "      <td>1.092527</td>\n",
              "      <td>1.081033</td>\n",
              "      <td>-1.414007</td>\n",
              "    </tr>\n",
              "    <tr>\n",
              "      <th>305</th>\n",
              "      <td>-0.687385</td>\n",
              "      <td>-1.290446</td>\n",
              "      <td>-1.075413</td>\n",
              "      <td>0.606708</td>\n",
              "      <td>0.014052</td>\n",
              "      <td>-0.134634</td>\n",
              "      <td>0.964624</td>\n",
              "    </tr>\n",
              "    <tr>\n",
              "      <th>306</th>\n",
              "      <td>0.800031</td>\n",
              "      <td>-0.450219</td>\n",
              "      <td>1.088872</td>\n",
              "      <td>0.606708</td>\n",
              "      <td>1.092527</td>\n",
              "      <td>-0.134634</td>\n",
              "      <td>0.964624</td>\n",
              "    </tr>\n",
              "  </tbody>\n",
              "</table>\n",
              "<p>307 rows × 7 columns</p>\n",
              "</div>\n",
              "    <div class=\"colab-df-buttons\">\n",
              "\n",
              "  <div class=\"colab-df-container\">\n",
              "    <button class=\"colab-df-convert\" onclick=\"convertToInteractive('df-21073c07-37a5-4f85-9ac9-20d25a8b47df')\"\n",
              "            title=\"Convert this dataframe to an interactive table.\"\n",
              "            style=\"display:none;\">\n",
              "\n",
              "  <svg xmlns=\"http://www.w3.org/2000/svg\" height=\"24px\" viewBox=\"0 -960 960 960\">\n",
              "    <path d=\"M120-120v-720h720v720H120Zm60-500h600v-160H180v160Zm220 220h160v-160H400v160Zm0 220h160v-160H400v160ZM180-400h160v-160H180v160Zm440 0h160v-160H620v160ZM180-180h160v-160H180v160Zm440 0h160v-160H620v160Z\"/>\n",
              "  </svg>\n",
              "    </button>\n",
              "\n",
              "  <style>\n",
              "    .colab-df-container {\n",
              "      display:flex;\n",
              "      gap: 12px;\n",
              "    }\n",
              "\n",
              "    .colab-df-convert {\n",
              "      background-color: #E8F0FE;\n",
              "      border: none;\n",
              "      border-radius: 50%;\n",
              "      cursor: pointer;\n",
              "      display: none;\n",
              "      fill: #1967D2;\n",
              "      height: 32px;\n",
              "      padding: 0 0 0 0;\n",
              "      width: 32px;\n",
              "    }\n",
              "\n",
              "    .colab-df-convert:hover {\n",
              "      background-color: #E2EBFA;\n",
              "      box-shadow: 0px 1px 2px rgba(60, 64, 67, 0.3), 0px 1px 3px 1px rgba(60, 64, 67, 0.15);\n",
              "      fill: #174EA6;\n",
              "    }\n",
              "\n",
              "    .colab-df-buttons div {\n",
              "      margin-bottom: 4px;\n",
              "    }\n",
              "\n",
              "    [theme=dark] .colab-df-convert {\n",
              "      background-color: #3B4455;\n",
              "      fill: #D2E3FC;\n",
              "    }\n",
              "\n",
              "    [theme=dark] .colab-df-convert:hover {\n",
              "      background-color: #434B5C;\n",
              "      box-shadow: 0px 1px 3px 1px rgba(0, 0, 0, 0.15);\n",
              "      filter: drop-shadow(0px 1px 2px rgba(0, 0, 0, 0.3));\n",
              "      fill: #FFFFFF;\n",
              "    }\n",
              "  </style>\n",
              "\n",
              "    <script>\n",
              "      const buttonEl =\n",
              "        document.querySelector('#df-21073c07-37a5-4f85-9ac9-20d25a8b47df button.colab-df-convert');\n",
              "      buttonEl.style.display =\n",
              "        google.colab.kernel.accessAllowed ? 'block' : 'none';\n",
              "\n",
              "      async function convertToInteractive(key) {\n",
              "        const element = document.querySelector('#df-21073c07-37a5-4f85-9ac9-20d25a8b47df');\n",
              "        const dataTable =\n",
              "          await google.colab.kernel.invokeFunction('convertToInteractive',\n",
              "                                                    [key], {});\n",
              "        if (!dataTable) return;\n",
              "\n",
              "        const docLinkHtml = 'Like what you see? Visit the ' +\n",
              "          '<a target=\"_blank\" href=https://colab.research.google.com/notebooks/data_table.ipynb>data table notebook</a>'\n",
              "          + ' to learn more about interactive tables.';\n",
              "        element.innerHTML = '';\n",
              "        dataTable['output_type'] = 'display_data';\n",
              "        await google.colab.output.renderOutput(dataTable, element);\n",
              "        const docLink = document.createElement('div');\n",
              "        docLink.innerHTML = docLinkHtml;\n",
              "        element.appendChild(docLink);\n",
              "      }\n",
              "    </script>\n",
              "  </div>\n",
              "\n",
              "\n",
              "<div id=\"df-02d76a0a-b031-4c17-93ff-ac35fa748aba\">\n",
              "  <button class=\"colab-df-quickchart\" onclick=\"quickchart('df-02d76a0a-b031-4c17-93ff-ac35fa748aba')\"\n",
              "            title=\"Suggest charts\"\n",
              "            style=\"display:none;\">\n",
              "\n",
              "<svg xmlns=\"http://www.w3.org/2000/svg\" height=\"24px\"viewBox=\"0 0 24 24\"\n",
              "     width=\"24px\">\n",
              "    <g>\n",
              "        <path d=\"M19 3H5c-1.1 0-2 .9-2 2v14c0 1.1.9 2 2 2h14c1.1 0 2-.9 2-2V5c0-1.1-.9-2-2-2zM9 17H7v-7h2v7zm4 0h-2V7h2v10zm4 0h-2v-4h2v4z\"/>\n",
              "    </g>\n",
              "</svg>\n",
              "  </button>\n",
              "\n",
              "<style>\n",
              "  .colab-df-quickchart {\n",
              "      --bg-color: #E8F0FE;\n",
              "      --fill-color: #1967D2;\n",
              "      --hover-bg-color: #E2EBFA;\n",
              "      --hover-fill-color: #174EA6;\n",
              "      --disabled-fill-color: #AAA;\n",
              "      --disabled-bg-color: #DDD;\n",
              "  }\n",
              "\n",
              "  [theme=dark] .colab-df-quickchart {\n",
              "      --bg-color: #3B4455;\n",
              "      --fill-color: #D2E3FC;\n",
              "      --hover-bg-color: #434B5C;\n",
              "      --hover-fill-color: #FFFFFF;\n",
              "      --disabled-bg-color: #3B4455;\n",
              "      --disabled-fill-color: #666;\n",
              "  }\n",
              "\n",
              "  .colab-df-quickchart {\n",
              "    background-color: var(--bg-color);\n",
              "    border: none;\n",
              "    border-radius: 50%;\n",
              "    cursor: pointer;\n",
              "    display: none;\n",
              "    fill: var(--fill-color);\n",
              "    height: 32px;\n",
              "    padding: 0;\n",
              "    width: 32px;\n",
              "  }\n",
              "\n",
              "  .colab-df-quickchart:hover {\n",
              "    background-color: var(--hover-bg-color);\n",
              "    box-shadow: 0 1px 2px rgba(60, 64, 67, 0.3), 0 1px 3px 1px rgba(60, 64, 67, 0.15);\n",
              "    fill: var(--button-hover-fill-color);\n",
              "  }\n",
              "\n",
              "  .colab-df-quickchart-complete:disabled,\n",
              "  .colab-df-quickchart-complete:disabled:hover {\n",
              "    background-color: var(--disabled-bg-color);\n",
              "    fill: var(--disabled-fill-color);\n",
              "    box-shadow: none;\n",
              "  }\n",
              "\n",
              "  .colab-df-spinner {\n",
              "    border: 2px solid var(--fill-color);\n",
              "    border-color: transparent;\n",
              "    border-bottom-color: var(--fill-color);\n",
              "    animation:\n",
              "      spin 1s steps(1) infinite;\n",
              "  }\n",
              "\n",
              "  @keyframes spin {\n",
              "    0% {\n",
              "      border-color: transparent;\n",
              "      border-bottom-color: var(--fill-color);\n",
              "      border-left-color: var(--fill-color);\n",
              "    }\n",
              "    20% {\n",
              "      border-color: transparent;\n",
              "      border-left-color: var(--fill-color);\n",
              "      border-top-color: var(--fill-color);\n",
              "    }\n",
              "    30% {\n",
              "      border-color: transparent;\n",
              "      border-left-color: var(--fill-color);\n",
              "      border-top-color: var(--fill-color);\n",
              "      border-right-color: var(--fill-color);\n",
              "    }\n",
              "    40% {\n",
              "      border-color: transparent;\n",
              "      border-right-color: var(--fill-color);\n",
              "      border-top-color: var(--fill-color);\n",
              "    }\n",
              "    60% {\n",
              "      border-color: transparent;\n",
              "      border-right-color: var(--fill-color);\n",
              "    }\n",
              "    80% {\n",
              "      border-color: transparent;\n",
              "      border-right-color: var(--fill-color);\n",
              "      border-bottom-color: var(--fill-color);\n",
              "    }\n",
              "    90% {\n",
              "      border-color: transparent;\n",
              "      border-bottom-color: var(--fill-color);\n",
              "    }\n",
              "  }\n",
              "</style>\n",
              "\n",
              "  <script>\n",
              "    async function quickchart(key) {\n",
              "      const quickchartButtonEl =\n",
              "        document.querySelector('#' + key + ' button');\n",
              "      quickchartButtonEl.disabled = true;  // To prevent multiple clicks.\n",
              "      quickchartButtonEl.classList.add('colab-df-spinner');\n",
              "      try {\n",
              "        const charts = await google.colab.kernel.invokeFunction(\n",
              "            'suggestCharts', [key], {});\n",
              "      } catch (error) {\n",
              "        console.error('Error during call to suggestCharts:', error);\n",
              "      }\n",
              "      quickchartButtonEl.classList.remove('colab-df-spinner');\n",
              "      quickchartButtonEl.classList.add('colab-df-quickchart-complete');\n",
              "    }\n",
              "    (() => {\n",
              "      let quickchartButtonEl =\n",
              "        document.querySelector('#df-02d76a0a-b031-4c17-93ff-ac35fa748aba button');\n",
              "      quickchartButtonEl.style.display =\n",
              "        google.colab.kernel.accessAllowed ? 'block' : 'none';\n",
              "    })();\n",
              "  </script>\n",
              "</div>\n",
              "    </div>\n",
              "  </div>\n"
            ],
            "application/vnd.google.colaboratory.intrinsic+json": {
              "type": "dataframe",
              "variable_name": "df",
              "summary": "{\n  \"name\": \"df\",\n  \"rows\": 307,\n  \"fields\": [\n    {\n      \"column\": \"english.grade\",\n      \"properties\": {\n        \"dtype\": \"number\",\n        \"std\": 1.0016326541483205,\n        \"min\": -3.476289933502934,\n        \"max\": 1.1718851953533411,\n        \"num_unique_values\": 25,\n        \"samples\": [\n          -3.104435923194432,\n          -2.3607279025774277,\n          0.24225016958208606\n        ],\n        \"semantic_type\": \"\",\n        \"description\": \"\"\n      }\n    },\n    {\n      \"column\": \"math.grade\",\n      \"properties\": {\n        \"dtype\": \"number\",\n        \"std\": 1.001632654148321,\n        \"min\": -2.760842901482368,\n        \"max\": 1.2302343337956128,\n        \"num_unique_values\": 20,\n        \"samples\": [\n          0.6000642440148793,\n          -2.1306728117016345,\n          -2.55078620488879\n        ],\n        \"semantic_type\": \"\",\n        \"description\": \"\"\n      }\n    },\n    {\n      \"column\": \"sciences.grade\",\n      \"properties\": {\n        \"dtype\": \"number\",\n        \"std\": 1.0016326541483203,\n        \"min\": -4.026712057309718,\n        \"max\": 1.0888721606508374,\n        \"num_unique_values\": 24,\n        \"samples\": [\n          -0.28840051341546635,\n          -1.0754134700247824,\n          -0.6819069917201239\n        ],\n        \"semantic_type\": \"\",\n        \"description\": \"\"\n      }\n    },\n    {\n      \"column\": \"language.grade\",\n      \"properties\": {\n        \"dtype\": \"number\",\n        \"std\": 1.0016326541483198,\n        \"min\": -3.4139989419829813,\n        \"max\": 0.6067075898623251,\n        \"num_unique_values\": 6,\n        \"samples\": [\n          -3.4139989419829813,\n          0.6067075898623251,\n          -0.7000220329873992\n        ],\n        \"semantic_type\": \"\",\n        \"description\": \"\"\n      }\n    },\n    {\n      \"column\": \"portfolio.rating\",\n      \"properties\": {\n        \"dtype\": \"number\",\n        \"std\": 1.001632654148319,\n        \"min\": -3.2213733137066285,\n        \"max\": 1.0925268272222046,\n        \"num_unique_values\": 5,\n        \"samples\": [\n          1.0925268272222046,\n          -3.2213733137066285,\n          -1.064423243242212\n        ],\n        \"semantic_type\": \"\",\n        \"description\": \"\"\n      }\n    },\n    {\n      \"column\": \"coverletter.rating\",\n      \"properties\": {\n        \"dtype\": \"number\",\n        \"std\": 1.0016326541483223,\n        \"min\": -3.781637016469432,\n        \"max\": 1.0810334088964972,\n        \"num_unique_values\": 6,\n        \"samples\": [\n          -0.13463419744498503,\n          -1.3503018037864674,\n          -0.7424680006157262\n        ],\n        \"semantic_type\": \"\",\n        \"description\": \"\"\n      }\n    },\n    {\n      \"column\": \"refletter.rating\",\n      \"properties\": {\n        \"dtype\": \"number\",\n        \"std\": 1.0016326541483216,\n        \"min\": -3.7926369097580666,\n        \"max\": 0.9646236879772815,\n        \"num_unique_values\": 5,\n        \"samples\": [\n          0.9646236879772815,\n          -3.7926369097580666,\n          -2.6033217603242296\n        ],\n        \"semantic_type\": \"\",\n        \"description\": \"\"\n      }\n    }\n  ]\n}"
            }
          },
          "metadata": {},
          "execution_count": 87
        }
      ]
    },
    {
      "cell_type": "code",
      "source": [
        "from sklearn.linear_model import SGDRegressor\n",
        "from sklearn.metrics import r2_score, mean_squared_error\n",
        "model = SGDRegressor(max_iter=10000, tol=1e-6, learning_rate=\"constant\", eta0=0.01).fit(X_train, y_train)"
      ],
      "metadata": {
        "id": "1I8ykNZT9fsC"
      },
      "execution_count": 82,
      "outputs": []
    },
    {
      "cell_type": "code",
      "source": [
        "y_pred = model.predict(X_test)"
      ],
      "metadata": {
        "id": "8LORCTJW-Dki"
      },
      "execution_count": 83,
      "outputs": []
    },
    {
      "cell_type": "code",
      "source": [
        "m = model.coef_\n",
        "b = model.intercept_"
      ],
      "metadata": {
        "id": "Bi2H6R6C-KG3"
      },
      "execution_count": 84,
      "outputs": []
    },
    {
      "cell_type": "code",
      "source": [
        "r2_score(y_test, y_pred)\n",
        "mean_squared_error(y_test, y_pred)"
      ],
      "metadata": {
        "id": "Ef9wRKCZ-unI"
      },
      "execution_count": null,
      "outputs": []
    },
    {
      "cell_type": "code",
      "source": [
        "plt.scatter(y_test, y_pred, color=\"blue\", label=\" Real data \")\n",
        "plt.plot([1,5],[1,5], color=\"red\", label=\"Linear Regression\")\n",
        "plt.show()"
      ],
      "metadata": {
        "id": "VpmwVwDW-5A0"
      },
      "execution_count": null,
      "outputs": []
    }
  ]
}