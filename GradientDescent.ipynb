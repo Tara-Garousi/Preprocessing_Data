{
  "nbformat": 4,
  "nbformat_minor": 0,
  "metadata": {
    "colab": {
      "provenance": [],
      "authorship_tag": "ABX9TyNO8W1pn5d3I9DFZ2JhDUAm",
      "include_colab_link": true
    },
    "kernelspec": {
      "name": "python3",
      "display_name": "Python 3"
    },
    "language_info": {
      "name": "python"
    }
  },
  "cells": [
    {
      "cell_type": "markdown",
      "metadata": {
        "id": "view-in-github",
        "colab_type": "text"
      },
      "source": [
        "<a href=\"https://colab.research.google.com/github/ehsan74814/Preprocessing_Data/blob/main/GradientDescent.ipynb\" target=\"_parent\"><img src=\"https://colab.research.google.com/assets/colab-badge.svg\" alt=\"Open In Colab\"/></a>"
      ]
    },
    {
      "cell_type": "code",
      "execution_count": null,
      "metadata": {
        "id": "46RRijj4cJ0G"
      },
      "outputs": [],
      "source": [
        "from google.colab import drive\n",
        "drive.mount(\"/content/drive\")"
      ]
    },
    {
      "cell_type": "code",
      "source": [
        "import pandas as pd\n",
        "import numpy as np\n",
        "import matplotlib.pyplot as plt\n",
        "import seaborn as sns"
      ],
      "metadata": {
        "id": "h-Qpc3g4cXsF"
      },
      "execution_count": 3,
      "outputs": []
    },
    {
      "cell_type": "code",
      "source": [
        "# Reading the dataset and checking the general information\n",
        "df = pd.read_csv(\"/content/drive/MyDrive/Training ML/GradientDescent/student-dataset.csv\")\n",
        "df.head()"
      ],
      "metadata": {
        "id": "UH7jLbAdcwT8"
      },
      "execution_count": null,
      "outputs": []
    },
    {
      "cell_type": "code",
      "source": [
        "df.columns = df.columns.str.lower()"
      ],
      "metadata": {
        "id": "1YRnVNd-iNz0"
      },
      "execution_count": 33,
      "outputs": []
    },
    {
      "cell_type": "code",
      "source": [
        "# Display data type and possible empty values\n",
        "df.info()"
      ],
      "metadata": {
        "id": "_feFkVfTd4vA"
      },
      "execution_count": null,
      "outputs": []
    },
    {
      "cell_type": "code",
      "source": [
        "# Display a summary of descriptive statistics\n",
        "df.describe()"
      ],
      "metadata": {
        "id": "P9rL7N26hCoj"
      },
      "execution_count": null,
      "outputs": []
    },
    {
      "cell_type": "code",
      "source": [
        "# missing Values\n",
        "df.isnull().sum()\n",
        "\n",
        "# Remove Null\n",
        "df.drop(columns=[\"ethnic.group\", \"id\"], inplace = True)"
      ],
      "metadata": {
        "id": "liWy-nNpheQS"
      },
      "execution_count": 34,
      "outputs": []
    },
    {
      "cell_type": "code",
      "source": [
        "#Duplicate Values\n",
        "df.duplicated().sum()"
      ],
      "metadata": {
        "id": "itsIEgDuhmjS"
      },
      "execution_count": null,
      "outputs": []
    },
    {
      "cell_type": "code",
      "source": [
        "# Plot outliers\n",
        "import matplotlib.pyplot as plt\n",
        "\n",
        "\n",
        "numeric_columns = df.select_dtypes(include=[\"number\"]).columns\n",
        "\n",
        "num_columns = len(numeric_columns)\n",
        "num_rows = (num_columns + 1 ) // 2\n",
        "plt.figure(figsize=(10, num_rows * 4))\n",
        "\n",
        "\n",
        "for i, column in enumerate(numeric_columns):\n",
        "    plt.subplot(num_rows, 2, i + 1)\n",
        "    plt.boxplot(df[column])\n",
        "    plt.title(f\"Boxplot for {column}\")\n",
        "    plt.ylabel(column)\n",
        "\n",
        "plt.tight_layout()\n",
        "plt.show()"
      ],
      "metadata": {
        "id": "cRWzrSRljZ8q"
      },
      "execution_count": null,
      "outputs": []
    },
    {
      "cell_type": "code",
      "source": [
        "# Identify outliner\n",
        "def Identify_outliner(df):\n",
        "  numeric_columns = df.select_dtypes(include=[\"number\"]).columns\n",
        "  outliner_summery = {}\n",
        "\n",
        "  for column in numeric_columns:\n",
        "    Q1 = df[column].quantile(0.25)\n",
        "    Q3 = df[column].quantile(0.75)\n",
        "    IQR = Q3-Q1\n",
        "\n",
        "    lb = Q1 - 1.5 * IQR\n",
        "    ub = Q3 +  1.5 * IQR\n",
        "\n",
        "    outliners = df[(df[column] < lb) | (df[column] > ub)]\n",
        "\n",
        "    outliner_summery[column] = outliners.shape[0]\n",
        "\n",
        "    return outliner_summery\n",
        "\n",
        "\n",
        "outliner_report = Identify_outliner(df)\n",
        "\n",
        "\n",
        "for column, count in outliner_report.items():\n",
        "  print(f\"ستون {column} شامل {count}  داده پرت است\")"
      ],
      "metadata": {
        "id": "ZELSEJy-lIcW"
      },
      "execution_count": null,
      "outputs": []
    },
    {
      "cell_type": "code",
      "source": [
        "def remove_outlinera(df):\n",
        "  for column in numeric_columns:\n",
        "    Q1 = df[column].quantile(0.25)\n",
        "    Q3 = df[column].quantile(0.75)\n",
        "    IQR = Q3-Q1\n",
        "\n",
        "    lb = Q1 - 1.5 * IQR\n",
        "    ub = Q3 +  1.5 * IQR\n",
        "\n",
        "\n",
        "    delete_outliners = df[(df[column] < lb) | (df[column] > ub)]\n",
        "\n",
        "    return delete_outliners\n",
        "\n",
        "\n",
        "\n",
        "data_cleaned = remove_outlinera(df)\n",
        "print(data_cleaned.describe())"
      ],
      "metadata": {
        "id": "m1wMkU4jsu0s"
      },
      "execution_count": null,
      "outputs": []
    },
    {
      "cell_type": "code",
      "source": [
        "# Feature Scaling\n",
        "from sklearn.preprocessing import StandardScaler\n",
        "\n",
        "scaler = StandardScaler()\n",
        "numeric_columns = df.select_dtypes(include=[\"number\"]).columns\n",
        "\n",
        "df[numeric_columns] = scaler.fit_transform(df[numeric_columns])"
      ],
      "metadata": {
        "id": "nAFTozJwtgxn"
      },
      "execution_count": null,
      "outputs": []
    },
    {
      "cell_type": "code",
      "source": [
        "df[\"city\"].value_counts()"
      ],
      "metadata": {
        "id": "HwQ0MS9GuBkN"
      },
      "execution_count": null,
      "outputs": []
    },
    {
      "cell_type": "code",
      "source": [],
      "metadata": {
        "id": "GryWCH6Nt9a5"
      },
      "execution_count": null,
      "outputs": []
    }
  ]
}