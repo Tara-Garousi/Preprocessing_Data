{
  "nbformat": 4,
  "nbformat_minor": 0,
  "metadata": {
    "colab": {
      "provenance": [],
      "authorship_tag": "ABX9TyP0wdDFTGZVYJ1X4K7M9b5S",
      "include_colab_link": true
    },
    "kernelspec": {
      "name": "python3",
      "display_name": "Python 3"
    },
    "language_info": {
      "name": "python"
    }
  },
  "cells": [
    {
      "cell_type": "markdown",
      "metadata": {
        "id": "view-in-github",
        "colab_type": "text"
      },
      "source": [
        "<a href=\"https://colab.research.google.com/github/ehsan74814/Preprocessing_Data/blob/main/GradientDescent.ipynb\" target=\"_parent\"><img src=\"https://colab.research.google.com/assets/colab-badge.svg\" alt=\"Open In Colab\"/></a>"
      ]
    },
    {
      "cell_type": "code",
      "execution_count": null,
      "metadata": {
        "id": "46RRijj4cJ0G"
      },
      "outputs": [],
      "source": [
        "from google.colab import drive\n",
        "drive.mount(\"/content/drive\")"
      ]
    },
    {
      "cell_type": "code",
      "source": [
        "import pandas as pd\n",
        "import numpy as np\n",
        "import matplotlib.pyplot as plt\n",
        "import seaborn as sns"
      ],
      "metadata": {
        "id": "h-Qpc3g4cXsF"
      },
      "execution_count": 2,
      "outputs": []
    },
    {
      "cell_type": "code",
      "source": [],
      "metadata": {
        "id": "q_CnqcbNypaP"
      },
      "execution_count": null,
      "outputs": []
    },
    {
      "cell_type": "markdown",
      "source": [
        "**By default, the regression uses the normal equation, but if the features increase, it switches to it batch gradient decent.**\n",
        "\n",
        "**For model design :**\n",
        "**Gradient Decent :**\n",
        "\n",
        "**1) Batch Gradient Descent =====> model = LinearRegression**\n",
        "\n",
        "**2) Stocastic gradient Descent ====> model = SGDRegressor()**\n",
        "\n",
        "**3) mini-batch gradient Descent ====> model = SGDRegressor(average=True)**\n"
      ],
      "metadata": {
        "id": "vTZFMIzqxwSa"
      }
    },
    {
      "cell_type": "code",
      "source": [
        "# Reading the dataset and checking the general information\n",
        "df = pd.read_csv(\"/content/drive/MyDrive/Training ML/GradientDescent/student-dataset.csv\")\n",
        "df.head()"
      ],
      "metadata": {
        "id": "UH7jLbAdcwT8"
      },
      "execution_count": null,
      "outputs": []
    },
    {
      "cell_type": "markdown",
      "source": [
        "**.** Portfolio Rating === > ارزیابی جامع و چند بعدی از پیشرفت\n",
        "**.** Coverletter Rating ===> پیش بینی موفقیت در دریافت یک شغل\n",
        "**.** Refletter Rating ==> پیش بینی موفقیت در استخدام یا پذیرش تحصیلی"
      ],
      "metadata": {
        "id": "pukOs8OwbhQO"
      }
    },
    {
      "cell_type": "code",
      "source": [
        "df.columns = df.columns.str.lower()"
      ],
      "metadata": {
        "id": "1YRnVNd-iNz0"
      },
      "execution_count": 4,
      "outputs": []
    },
    {
      "cell_type": "code",
      "source": [
        "# Display data type and possible empty values\n",
        "df.info()"
      ],
      "metadata": {
        "id": "_feFkVfTd4vA"
      },
      "execution_count": null,
      "outputs": []
    },
    {
      "cell_type": "code",
      "source": [
        "# Display a summary of descriptive statistics\n",
        "df.describe()"
      ],
      "metadata": {
        "id": "P9rL7N26hCoj"
      },
      "execution_count": null,
      "outputs": []
    },
    {
      "cell_type": "code",
      "source": [
        "# missing Values\n",
        "df.isnull().sum()\n",
        "\n",
        "# Remove Null\n",
        "df.drop(columns=[\"ethnic.group\", \"id\"], inplace = True)"
      ],
      "metadata": {
        "id": "liWy-nNpheQS"
      },
      "execution_count": 5,
      "outputs": []
    },
    {
      "cell_type": "code",
      "source": [
        "#Duplicate Values\n",
        "df.duplicated().sum()"
      ],
      "metadata": {
        "id": "itsIEgDuhmjS"
      },
      "execution_count": null,
      "outputs": []
    },
    {
      "cell_type": "code",
      "source": [
        "# Plot outliers\n",
        "import matplotlib.pyplot as plt\n",
        "\n",
        "\n",
        "numeric_columns = df.select_dtypes(include=[\"number\"]).columns\n",
        "\n",
        "num_columns = len(numeric_columns)\n",
        "num_rows = (num_columns + 1 ) // 2\n",
        "plt.figure(figsize=(10, num_rows * 4))\n",
        "\n",
        "\n",
        "for i, column in enumerate(numeric_columns):\n",
        "    plt.subplot(num_rows, 2, i + 1)\n",
        "    plt.boxplot(df[column])\n",
        "    plt.title(f\"Boxplot for {column}\")\n",
        "    plt.ylabel(column)\n",
        "\n",
        "plt.tight_layout()\n",
        "plt.show()"
      ],
      "metadata": {
        "id": "cRWzrSRljZ8q"
      },
      "execution_count": null,
      "outputs": []
    },
    {
      "cell_type": "code",
      "source": [
        "# Identify outliner\n",
        "def Identify_outliner(df):\n",
        "  numeric_columns = df.select_dtypes(include=[\"number\"]).columns\n",
        "  outliner_summery = {}\n",
        "\n",
        "  for column in numeric_columns:\n",
        "    Q1 = df[column].quantile(0.25)\n",
        "    Q3 = df[column].quantile(0.75)\n",
        "    IQR = Q3-Q1\n",
        "\n",
        "    lb = Q1 - 1.5 * IQR\n",
        "    ub = Q3 +  1.5 * IQR\n",
        "\n",
        "    outliners = df[(df[column] < lb) | (df[column] > ub)]\n",
        "\n",
        "    outliner_summery[column] = outliners.shape[0]\n",
        "\n",
        "    return outliner_summery\n",
        "\n",
        "\n",
        "outliner_report = Identify_outliner(df)\n",
        "\n",
        "\n",
        "for column, count in outliner_report.items():\n",
        "  print(f\"ستون {column} شامل {count}  داده پرت است\")"
      ],
      "metadata": {
        "id": "ZELSEJy-lIcW"
      },
      "execution_count": null,
      "outputs": []
    },
    {
      "cell_type": "code",
      "source": [
        "def remove_outlinera(df):\n",
        "  for column in numeric_columns:\n",
        "    Q1 = df[column].quantile(0.25)\n",
        "    Q3 = df[column].quantile(0.75)\n",
        "    IQR = Q3-Q1\n",
        "\n",
        "    lb = Q1 - 1.5 * IQR\n",
        "    ub = Q3 +  1.5 * IQR\n",
        "\n",
        "\n",
        "    delete_outliners = df[(df[column] < lb) | (df[column] > ub)]\n",
        "\n",
        "    return delete_outliners\n",
        "\n",
        "\n",
        "\n",
        "data_cleaned = remove_outlinera(df)\n",
        "print(data_cleaned.describe())"
      ],
      "metadata": {
        "id": "m1wMkU4jsu0s"
      },
      "execution_count": null,
      "outputs": []
    },
    {
      "cell_type": "code",
      "source": [
        "# Feature Scaling\n",
        "from sklearn.preprocessing import StandardScaler\n",
        "\n",
        "scaler = StandardScaler()\n",
        "numeric_columns = df.select_dtypes(include=[\"number\"]).columns\n",
        "\n",
        "df[numeric_columns] = scaler.fit_transform(df[numeric_columns])"
      ],
      "metadata": {
        "id": "nAFTozJwtgxn"
      },
      "execution_count": 9,
      "outputs": []
    },
    {
      "cell_type": "code",
      "source": [
        "df = df.drop(columns = [\"name\", \"nationality\",\t\"city\",\t\"latitude\",\t\"longitude\",\t\"gender\",\t\"age\"], inplace = False)"
      ],
      "metadata": {
        "id": "HwQ0MS9GuBkN"
      },
      "execution_count": 10,
      "outputs": []
    },
    {
      "cell_type": "markdown",
      "source": [
        "# Visualization"
      ],
      "metadata": {
        "id": "NmgkgkojZkEs"
      }
    },
    {
      "cell_type": "code",
      "source": [
        "# Scatter plot between math score and language score\n",
        "plt.figure(figsize=(10,6))\n",
        "plt.scatter(df[\"math.grade\"], df[\"language.grade\"], color=\"blue\")\n",
        "plt.title(\"Scatter plot between math score and language score\")\n",
        "plt.xlabel(\"math Score\")\n",
        "plt.ylabel(\"language Score\")\n",
        "plt.grid()\n",
        "plt.legend()\n",
        "plt.tight_layout()\n",
        "plt.show()\n"
      ],
      "metadata": {
        "id": "_DCU-c-ji9E3"
      },
      "execution_count": null,
      "outputs": []
    },
    {
      "cell_type": "code",
      "source": [
        "# Bar chart to compare course scores\n",
        "plt.figure(figsize=(10,6))\n",
        "df[[\"english.grade\",\t\"math.grade\",\t\"sciences.grade\",\t\"language.grade\"]].mean().plot(kind=\"bar\", color=\"orange\")\n",
        "plt.title(\"Average grades of courses\")\n",
        "plt.xlabel(\"cource\")\n",
        "plt.ylabel(\"mean scores\")\n",
        "plt.xticks(rotation=45)\n",
        "plt.grid(axis=\"y\")\n",
        "plt.legend()\n",
        "plt.show()"
      ],
      "metadata": {
        "id": "AewFYrswlU-C"
      },
      "execution_count": null,
      "outputs": []
    },
    {
      "cell_type": "code",
      "source": [
        "# Box plot for distribution of scores\n",
        "plt.figure(figsize=(10,6))\n",
        "sns.boxplot(data= df[['english.grade',  'math.grade', 'sciences.grade', 'language.grade']])\n",
        "plt.title(\"Box diagram of the distribution of course grades\")\n",
        "plt.ylabel(\"scores\")\n",
        "plt.grid(axis=\"y\")\n",
        "plt.legend()\n",
        "plt.show()"
      ],
      "metadata": {
        "id": "y5PHer9-m8XW"
      },
      "execution_count": null,
      "outputs": []
    },
    {
      "cell_type": "code",
      "source": [
        "# Correlation diagram\n",
        "plt.figure(figsize=(10,6))\n",
        "correlation_matrix = df.corr()\n",
        "mask = np.triu(np.ones_like(correlation_matrix,dtype=bool), k=-2)\n",
        "sns.heatmap(correlation_matrix, annot = True, cmap=\"coolwarm\", fmt=\".2f\", square=True, mask=mask, linewidths=\"1\", linecolor=\"black\",cbar=True, cbar_kws={\"shrink\":.8})\n",
        "plt.title(\"Correlation diagram of features\")\n",
        "plt.show()"
      ],
      "metadata": {
        "id": "aibn-dVUopHy"
      },
      "execution_count": null,
      "outputs": []
    },
    {
      "cell_type": "markdown",
      "source": [
        "# Test and Train"
      ],
      "metadata": {
        "id": "fwc0yebJx8KU"
      }
    },
    {
      "cell_type": "code",
      "source": [
        "from sklearn.model_selection import train_test_split\n",
        "\n",
        "X = df.drop(columns=[\"refletter.rating\"])\n",
        "y = df[\"refletter.rating\"]\n",
        "\n",
        "X_train, X_test, y_train, y_test = train_test_split(X, y, test_size=0.2, random_state=42)"
      ],
      "metadata": {
        "id": "V-i6Q2AF8rTP"
      },
      "execution_count": null,
      "outputs": []
    },
    {
      "cell_type": "code",
      "source": [
        "from sklearn.linear_model import SGDRegressor\n",
        "from sklearn.metrics import r2_score, mean_squared_error\n",
        "model = SGDRegressor(max_iter=10000, tol=1e-6, learning_rate=\"constant\", eta0=0.01).fit(X_train, y_train)"
      ],
      "metadata": {
        "id": "1I8ykNZT9fsC"
      },
      "execution_count": 12,
      "outputs": []
    },
    {
      "cell_type": "code",
      "source": [
        "y_pred = model.predict(X_test)"
      ],
      "metadata": {
        "id": "8LORCTJW-Dki"
      },
      "execution_count": 13,
      "outputs": []
    },
    {
      "cell_type": "code",
      "source": [
        "m = model.coef_\n",
        "b = model.intercept_"
      ],
      "metadata": {
        "id": "Bi2H6R6C-KG3"
      },
      "execution_count": 14,
      "outputs": []
    },
    {
      "cell_type": "code",
      "source": [
        "r2_score(y_test, y_pred)\n",
        "mean_squared_error(y_test, y_pred)"
      ],
      "metadata": {
        "id": "Ef9wRKCZ-unI"
      },
      "execution_count": null,
      "outputs": []
    },
    {
      "cell_type": "code",
      "source": [
        "# Real Data\n",
        "plt.figure(figsize=(10,6))\n",
        "plt.scatter(y_test, y_pred, color=\"blue\", label=\"Forecast\")\n",
        "\n",
        "\n",
        "plt.plot([1,5], [1,5], \"--\", color=\"red\", label=\"linear regression\")\n",
        "\n",
        "\n",
        "plt.xlabel('X values')\n",
        "plt.ylabel('y value')\n",
        "plt.title('Gradient Decent')\n",
        "plt.legend(['Real data','Estimated line'])\n",
        "# plt.xlim(1,5)\n",
        "# plt.ylim(1,5)\n",
        "plt.grid(True)\n",
        "plt.legend()\n",
        "plt.show()"
      ],
      "metadata": {
        "id": "VpmwVwDW-5A0"
      },
      "execution_count": null,
      "outputs": []
    },
    {
      "cell_type": "code",
      "source": [
        "#"
      ],
      "metadata": {
        "id": "RRIzr26VqlCQ"
      },
      "execution_count": null,
      "outputs": []
    }
  ]
}