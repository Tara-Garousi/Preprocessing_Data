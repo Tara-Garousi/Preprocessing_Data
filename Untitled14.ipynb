{
  "nbformat": 4,
  "nbformat_minor": 0,
  "metadata": {
    "colab": {
      "provenance": [],
      "mount_file_id": "1mq8zU1fe3eNxWG8kCxlCpK9Cg7cW6guC",
      "authorship_tag": "ABX9TyOzTG/XdRXBRO6pLsbYk+Ja",
      "include_colab_link": true
    },
    "kernelspec": {
      "name": "python3",
      "display_name": "Python 3"
    },
    "language_info": {
      "name": "python"
    }
  },
  "cells": [
    {
      "cell_type": "markdown",
      "metadata": {
        "id": "view-in-github",
        "colab_type": "text"
      },
      "source": [
        "<a href=\"https://colab.research.google.com/github/ehsan74814/Preprocessing_Data/blob/main/Untitled14.ipynb\" target=\"_parent\"><img src=\"https://colab.research.google.com/assets/colab-badge.svg\" alt=\"Open In Colab\"/></a>"
      ]
    },
    {
      "cell_type": "markdown",
      "source": [
        "from google.colab import drive\n",
        "drive.mount(\"/content/drive/\")"
      ],
      "metadata": {
        "id": "NzOcUi0zIXnG"
      }
    },
    {
      "cell_type": "code",
      "source": [
        "print(\"ehsan\")"
      ],
      "metadata": {
        "id": "DslknIihK2qv"
      },
      "execution_count": null,
      "outputs": []
    },
    {
      "cell_type": "markdown",
      "source": [
        "#ehsan"
      ],
      "metadata": {
        "id": "IFPY-ee_K6hx"
      }
    },
    {
      "cell_type": "markdown",
      "source": [
        "##ehsan"
      ],
      "metadata": {
        "id": "k9PjioW-LTwI"
      }
    },
    {
      "cell_type": "markdown",
      "source": [
        "###ehsan"
      ],
      "metadata": {
        "id": "gB74GQimMD0i"
      }
    },
    {
      "cell_type": "markdown",
      "source": [],
      "metadata": {
        "id": "ywCVODpBMHrI"
      }
    },
    {
      "cell_type": "markdown",
      "source": [],
      "metadata": {
        "id": "m9LGIMIOMe5i"
      }
    },
    {
      "cell_type": "code",
      "source": [],
      "metadata": {
        "id": "e4lmazuFMZHi"
      },
      "execution_count": null,
      "outputs": []
    }
  ]
}