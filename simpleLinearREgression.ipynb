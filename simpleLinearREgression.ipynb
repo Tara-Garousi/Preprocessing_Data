{
  "nbformat": 4,
  "nbformat_minor": 0,
  "metadata": {
    "colab": {
      "provenance": [],
      "mount_file_id": "1otyxXAxVx8QWa1Dh9YY3z75ur03kfIDi",
      "authorship_tag": "ABX9TyPklfuvqhfF/7sNuJtIuzeb",
      "include_colab_link": true
    },
    "kernelspec": {
      "name": "python3",
      "display_name": "Python 3"
    },
    "language_info": {
      "name": "python"
    }
  },
  "cells": [
    {
      "cell_type": "markdown",
      "metadata": {
        "id": "view-in-github",
        "colab_type": "text"
      },
      "source": [
        "<a href=\"https://colab.research.google.com/github/ehsan74814/Preprocessing_Data/blob/main/simpleLinearREgression.ipynb\" target=\"_parent\"><img src=\"https://colab.research.google.com/assets/colab-badge.svg\" alt=\"Open In Colab\"/></a>"
      ]
    },
    {
      "cell_type": "code",
      "source": [
        "from google.colab import files\n",
        "uploaded = files.upload()"
      ],
      "metadata": {
        "id": "RB7svEDvXcdL"
      },
      "execution_count": null,
      "outputs": []
    },
    {
      "cell_type": "code",
      "source": [
        "import pandas as pd\n",
        "import matplotlib.pyplot as plt\n"
      ],
      "metadata": {
        "id": "y2n6RaX_Yjk1"
      },
      "execution_count": 2,
      "outputs": []
    },
    {
      "cell_type": "markdown",
      "source": [
        "# preprocessing"
      ],
      "metadata": {
        "id": "O-32f-Pgj6-G"
      }
    },
    {
      "cell_type": "code",
      "source": [
        "df = pd.read_csv(\"/content/drive/MyDrive/Training ML/SimpleLinearRegression/Advertising.csv\")"
      ],
      "metadata": {
        "id": "cwqj_MyWYWSn"
      },
      "execution_count": null,
      "outputs": []
    },
    {
      "cell_type": "code",
      "source": [
        "df.columns = df.columns.str.lower()"
      ],
      "metadata": {
        "id": "mvIGN0XEgNgE"
      },
      "execution_count": 4,
      "outputs": []
    },
    {
      "cell_type": "code",
      "source": [
        "df.head()"
      ],
      "metadata": {
        "id": "-ueFgJcpYfH4"
      },
      "execution_count": null,
      "outputs": []
    },
    {
      "cell_type": "code",
      "source": [
        "df.shape"
      ],
      "metadata": {
        "id": "jIgh5hmGYtHm"
      },
      "execution_count": null,
      "outputs": []
    },
    {
      "cell_type": "code",
      "source": [
        "df.isna().any() # use any() function for see just oneline"
      ],
      "metadata": {
        "id": "osckXn8JZLAg"
      },
      "execution_count": null,
      "outputs": []
    },
    {
      "cell_type": "code",
      "source": [
        "df.dtypes"
      ],
      "metadata": {
        "id": "k-7e9jbXZwbJ"
      },
      "execution_count": null,
      "outputs": []
    },
    {
      "cell_type": "markdown",
      "source": [
        "# Data Visualization"
      ],
      "metadata": {
        "id": "muVIpIwNaEII"
      }
    },
    {
      "cell_type": "code",
      "source": [
        "fig,axs= plt.subplots(1,3,sharey=True) # sharey : share same y axis across the plot\n",
        "df.plot(kind=\"scatter\",x='tv',y='sales',ax=axs[0],figsize=(16,8))\n",
        "df.plot(kind=\"scatter\",x='radio',y='sales',ax=axs[1],figsize=(16,8))\n",
        "df.plot(kind=\"scatter\",x='newspaper',y='sales',ax=axs[2],figsize=(16,8))"
      ],
      "metadata": {
        "id": "SgqdBv8yaS3I"
      },
      "execution_count": null,
      "outputs": []
    },
    {
      "cell_type": "markdown",
      "source": [
        "# Model"
      ],
      "metadata": {
        "id": "ObPBLCb4j0VN"
      }
    },
    {
      "cell_type": "code",
      "source": [
        "from sklearn.linear_model import LinearRegression\n",
        "from sklearn.metrics import r2_score, mean_squared_error\n",
        "from sklearn.model_selection import train_test_split"
      ],
      "metadata": {
        "id": "aGFGLI8DcawW"
      },
      "execution_count": 9,
      "outputs": []
    },
    {
      "cell_type": "code",
      "source": [
        "X = df[[\"tv\"]]\n",
        "y = df[\"sales\"]"
      ],
      "metadata": {
        "id": "E2wSHWw6alKq"
      },
      "execution_count": 10,
      "outputs": []
    },
    {
      "cell_type": "code",
      "source": [
        "X_train, X_test, y_train, y_test = train_test_split(X,y, test_size = 0.2, random_state = 42)"
      ],
      "metadata": {
        "id": "cY7NPYxCfjb-"
      },
      "execution_count": 15,
      "outputs": []
    },
    {
      "cell_type": "code",
      "source": [
        "model = LinearRegression().fit(X_train, y_train)\n",
        "y_pred = model.predict(X_test)"
      ],
      "metadata": {
        "id": "VIb5X_U2g4Jj"
      },
      "execution_count": 13,
      "outputs": []
    },
    {
      "cell_type": "code",
      "source": [
        "model.intercept_\n",
        "model.coef_"
      ],
      "metadata": {
        "id": "CWe9sUkkhKdN"
      },
      "execution_count": null,
      "outputs": []
    },
    {
      "cell_type": "code",
      "source": [
        "X_new = pd.DataFrame([320, 650])\n",
        "y_predNew = model.predict(X_new)"
      ],
      "metadata": {
        "id": "OVCL8A4DhU01"
      },
      "execution_count": 20,
      "outputs": []
    },
    {
      "cell_type": "code",
      "source": [
        "mean_squared_error(y_test, y_pred)\n",
        "r2_score(y_test, y_pred)"
      ],
      "metadata": {
        "id": "ybgd8bcvh4P5"
      },
      "execution_count": null,
      "outputs": []
    },
    {
      "cell_type": "code",
      "source": [
        "plt.scatter(X,y, color=\"blue\", label=\"Data\")\n",
        "plt.plot(X_test, y_pred, color = \"red\", label = \"LinearRegression\")\n",
        "plt.scatter(X_new, y_predNew, color=\"yellow\", label=\"NewData\")\n",
        "plt.xlabel(\"price advertising\")\n",
        "plt.ylabel(\"Sales\")\n",
        "plt.legend()\n",
        "plt.show()"
      ],
      "metadata": {
        "id": "USayn8gliSqw"
      },
      "execution_count": null,
      "outputs": []
    }
  ]
}