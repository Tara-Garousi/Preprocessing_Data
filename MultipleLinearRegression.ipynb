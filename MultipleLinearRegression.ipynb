{
  "cells": [
    {
      "cell_type": "markdown",
      "metadata": {
        "id": "view-in-github",
        "colab_type": "text"
      },
      "source": [
        "<a href=\"https://colab.research.google.com/github/ehsan74814/Preprocessing_Data/blob/main/MultipleLinearRegression.ipynb\" target=\"_parent\"><img src=\"https://colab.research.google.com/assets/colab-badge.svg\" alt=\"Open In Colab\"/></a>"
      ]
    },
    {
      "cell_type": "markdown",
      "source": [
        "# 000) ....."
      ],
      "metadata": {
        "id": "39164vsy7GU9"
      }
    },
    {
      "cell_type": "code",
      "source": [
        "from IPython.display import Image\n",
        "display(Image(\"/content/drive/MyDrive/Training ML/simple linear regression/061836706733-web-tete.jpg\", width = 500, height = 300))"
      ],
      "metadata": {
        "id": "xKLK3xaT7K38"
      },
      "execution_count": null,
      "outputs": []
    },
    {
      "cell_type": "markdown",
      "source": [
        "## About dfset"
      ],
      "metadata": {
        "id": "VXHrSk8o8Sv9"
      }
    },
    {
      "cell_type": "markdown",
      "source": [
        "### **We will study the sales df of one of the largest retailers in the world. Let's figure out what factors influence its revenue. Can factors such as air temperature and fuel cost influence the success of a huge company along with the purchasing power index and seasonal discounts? And how does machine learning minimize costs and increase economic impact?**\n",
        "\n",
        "**The df contains the following columns:**\n",
        "\n",
        "**Store: Store number**\n",
        "\n",
        "**Date: Sales week start date**\n",
        "\n",
        "**Weekly_Sales: Sales**\n",
        "\n",
        "**Holiday_Flag: Mark on the presence or absence of a holiday**\n",
        "\n",
        "**Temperature: Air temperature in the region**\n",
        "\n",
        "**Fuel_Price: Fuel cost in the region**\n",
        "\n",
        "**CPI: Consumer price index**\n",
        "\n",
        "**Unemployment: Unemployment rate**"
      ],
      "metadata": {
        "id": "xnhstYrg8Z7p"
      }
    },
    {
      "cell_type": "markdown",
      "source": [
        "# 00) Connect the Drive to the Colab"
      ],
      "metadata": {
        "id": "KwqSPy3QzS1P"
      }
    },
    {
      "cell_type": "code",
      "source": [
        "from google.colab import drive\n",
        "drive.mount('/content/drive')"
      ],
      "metadata": {
        "id": "P0oO79qZtS2H"
      },
      "execution_count": null,
      "outputs": []
    },
    {
      "cell_type": "markdown",
      "source": [
        "# 0) Import Libraries"
      ],
      "metadata": {
        "id": "a9m2u7O-0Esg"
      }
    },
    {
      "cell_type": "code",
      "source": [
        "import pandas as pd\n",
        "import numpy as np\n",
        "import matplotlib.pyplot as plt\n",
        "import seaborn as sns\n",
        "import warnings"
      ],
      "metadata": {
        "id": "-yiNsZT10Nhh"
      },
      "execution_count": null,
      "outputs": []
    },
    {
      "cell_type": "markdown",
      "source": [
        "## Additions"
      ],
      "metadata": {
        "id": "8OxYX8hX3Sze"
      }
    },
    {
      "cell_type": "code",
      "source": [
        "plt.style.use(\"fivethirtyeight\")\n",
        "warnings.filterwarnings('ignore')\n",
        "pd.options.display.float_format = \"{:,.0f}\".format"
      ],
      "metadata": {
        "id": "yJG8ADt_1F-f"
      },
      "execution_count": null,
      "outputs": []
    },
    {
      "cell_type": "markdown",
      "source": [
        "# 1) Problem Definition\n"
      ],
      "metadata": {
        "id": "eaW9APq_wDsC"
      }
    },
    {
      "cell_type": "markdown",
      "source": [
        "## what is the goal ? which problem will the algorithm we want to design solve?"
      ],
      "metadata": {
        "id": "fDL41pgBwkC3"
      }
    },
    {
      "cell_type": "code",
      "source": [],
      "metadata": {
        "id": "epV1DJU6yspy"
      },
      "execution_count": null,
      "outputs": []
    },
    {
      "cell_type": "markdown",
      "source": [
        "# 2) df acquisition"
      ],
      "metadata": {
        "id": "-c0Hejucy6JM"
      }
    },
    {
      "cell_type": "code",
      "source": [
        "df = pd.read_csv(\"/content/drive/MyDrive/Training ML/simple linear regression/Walmart_Sales.csv\")"
      ],
      "metadata": {
        "id": "ppU4JSuQy_DG"
      },
      "execution_count": null,
      "outputs": []
    },
    {
      "cell_type": "markdown",
      "source": [
        "# 3) df preprocessing"
      ],
      "metadata": {
        "id": "IQNNuq0Wz0c6"
      }
    },
    {
      "cell_type": "markdown",
      "source": [
        "## Basic df Exploration and df Cleaning"
      ],
      "metadata": {
        "id": "zTsmI4bhzwMu"
      }
    },
    {
      "cell_type": "code",
      "source": [
        "# Quick review of primary df\n",
        "df.head(10)"
      ],
      "metadata": {
        "id": "05LvQeRU03Kh"
      },
      "execution_count": null,
      "outputs": []
    },
    {
      "cell_type": "code",
      "source": [
        "# df info()\n",
        "df.info()"
      ],
      "metadata": {
        "id": "TJ5PXRjnuR8a"
      },
      "execution_count": null,
      "outputs": []
    },
    {
      "cell_type": "code",
      "source": [
        "# df shape\n",
        "df.shape"
      ],
      "metadata": {
        "id": "oC-Mre6PuZaX"
      },
      "execution_count": null,
      "outputs": []
    },
    {
      "cell_type": "code",
      "source": [
        "# Statistical descriptions\n",
        "df.describe()"
      ],
      "metadata": {
        "id": "aDGTOssf_KCv"
      },
      "execution_count": null,
      "outputs": []
    },
    {
      "cell_type": "markdown",
      "source": [
        "## Handling The missing value"
      ],
      "metadata": {
        "id": "Z7olYWG90I3p"
      }
    },
    {
      "cell_type": "code",
      "source": [
        "# checking null\n",
        "df.isnull().sum()"
      ],
      "metadata": {
        "id": "ameWMY9R0Q6a"
      },
      "execution_count": null,
      "outputs": []
    },
    {
      "cell_type": "code",
      "source": [
        "# convert columns name to lower case ====> goal ===> Avoid possible errors\n",
        "df.columns = df.columns.str.lower()"
      ],
      "metadata": {
        "id": "FjDAwLuHCiuq"
      },
      "execution_count": null,
      "outputs": []
    },
    {
      "cell_type": "markdown",
      "source": [
        "## Handling the duplicated df points"
      ],
      "metadata": {
        "id": "AI5sjhFc06-y"
      }
    },
    {
      "cell_type": "code",
      "source": [
        "# checking duplicated\n",
        "df.duplicated().sum()"
      ],
      "metadata": {
        "id": "tqTQ3ODLEFAc"
      },
      "execution_count": null,
      "outputs": []
    },
    {
      "cell_type": "markdown",
      "source": [
        "## Converting the date column to date and time df type"
      ],
      "metadata": {
        "id": "CknAD1j60jpe"
      }
    },
    {
      "cell_type": "code",
      "source": [
        "# Correcting the df format\n",
        "df[\"Date\"] = pd.to_datetime(df[\"Date\"], format=\"%d-%m-%Y\")"
      ],
      "metadata": {
        "id": "0ewE9zCrERlb"
      },
      "execution_count": null,
      "outputs": []
    },
    {
      "cell_type": "code",
      "source": [
        "df.info()"
      ],
      "metadata": {
        "id": "sdkFbhWv0qo2"
      },
      "execution_count": null,
      "outputs": []
    },
    {
      "cell_type": "code",
      "source": [
        "# Creating a column_list\n",
        "column_list = df.columns.tolist()"
      ],
      "metadata": {
        "id": "8Ft-IySiGVoh"
      },
      "execution_count": null,
      "outputs": []
    },
    {
      "cell_type": "markdown",
      "source": [
        "## Handling the outliners in the df"
      ],
      "metadata": {
        "id": "btL1OzwI1Tle"
      }
    },
    {
      "cell_type": "code",
      "source": [
        "def detect_outlier(field):\n",
        "    q1 = df[field].quantile(0.25)\n",
        "    q3 = df[field].quantile(0.75)\n",
        "    iqr = q3-q1\n",
        "\n",
        "    threshold = iqr*1.5\n",
        "    lb = q1-threshold\n",
        "    ub = q3+threshold\n",
        "\n",
        "    outliers = [feature for feature in df[field] if feature<lb or feature>ub]\n",
        "    return outliers\n",
        "\n",
        "\n",
        "outlier_features = {}\n",
        "for i in column_list:\n",
        "    outlier_features[i] = len(detect_outlier(i))*100/len(df)"
      ],
      "metadata": {
        "id": "aQcLmEAUHHvx"
      },
      "execution_count": null,
      "outputs": []
    },
    {
      "cell_type": "code",
      "source": [
        "outliers = [\"Weekly_Sales\", \"Temperature\" , \"Unemployment\"]"
      ],
      "metadata": {
        "id": "ST8R0sTS9E3N"
      },
      "execution_count": null,
      "outputs": []
    },
    {
      "cell_type": "code",
      "source": [
        "df['Holiday_Flag'].value_counts()"
      ],
      "metadata": {
        "id": "oYJOd_nm9pDB"
      },
      "execution_count": null,
      "outputs": []
    },
    {
      "cell_type": "code",
      "source": [
        "# Function to return outlier bounds\n",
        "def return_bounds(field):\n",
        "  q1 = df[field].quantile(0.25)\n",
        "  q3 = df[field].quantile(0.75)\n",
        "  iqr = q3-q1\n",
        "\n",
        "  threshold = iqr*1.5\n",
        "  lb = q1-threshold\n",
        "  ub = q3+threshold\n",
        "\n",
        "  return [ub,lb]\n",
        "\n",
        "# upper_bound, lowerbound = return_bounds(\"Weekly_Sales\")"
      ],
      "metadata": {
        "id": "D0g5Lt0D_PnF"
      },
      "execution_count": null,
      "outputs": []
    },
    {
      "cell_type": "code",
      "source": [
        "for i in outliers:\n",
        "    lst = return_bounds(i)\n",
        "    ub = lst[0]\n",
        "    median = np.median(df[i])\n",
        "    df[i] = np.where(df[i]>ub,median,df[i])"
      ],
      "metadata": {
        "id": "p6tvekxEAyrh"
      },
      "execution_count": null,
      "outputs": []
    },
    {
      "cell_type": "code",
      "source": [
        "for i in outliers:\n",
        "    lst = return_bounds(i)\n",
        "    lb = lst[1]\n",
        "    median = np.median(df[i])\n",
        "    df[i] = np.where(df[i]<lb,median,df[i])"
      ],
      "metadata": {
        "id": "sGryRHqrCEdO"
      },
      "execution_count": null,
      "outputs": []
    },
    {
      "cell_type": "code",
      "source": [
        "outlier_features = {}\n",
        "for i in column_list:\n",
        "    outlier_features[i] = len(detect_outlier(i))*100/len(df)"
      ],
      "metadata": {
        "id": "SUmVW1-2CpDw"
      },
      "execution_count": null,
      "outputs": []
    },
    {
      "cell_type": "code",
      "source": [
        "lst = return_bounds('Unemployment')\n",
        "lb = lst[1]\n",
        "ub = lst[0]"
      ],
      "metadata": {
        "id": "DMiFsuceC7sW"
      },
      "execution_count": null,
      "outputs": []
    },
    {
      "cell_type": "code",
      "source": [
        "df = df[(df['Unemployment'] < ub) & (df['Unemployment'] > lb)]"
      ],
      "metadata": {
        "id": "rBTC5eSeC_Rx"
      },
      "execution_count": null,
      "outputs": []
    },
    {
      "cell_type": "markdown",
      "source": [
        "## Performing the visualization of the dfset"
      ],
      "metadata": {
        "id": "fzLBiFO3w4xS"
      }
    },
    {
      "cell_type": "code",
      "source": [
        "df.head()"
      ],
      "metadata": {
        "id": "MHDoGTA6D2pf"
      },
      "execution_count": null,
      "outputs": []
    },
    {
      "cell_type": "code",
      "source": [
        "df.hist(figsize=(40,20))"
      ],
      "metadata": {
        "id": "koOR7sxCEIj-"
      },
      "execution_count": null,
      "outputs": []
    },
    {
      "cell_type": "markdown",
      "source": [
        "## Visualizing the sales over time"
      ],
      "metadata": {
        "id": "-0Vq1HHJGC1O"
      }
    },
    {
      "cell_type": "code",
      "source": [
        "# we have column with the date information\n",
        "df['Date'] =pd.to_datetime(df['Date'])\n",
        "df['Date'].head()"
      ],
      "metadata": {
        "id": "1sOIDsfaESGl"
      },
      "execution_count": null,
      "outputs": []
    },
    {
      "cell_type": "code",
      "source": [
        "# Create a column month for plotting, yearly df sales\n",
        "\n",
        "df['year'] = df['Date'].dt.year\n",
        "df['month'] = df['Date'].dt.month"
      ],
      "metadata": {
        "id": "pdxrYwuXGtUY"
      },
      "execution_count": null,
      "outputs": []
    },
    {
      "cell_type": "code",
      "source": [
        "df.head()"
      ],
      "metadata": {
        "id": "Ami3aBupH0b3"
      },
      "execution_count": null,
      "outputs": []
    },
    {
      "cell_type": "code",
      "source": [
        "df['year'].value_counts()"
      ],
      "metadata": {
        "id": "xXEbQlZVIE8c"
      },
      "execution_count": null,
      "outputs": []
    },
    {
      "cell_type": "code",
      "source": [
        "# sales over months\n",
        "fig, ax  = plt.subplots(figsize = (20,5))\n",
        "sns.lineplot(x=df.Date, y = (df.Weekly_Sales/1e6))\n",
        "plt.xlabel(\"months\")\n",
        "plt.ylabel(\"weekly sales\")\n",
        "plt.title(\"weekly sales Trend\", fontdict={\"fontsize\":16, \"color\":\"red\"}, pad = 5)\n",
        "\n",
        "\n",
        "annot = ax.annotate(\"\", xy=(3,5), xytext=(20,20),textcoords=\"offset points\",\n",
        "                    bbox=dict(boxstyle=\"round\", fc=\"w\"),\n",
        "                    arrowprops=dict(arrowstyle=\"->\"))\n",
        "annot.set_visible(True)\n",
        "\n",
        "plt.show()"
      ],
      "metadata": {
        "id": "OAwbFsEmIgRR"
      },
      "execution_count": null,
      "outputs": []
    },
    {
      "cell_type": "markdown",
      "source": [
        "## Visualizing the holiday effects over sales"
      ],
      "metadata": {
        "id": "YEgPD85oQVR8"
      }
    },
    {
      "cell_type": "code",
      "source": [
        "holiday = df[df['Holiday_Flag']==1]\n",
        "non_holiday = df[df['Holiday_Flag']!=1]"
      ],
      "metadata": {
        "id": "YddtMtG6QXCi"
      },
      "execution_count": null,
      "outputs": []
    },
    {
      "cell_type": "code",
      "source": [
        "plt.boxplot(holiday['Weekly_Sales'])"
      ],
      "metadata": {
        "id": "1MweQF53QnmA"
      },
      "execution_count": null,
      "outputs": []
    },
    {
      "cell_type": "code",
      "source": [
        "plt.boxplot(non_holiday['Weekly_Sales'])"
      ],
      "metadata": {
        "id": "hL-nRHNnSPR8"
      },
      "execution_count": null,
      "outputs": []
    },
    {
      "cell_type": "markdown",
      "source": [
        "## Creating the heatmap to check for the df correlations\n"
      ],
      "metadata": {
        "id": "nUv57lexSc6i"
      }
    },
    {
      "cell_type": "code",
      "source": [
        "fig, ax = plt.subplots(figsize=(15,15))\n",
        "heatmap = sns.heatmap(df.corr(), vmin=-1, vmax=1, annot=True, cmap =\"YlGnBu\")\n",
        "heatmap.set_title('Correlation Heatmap', fontdict={'fontsize':14}, pad=12)"
      ],
      "metadata": {
        "id": "Rd2o1k2vSeFm"
      },
      "execution_count": null,
      "outputs": []
    },
    {
      "cell_type": "markdown",
      "source": [
        "## Feature **Engineering**"
      ],
      "metadata": {
        "id": "D5kkBwX0WBvn"
      }
    },
    {
      "cell_type": "code",
      "source": [
        "df['Date'] = pd.to_datetime(df['Date'])"
      ],
      "metadata": {
        "id": "qcQQxsypWD9w"
      },
      "execution_count": null,
      "outputs": []
    },
    {
      "cell_type": "code",
      "source": [
        "df['year'] = df['Date'].dt.year\n",
        "df['month'] = df['Date'].dt.month\n",
        "df['day'] = df['Date'].dt.day"
      ],
      "metadata": {
        "id": "kqua0nVrXFmn"
      },
      "execution_count": null,
      "outputs": []
    },
    {
      "cell_type": "code",
      "source": [
        "# We can remove the date data now because it will not be giving us any important information about the prediction\n",
        "df.drop(['Date'],axis=1,inplace=True)"
      ],
      "metadata": {
        "id": "pmOYApqXYTpU"
      },
      "execution_count": null,
      "outputs": []
    },
    {
      "cell_type": "markdown",
      "source": [
        "# 4) Model selection"
      ],
      "metadata": {
        "id": "AXWxZfLJdIxR"
      }
    },
    {
      "cell_type": "code",
      "source": [],
      "metadata": {
        "id": "KSaSFlzMdO-i"
      },
      "execution_count": null,
      "outputs": []
    },
    {
      "cell_type": "markdown",
      "source": [
        "# 5) Data spliting"
      ],
      "metadata": {
        "id": "jVrm7c7SdQUd"
      }
    },
    {
      "cell_type": "markdown",
      "source": [
        "## Feature scaling and data modelling\n"
      ],
      "metadata": {
        "id": "YSd6SQZzYfnP"
      }
    },
    {
      "cell_type": "code",
      "source": [
        "from sklearn.preprocessing import StandardScaler\n",
        "from sklearn.model_selection import train_test_split"
      ],
      "metadata": {
        "id": "HskhHeQvYoN7"
      },
      "execution_count": null,
      "outputs": []
    },
    {
      "cell_type": "code",
      "source": [
        "# Creating the target and the data separation\n",
        "\n",
        "X = df.drop(['Weekly_Sales'],axis=1)\n",
        "y = df['Weekly_Sales']"
      ],
      "metadata": {
        "id": "oQBheUumdVrL"
      },
      "execution_count": null,
      "outputs": []
    },
    {
      "cell_type": "code",
      "source": [
        "scaler = StandardScaler()"
      ],
      "metadata": {
        "id": "jwestnQpdiG1"
      },
      "execution_count": null,
      "outputs": []
    },
    {
      "cell_type": "code",
      "source": [
        "scaled_data = scaler.fit_transform(X)"
      ],
      "metadata": {
        "id": "84_ywWzVdlu2"
      },
      "execution_count": null,
      "outputs": []
    },
    {
      "cell_type": "code",
      "source": [
        "# Creating the test-train split\n",
        "X_train, X_test, y_train, y_test = train_test_split(scaled_data, y, test_size=0.2, random_state=50)"
      ],
      "metadata": {
        "id": "k6ZYwgkrdq3x"
      },
      "execution_count": null,
      "outputs": []
    },
    {
      "cell_type": "markdown",
      "source": [
        "# 6) Model Training"
      ],
      "metadata": {
        "id": "rG0YS7uMdzek"
      }
    },
    {
      "cell_type": "code",
      "source": [
        "from sklearn.linear_model import LinearRegression\n",
        "from sklearn.metrics import mean_squared_error, r2_score"
      ],
      "metadata": {
        "id": "8CWHJGCsd7ak"
      },
      "execution_count": null,
      "outputs": []
    },
    {
      "cell_type": "code",
      "source": [
        "model = LinearRegression().fit(X_train, y_train)"
      ],
      "metadata": {
        "id": "YlcV0x_Bd-9b"
      },
      "execution_count": null,
      "outputs": []
    },
    {
      "cell_type": "code",
      "source": [
        "y_predict = model.predict(X_test)"
      ],
      "metadata": {
        "id": "LwcR4a-beRPz"
      },
      "execution_count": null,
      "outputs": []
    },
    {
      "cell_type": "code",
      "source": [
        "# Calculating the mean squared error\n",
        "mse = mean_squared_error(y_test,y_predict)"
      ],
      "metadata": {
        "id": "o7ihgDXjebA-"
      },
      "execution_count": null,
      "outputs": []
    },
    {
      "cell_type": "code",
      "source": [
        "# Calculating root mean squared error\n",
        "rmse = np.sqrt(mse)"
      ],
      "metadata": {
        "id": "-No8tRivfEBn"
      },
      "execution_count": null,
      "outputs": []
    },
    {
      "cell_type": "code",
      "source": [
        "r2_score(y_test,y_predict)"
      ],
      "metadata": {
        "id": "3MirDWyZfKo3"
      },
      "execution_count": null,
      "outputs": []
    },
    {
      "cell_type": "code",
      "source": [
        "model.coef_"
      ],
      "metadata": {
        "id": "GPCmK2nBe8Wo"
      },
      "execution_count": null,
      "outputs": []
    },
    {
      "cell_type": "code",
      "source": [
        "model.intercept_"
      ],
      "metadata": {
        "id": "QsfE1rnkfwZc"
      },
      "execution_count": null,
      "outputs": []
    },
    {
      "cell_type": "markdown",
      "source": [
        "# 7) Model evaluation"
      ],
      "metadata": {
        "id": "m-BvE7rkgDc3"
      }
    },
    {
      "cell_type": "code",
      "source": [],
      "metadata": {
        "id": "BRwOFOWUgIHV"
      },
      "execution_count": null,
      "outputs": []
    },
    {
      "cell_type": "markdown",
      "source": [
        "# 8) model tunning and optimization"
      ],
      "metadata": {
        "id": "UDVXmRksgLHy"
      }
    },
    {
      "cell_type": "code",
      "source": [],
      "metadata": {
        "id": "vJVRcjQjgQ8f"
      },
      "execution_count": null,
      "outputs": []
    },
    {
      "cell_type": "markdown",
      "source": [
        "#9) model utilization"
      ],
      "metadata": {
        "id": "tfWaSBmpgRhH"
      }
    },
    {
      "cell_type": "code",
      "source": [],
      "metadata": {
        "id": "HEipFIqIgWLc"
      },
      "execution_count": null,
      "outputs": []
    },
    {
      "cell_type": "markdown",
      "source": [
        "#10) Development and maintence"
      ],
      "metadata": {
        "id": "eAUoFof0gWvR"
      }
    },
    {
      "cell_type": "code",
      "source": [],
      "metadata": {
        "id": "233hMx_Cge8X"
      },
      "execution_count": null,
      "outputs": []
    }
  ],
  "metadata": {
    "colab": {
      "name": "Welcome To Colab",
      "provenance": [],
      "include_colab_link": true
    },
    "kernelspec": {
      "display_name": "Python 3",
      "name": "python3"
    }
  },
  "nbformat": 4,
  "nbformat_minor": 0
}