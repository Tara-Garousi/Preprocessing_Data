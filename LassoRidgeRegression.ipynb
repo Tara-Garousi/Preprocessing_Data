{
  "nbformat": 4,
  "nbformat_minor": 0,
  "metadata": {
    "colab": {
      "provenance": [],
      "authorship_tag": "ABX9TyOhEdhmUM0Fdavx7c25jloH",
      "include_colab_link": true
    },
    "kernelspec": {
      "name": "python3",
      "display_name": "Python 3"
    },
    "language_info": {
      "name": "python"
    }
  },
  "cells": [
    {
      "cell_type": "markdown",
      "metadata": {
        "id": "view-in-github",
        "colab_type": "text"
      },
      "source": [
        "<a href=\"https://colab.research.google.com/github/ehsan74814/Preprocessing_Data/blob/main/LassoRidgeRegression.ipynb\" target=\"_parent\"><img src=\"https://colab.research.google.com/assets/colab-badge.svg\" alt=\"Open In Colab\"/></a>"
      ]
    },
    {
      "cell_type": "code",
      "execution_count": null,
      "metadata": {
        "id": "1pTsKp_djMom"
      },
      "outputs": [],
      "source": [
        "from google.colab import drive\n",
        "drive.mount('/content/drive')"
      ]
    },
    {
      "cell_type": "code",
      "source": [
        "import pandas as pd\n",
        "from sklearn.datasets import load_diabetes\n",
        "import matplotlib.pyplot as plt\n",
        "import seaborn as sns\n",
        "# insert dataset\n",
        "diabets_data = load_diabetes()\n",
        "df = pd.DataFrame(diabets_data.data, columns=diabets_data.feature_names)\n",
        "df['target'] = diabets_data.target"
      ],
      "metadata": {
        "id": "zUpCdck4mWTb"
      },
      "execution_count": 34,
      "outputs": []
    },
    {
      "cell_type": "code",
      "source": [
        "# import kagglehub\n",
        "\n",
        "# #Download latest version\n",
        "# path = kagglehub.dataset_download('mathchi/diabets-data-set')\n",
        "# print('Path to dataset files :', path)"
      ],
      "metadata": {
        "id": "cPqrrtK_moPJ"
      },
      "execution_count": null,
      "outputs": []
    },
    {
      "cell_type": "code",
      "source": [
        "df['target'].unique()"
      ],
      "metadata": {
        "id": "hN43v7tvqVU3"
      },
      "execution_count": null,
      "outputs": []
    },
    {
      "cell_type": "code",
      "source": [
        "df['target'].describe()"
      ],
      "metadata": {
        "id": "310tWKV0stMP"
      },
      "execution_count": null,
      "outputs": []
    },
    {
      "cell_type": "code",
      "source": [
        "df['target'].value_counts()"
      ],
      "metadata": {
        "id": "0uTfKJ5TtHmc"
      },
      "execution_count": null,
      "outputs": []
    },
    {
      "cell_type": "code",
      "source": [
        "plt.figure(figsize=(10, 6))\n",
        "sns.histplot(df['target'], bins=30, kde=True)\n",
        "plt.title('Distribution of Diabets Target Variable')\n",
        "plt.xlabel('Target Value')\n",
        "plt.ylabel('Frequency')\n",
        "plt.legend()\n",
        "plt.show()"
      ],
      "metadata": {
        "id": "zq6z2FHUtPvM"
      },
      "execution_count": null,
      "outputs": []
    },
    {
      "cell_type": "code",
      "source": [
        "#histpgram\n",
        "plt.figure(figsize=(15,10))\n",
        "for i, column in enumerate(df.columns[:-1]):\n",
        "  plt.subplot(3,4, i+1)\n",
        "  sns.histplot(df[column], bins=30, kde=True)\n",
        "  plt.title(f'Distribution of {column}')\n",
        "\n",
        "plt.tight_layout()\n",
        "plt.show()\n",
        "\n"
      ],
      "metadata": {
        "id": "206wFYP0yjQS"
      },
      "execution_count": null,
      "outputs": []
    },
    {
      "cell_type": "code",
      "source": [
        "plt.figure(figsize=(15,10))\n",
        "for i, column in enumerate(df.columns[:-1]):\n",
        "  plt.subplot(3,4, i+1)\n",
        "  sns.boxplot(x = df[column])\n",
        "  plt.title(f'Box plot of : {column}')\n",
        "\n",
        "plt.tight_layout()\n",
        "plt.show()"
      ],
      "metadata": {
        "id": "DhU7maxS0TN2"
      },
      "execution_count": null,
      "outputs": []
    },
    {
      "cell_type": "code",
      "source": [
        "plt.figure(figsize=(15,10))\n",
        "for i, column in enumerate(df.columns[:-1]):\n",
        "  plt.subplot(3,4, i+1)\n",
        "  sns.scatterplot(x = df[column], y = 'target', data=df)\n",
        "  plt.title(f'Box plot of : {column}')\n",
        "\n",
        "plt.tight_layout()\n",
        "plt.show()"
      ],
      "metadata": {
        "id": "B6w1pXNU1I0n"
      },
      "execution_count": null,
      "outputs": []
    },
    {
      "cell_type": "code",
      "source": [
        "correlation_matrix = df.corr()\n",
        "plt.figure(figsize=(15,10))\n",
        "sns.heatmap(correlation_matrix, annot=True, fmt='.2f',  square=True)\n",
        "\n",
        "plt.tight_layout()\n",
        "plt.show()"
      ],
      "metadata": {
        "id": "BdwyTI6G1rwI"
      },
      "execution_count": null,
      "outputs": []
    }
  ]
}