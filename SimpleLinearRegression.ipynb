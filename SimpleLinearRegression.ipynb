{
  "cells": [
    {
      "cell_type": "markdown",
      "metadata": {
        "id": "view-in-github",
        "colab_type": "text"
      },
      "source": [
        "<a href=\"https://colab.research.google.com/github/ehsan74814/Preprocessing_Data/blob/main/SimpleLinearRegression.ipynb\" target=\"_parent\"><img src=\"https://colab.research.google.com/assets/colab-badge.svg\" alt=\"Open In Colab\"/></a>"
      ]
    },
    {
      "cell_type": "markdown",
      "source": [
        "# 000) ....."
      ],
      "metadata": {
        "id": "39164vsy7GU9"
      }
    },
    {
      "cell_type": "code",
      "source": [
        "from IPython.display import Image\n",
        "display(Image(\"/content/drive/MyDrive/Training ML/simple linear regression/061836706733-web-tete.jpg\", width = 500, height = 300))"
      ],
      "metadata": {
        "id": "xKLK3xaT7K38"
      },
      "execution_count": null,
      "outputs": []
    },
    {
      "cell_type": "markdown",
      "source": [
        "## About Dataset"
      ],
      "metadata": {
        "id": "VXHrSk8o8Sv9"
      }
    },
    {
      "cell_type": "markdown",
      "source": [
        "### **We will study the sales data of one of the largest retailers in the world. Let's figure out what factors influence its revenue. Can factors such as air temperature and fuel cost influence the success of a huge company along with the purchasing power index and seasonal discounts? And how does machine learning minimize costs and increase economic impact?**\n",
        "\n",
        "**The data contains the following columns:**\n",
        "\n",
        "**Store: Store number**\n",
        "\n",
        "**Date: Sales week start date**\n",
        "\n",
        "**Weekly_Sales: Sales**\n",
        "\n",
        "**Holiday_Flag: Mark on the presence or absence of a holiday**\n",
        "\n",
        "**Temperature: Air temperature in the region**\n",
        "\n",
        "**Fuel_Price: Fuel cost in the region**\n",
        "\n",
        "**CPI: Consumer price index**\n",
        "\n",
        "**Unemployment: Unemployment rate**"
      ],
      "metadata": {
        "id": "xnhstYrg8Z7p"
      }
    },
    {
      "cell_type": "markdown",
      "source": [
        "# 00) Connect the Drive to the Colab"
      ],
      "metadata": {
        "id": "KwqSPy3QzS1P"
      }
    },
    {
      "cell_type": "code",
      "source": [
        "from google.colab import drive\n",
        "drive.mount('/content/drive')"
      ],
      "metadata": {
        "id": "P0oO79qZtS2H"
      },
      "execution_count": null,
      "outputs": []
    },
    {
      "cell_type": "markdown",
      "source": [
        "# 0) Import Libraries"
      ],
      "metadata": {
        "id": "a9m2u7O-0Esg"
      }
    },
    {
      "cell_type": "code",
      "source": [
        "import pandas as pd\n",
        "import numpy as np\n",
        "import matplotlib.pyplot as plt\n",
        "import seaborn as sns\n",
        "import warnings"
      ],
      "metadata": {
        "id": "-yiNsZT10Nhh"
      },
      "execution_count": 4,
      "outputs": []
    },
    {
      "cell_type": "markdown",
      "source": [
        "## Additions"
      ],
      "metadata": {
        "id": "8OxYX8hX3Sze"
      }
    },
    {
      "cell_type": "code",
      "source": [
        "plt.style.use(\"fivethirtyeight\")\n",
        "warnings.filterwarnings('ignore')\n",
        "pd.options.display.float_format = \"{:,.0f}\".format"
      ],
      "metadata": {
        "id": "yJG8ADt_1F-f"
      },
      "execution_count": 36,
      "outputs": []
    },
    {
      "cell_type": "markdown",
      "source": [
        "# 1) Problem Definition\n"
      ],
      "metadata": {
        "id": "eaW9APq_wDsC"
      }
    },
    {
      "cell_type": "markdown",
      "source": [
        "## what is the goal ? which problem will the algorithm we want to design solve?"
      ],
      "metadata": {
        "id": "fDL41pgBwkC3"
      }
    },
    {
      "cell_type": "code",
      "source": [],
      "metadata": {
        "id": "epV1DJU6yspy"
      },
      "execution_count": null,
      "outputs": []
    },
    {
      "cell_type": "markdown",
      "source": [
        "# 2) Data acquisition"
      ],
      "metadata": {
        "id": "-c0Hejucy6JM"
      }
    },
    {
      "cell_type": "code",
      "source": [],
      "metadata": {
        "id": "ppU4JSuQy_DG"
      },
      "execution_count": null,
      "outputs": []
    },
    {
      "cell_type": "markdown",
      "source": [
        "# 3) Data preprocessing"
      ],
      "metadata": {
        "id": "IQNNuq0Wz0c6"
      }
    },
    {
      "cell_type": "code",
      "source": [
        "df = pd.read_csv(\"/content/drive/MyDrive/Training ML/simple linear regression/Walmart_Sales.csv\")"
      ],
      "metadata": {
        "id": "3AK3qBVez-v1"
      },
      "execution_count": 6,
      "outputs": []
    },
    {
      "cell_type": "code",
      "source": [
        "# Quick review of primary data\n",
        "df.head(10)"
      ],
      "metadata": {
        "id": "05LvQeRU03Kh"
      },
      "execution_count": null,
      "outputs": []
    },
    {
      "cell_type": "code",
      "source": [
        "# Statistical descriptions\n",
        "df.describe()"
      ],
      "metadata": {
        "id": "aDGTOssf_KCv"
      },
      "execution_count": null,
      "outputs": []
    },
    {
      "cell_type": "code",
      "source": [
        "# convert columns name to lower case ====> goal ===> Avoid possible errors\n",
        "df.columns = df.columns.str.lower()"
      ],
      "metadata": {
        "id": "FjDAwLuHCiuq"
      },
      "execution_count": 9,
      "outputs": []
    },
    {
      "cell_type": "code",
      "source": [
        "# checking null\n",
        "df.isnull().sum()"
      ],
      "metadata": {
        "id": "ftCdeVRiDOVP"
      },
      "execution_count": null,
      "outputs": []
    },
    {
      "cell_type": "code",
      "source": [
        "# checking duplicated\n",
        "df.duplicated().sum()"
      ],
      "metadata": {
        "id": "tqTQ3ODLEFAc"
      },
      "execution_count": null,
      "outputs": []
    },
    {
      "cell_type": "code",
      "source": [
        "# Correcting the data format\n",
        "df[\"date\"] = pd.to_datetime(df[\"date\"], format=\"%d-%m-%Y\")"
      ],
      "metadata": {
        "id": "0ewE9zCrERlb"
      },
      "execution_count": 12,
      "outputs": []
    },
    {
      "cell_type": "code",
      "source": [
        "# Separation of seasons\n",
        "def seasionsGetter(quarter):\n",
        "  if quarter == 1:\n",
        "    return \"Winter\"\n",
        "  elif quarter == 2:\n",
        "    return \"Spring\"\n",
        "  elif quarter == 3:\n",
        "    return \"Summer\"\n",
        "  else:\n",
        "    return \"Fall\""
      ],
      "metadata": {
        "id": "8Ft-IySiGVoh"
      },
      "execution_count": 13,
      "outputs": []
    },
    {
      "cell_type": "code",
      "source": [
        "# year == > quarter ==> seasons ==> month == > week ==>\n",
        "# To add a year column\n",
        "df[\"year\"] = df[\"date\"].dt.year\n",
        "\n",
        "# To add a quarter column ( q1, q2, q3, q4)\n",
        "df[\"quarter\"] = df[\"date\"].dt.quarter\n",
        "\n",
        "# To add a Seasons column\n",
        "df[\"Season\"] = df[\"quarter\"].apply(seasionsGetter)\n",
        "\n",
        "# To add a month column\n",
        "df[\"month\"] = df[\"date\"].dt.month\n",
        "\n",
        "# To add a month name column\n",
        "df[\"month_name\"] = df[\"date\"].dt.month_name()\n",
        "\n",
        "#To add a week column\n",
        "df[\"week\"] = df[\"date\"].dt.isocalendar().week\n",
        "\n",
        "#To add a day name column\n",
        "df[\"day_of_week\"] = df[\"date\"].dt.day_name()"
      ],
      "metadata": {
        "id": "aQcLmEAUHHvx"
      },
      "execution_count": null,
      "outputs": []
    },
    {
      "cell_type": "code",
      "source": [
        "newDf = df.drop([\"store\", \"date\"],axis=1, inplace= False)"
      ],
      "metadata": {
        "id": "7xY0VaT2xkQV"
      },
      "execution_count": null,
      "outputs": []
    },
    {
      "cell_type": "markdown",
      "source": [
        "# Visualization"
      ],
      "metadata": {
        "id": "fzLBiFO3w4xS"
      }
    },
    {
      "cell_type": "code",
      "source": [
        "newDf[[\"weekly_sales\", \"temperature\", \"fuel_price\",\t\"cpi\",\t\"unemployment\"]].describe()"
      ],
      "metadata": {
        "id": "IYv4l-VMyekD"
      },
      "execution_count": null,
      "outputs": []
    },
    {
      "cell_type": "code",
      "source": [
        "columns = [\"weekly_sales\", \"temperature\", \"fuel_price\",\t\"cpi\",\t\"unemployment\"]\n",
        "\n",
        "plt.style.use(\"fivethirtyeight\")\n",
        "\n",
        "plt.figure(figsize=(10,12))\n",
        "for i,col in enumerate(columns):\n",
        "  plt.subplot(3,2, i+1)\n",
        "  sns.histplot(data = newDf, x=col, kde = True, bins = round(np.sqrt(len(newDf))))\n",
        "plt.show()"
      ],
      "metadata": {
        "id": "B-Z5ymOLy0zB"
      },
      "execution_count": null,
      "outputs": []
    },
    {
      "cell_type": "code",
      "source": [
        "!apt-get install git"
      ],
      "metadata": {
        "id": "fsOni29m1P0G"
      },
      "execution_count": null,
      "outputs": []
    },
    {
      "cell_type": "code",
      "source": [
        "! git clone https://github.com/ehsan74814/Preprocessing_Data"
      ],
      "metadata": {
        "colab": {
          "base_uri": "https://localhost:8080/"
        },
        "id": "ppKx2iikBjUb",
        "outputId": "a54adbf5-74ac-4929-f84d-f5bb0d042324"
      },
      "execution_count": 43,
      "outputs": [
        {
          "output_type": "stream",
          "name": "stdout",
          "text": [
            "Cloning into 'Preprocessing_Data'...\n",
            "remote: Enumerating objects: 28, done.\u001b[K\n",
            "remote: Counting objects: 100% (28/28), done.\u001b[K\n",
            "remote: Compressing objects: 100% (24/24), done.\u001b[K\n",
            "remote: Total 28 (delta 10), reused 13 (delta 2), pack-reused 0 (from 0)\u001b[K\n",
            "Receiving objects: 100% (28/28), 69.66 KiB | 17.41 MiB/s, done.\n",
            "Resolving deltas: 100% (10/10), done.\n"
          ]
        }
      ]
    },
    {
      "cell_type": "code",
      "source": [
        "!git add ."
      ],
      "metadata": {
        "colab": {
          "base_uri": "https://localhost:8080/"
        },
        "id": "JrZ_BdVvBxuq",
        "outputId": "61ca89a5-b4ba-4989-f431-8c9dfd6e50e3"
      },
      "execution_count": 44,
      "outputs": [
        {
          "output_type": "stream",
          "name": "stdout",
          "text": [
            "fatal: not a git repository (or any of the parent directories): .git\n"
          ]
        }
      ]
    },
    {
      "cell_type": "code",
      "source": [
        "! git commit -m \"second commit\""
      ],
      "metadata": {
        "colab": {
          "base_uri": "https://localhost:8080/"
        },
        "id": "_fibdGNBB2Hm",
        "outputId": "716e6a0b-67a3-46ba-a6c3-07030cb46b30"
      },
      "execution_count": 45,
      "outputs": [
        {
          "output_type": "stream",
          "name": "stdout",
          "text": [
            "fatal: not a git repository (or any of the parent directories): .git\n"
          ]
        }
      ]
    },
    {
      "cell_type": "code",
      "source": [
        "!git push origin main"
      ],
      "metadata": {
        "colab": {
          "base_uri": "https://localhost:8080/"
        },
        "id": "_8N4HYgwB8DC",
        "outputId": "27d73595-e5d7-4c77-e7e9-7149b342b3c8"
      },
      "execution_count": 46,
      "outputs": [
        {
          "output_type": "stream",
          "name": "stdout",
          "text": [
            "fatal: not a git repository (or any of the parent directories): .git\n"
          ]
        }
      ]
    },
    {
      "cell_type": "code",
      "source": [
        "!git clone \"https://github.com/ehsan74814/Preprocessing_Data\""
      ],
      "metadata": {
        "id": "m1xgs29GCBQG"
      },
      "execution_count": null,
      "outputs": []
    },
    {
      "cell_type": "code",
      "source": [
        "%cd repository"
      ],
      "metadata": {
        "colab": {
          "base_uri": "https://localhost:8080/"
        },
        "id": "NWiFHGqXCob3",
        "outputId": "7f41a670-51d0-4e35-90b8-709682e0367d"
      },
      "execution_count": 51,
      "outputs": [
        {
          "output_type": "stream",
          "name": "stdout",
          "text": [
            "[Errno 2] No such file or directory: 'repository'\n",
            "/content\n"
          ]
        }
      ]
    },
    {
      "cell_type": "code",
      "source": [
        "!git push add origin main"
      ],
      "metadata": {
        "colab": {
          "base_uri": "https://localhost:8080/"
        },
        "id": "9LAbDj09Cvld",
        "outputId": "60b4f829-2469-4c74-d582-695555995f41"
      },
      "execution_count": 52,
      "outputs": [
        {
          "output_type": "stream",
          "name": "stdout",
          "text": [
            "fatal: not a git repository (or any of the parent directories): .git\n"
          ]
        }
      ]
    },
    {
      "cell_type": "code",
      "source": [],
      "metadata": {
        "id": "V9wlk9GRDFa5"
      },
      "execution_count": null,
      "outputs": []
    }
  ],
  "metadata": {
    "colab": {
      "name": "Welcome To Colab",
      "provenance": [],
      "include_colab_link": true
    },
    "kernelspec": {
      "display_name": "Python 3",
      "name": "python3"
    }
  },
  "nbformat": 4,
  "nbformat_minor": 0
}