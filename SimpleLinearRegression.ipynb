{
  "cells": [
    {
      "cell_type": "markdown",
      "metadata": {
        "id": "view-in-github",
        "colab_type": "text"
      },
      "source": [
        "<a href=\"https://colab.research.google.com/github/ehsan74814/Preprocessing_Data/blob/main/SimpleLinearRegression.ipynb\" target=\"_parent\"><img src=\"https://colab.research.google.com/assets/colab-badge.svg\" alt=\"Open In Colab\"/></a>"
      ]
    },
    {
      "cell_type": "markdown",
      "source": [
        "# 000) ....."
      ],
      "metadata": {
        "id": "39164vsy7GU9"
      }
    },
    {
      "cell_type": "code",
      "source": [
        "from IPython.display import Image\n",
        "display(Image(\"/content/drive/MyDrive/Training ML/simple linear regression/061836706733-web-tete.jpg\", width = 500, height = 300))"
      ],
      "metadata": {
        "id": "xKLK3xaT7K38"
      },
      "execution_count": null,
      "outputs": []
    },
    {
      "cell_type": "markdown",
      "source": [
        "## About Dataset"
      ],
      "metadata": {
        "id": "VXHrSk8o8Sv9"
      }
    },
    {
      "cell_type": "markdown",
      "source": [
        "### **We will study the sales data of one of the largest retailers in the world. Let's figure out what factors influence its revenue. Can factors such as air temperature and fuel cost influence the success of a huge company along with the purchasing power index and seasonal discounts? And how does machine learning minimize costs and increase economic impact?**\n",
        "\n",
        "**The data contains the following columns:**\n",
        "\n",
        "**Store: Store number**\n",
        "\n",
        "**Date: Sales week start date**\n",
        "\n",
        "**Weekly_Sales: Sales**\n",
        "\n",
        "**Holiday_Flag: Mark on the presence or absence of a holiday**\n",
        "\n",
        "**Temperature: Air temperature in the region**\n",
        "\n",
        "**Fuel_Price: Fuel cost in the region**\n",
        "\n",
        "**CPI: Consumer price index**\n",
        "\n",
        "**Unemployment: Unemployment rate**"
      ],
      "metadata": {
        "id": "xnhstYrg8Z7p"
      }
    },
    {
      "cell_type": "markdown",
      "source": [
        "# 00) Connect the Drive to the Colab"
      ],
      "metadata": {
        "id": "KwqSPy3QzS1P"
      }
    },
    {
      "cell_type": "code",
      "source": [
        "from google.colab import drive\n",
        "drive.mount('/content/drive')"
      ],
      "metadata": {
        "id": "P0oO79qZtS2H"
      },
      "execution_count": null,
      "outputs": []
    },
    {
      "cell_type": "markdown",
      "source": [
        "# 0) Import Libraries"
      ],
      "metadata": {
        "id": "a9m2u7O-0Esg"
      }
    },
    {
      "cell_type": "code",
      "source": [
        "import pandas as pd\n",
        "import numpy as np\n",
        "import matplotlib.pyplot as plt\n",
        "import seaborn as sns\n",
        "import warnings"
      ],
      "metadata": {
        "id": "-yiNsZT10Nhh"
      },
      "execution_count": 20,
      "outputs": []
    },
    {
      "cell_type": "markdown",
      "source": [
        "## Additions"
      ],
      "metadata": {
        "id": "8OxYX8hX3Sze"
      }
    },
    {
      "cell_type": "code",
      "source": [
        "warnings.filterwarnings('ignore')\n",
        "plt.style.use(style=\"fivethirtyeight\")\n",
        "pd.options.display.float_format = \"{:,.0f}\".format"
      ],
      "metadata": {
        "id": "yJG8ADt_1F-f"
      },
      "execution_count": 30,
      "outputs": []
    },
    {
      "cell_type": "markdown",
      "source": [
        "# 1) Problem Definition\n"
      ],
      "metadata": {
        "id": "eaW9APq_wDsC"
      }
    },
    {
      "cell_type": "markdown",
      "source": [
        "## what is the goal ? which problem will the algorithm we want to design solve?"
      ],
      "metadata": {
        "id": "fDL41pgBwkC3"
      }
    },
    {
      "cell_type": "code",
      "source": [],
      "metadata": {
        "id": "epV1DJU6yspy"
      },
      "execution_count": null,
      "outputs": []
    },
    {
      "cell_type": "markdown",
      "source": [
        "# 2) Data acquisition"
      ],
      "metadata": {
        "id": "-c0Hejucy6JM"
      }
    },
    {
      "cell_type": "code",
      "source": [],
      "metadata": {
        "id": "ppU4JSuQy_DG"
      },
      "execution_count": null,
      "outputs": []
    },
    {
      "cell_type": "markdown",
      "source": [
        "# 3) Data preprocessing"
      ],
      "metadata": {
        "id": "IQNNuq0Wz0c6"
      }
    },
    {
      "cell_type": "code",
      "source": [
        "df = pd.read_csv(\"/content/drive/MyDrive/Training ML/simple linear regression/Walmart_Sales.csv\")"
      ],
      "metadata": {
        "id": "3AK3qBVez-v1"
      },
      "execution_count": 31,
      "outputs": []
    },
    {
      "cell_type": "code",
      "source": [
        "# Quick review of primary data\n",
        "df.head(10)"
      ],
      "metadata": {
        "id": "05LvQeRU03Kh"
      },
      "execution_count": null,
      "outputs": []
    },
    {
      "cell_type": "code",
      "source": [
        "# Statistical descriptions\n",
        "df.describe()"
      ],
      "metadata": {
        "id": "aDGTOssf_KCv"
      },
      "execution_count": null,
      "outputs": []
    },
    {
      "cell_type": "code",
      "source": [
        "# convert columns name to lower case ====> goal ===> Avoid possible errors\n",
        "df.columns = df.columns.str.lower()"
      ],
      "metadata": {
        "id": "FjDAwLuHCiuq"
      },
      "execution_count": 42,
      "outputs": []
    },
    {
      "cell_type": "code",
      "source": [
        "# checking null\n",
        "df.isnull().sum()"
      ],
      "metadata": {
        "id": "ftCdeVRiDOVP"
      },
      "execution_count": null,
      "outputs": []
    },
    {
      "cell_type": "code",
      "source": [
        "# checking duplicated\n",
        "df.duplicated().sum()"
      ],
      "metadata": {
        "id": "tqTQ3ODLEFAc"
      },
      "execution_count": null,
      "outputs": []
    },
    {
      "cell_type": "code",
      "source": [
        "# Correcting the data format\n",
        "df[\"date\"] = pd.to_datetime(df[\"date\"], format=\"%d-%m-%Y\")"
      ],
      "metadata": {
        "id": "0ewE9zCrERlb"
      },
      "execution_count": null,
      "outputs": []
    },
    {
      "cell_type": "code",
      "source": [
        "# Separation of seasons\n",
        "def seasionsGetter(quarter):\n",
        "  if quarter == 1:\n",
        "    return \"Winter\"\n",
        "  elif quarter == 2:\n",
        "    return \"Spring\"\n",
        "  elif quarter == 3:\n",
        "    return \"Summer\"\n",
        "  else:\n",
        "    return \"Fall\""
      ],
      "metadata": {
        "id": "8Ft-IySiGVoh"
      },
      "execution_count": 59,
      "outputs": []
    },
    {
      "cell_type": "code",
      "source": [
        "# year == > quarter ==> seasons ==> month == > week ==>\n",
        "# To add a year column\n",
        "df[\"year\"] = df[\"date\"].dt.year\n",
        "\n",
        "# To add a quarter column ( q1, q2, q3, q4)\n",
        "df[\"quarter\"] = df[\"date\"].dt.quarter\n",
        "\n",
        "# To add a Seasons column\n",
        "df[\"Season\"] = df[\"quarter\"].apply(seasionsGetter)\n",
        "\n",
        "# To add a month column\n",
        "df[\"month\"] = df[\"date\"].dt.month\n",
        "\n",
        "# To add a month name column\n",
        "df[\"month_name\"] = df[\"date\"].dt.month_name()\n",
        "\n",
        "#To add a week column\n",
        "df[\"week\"] = df[\"date\"].dt.isocalendar().week\n",
        "\n",
        "#To add a day name column\n",
        "df[\"day_of_week\"] = df[\"date\"].dt.day_name()"
      ],
      "metadata": {
        "id": "aQcLmEAUHHvx"
      },
      "execution_count": null,
      "outputs": []
    }
  ],
  "metadata": {
    "colab": {
      "name": "Welcome To Colab",
      "provenance": [],
      "include_colab_link": true
    },
    "kernelspec": {
      "display_name": "Python 3",
      "name": "python3"
    }
  },
  "nbformat": 4,
  "nbformat_minor": 0
}